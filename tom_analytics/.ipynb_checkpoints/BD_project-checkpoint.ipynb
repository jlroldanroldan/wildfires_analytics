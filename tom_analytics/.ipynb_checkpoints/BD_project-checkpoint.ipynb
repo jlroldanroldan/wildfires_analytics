{
 "cells": [
  {
   "cell_type": "code",
   "execution_count": 1,
   "metadata": {},
   "outputs": [
    {
     "ename": "ModuleNotFoundError",
     "evalue": "No module named 'rioxarray'",
     "output_type": "error",
     "traceback": [
      "\u001b[0;31m---------------------------------------------------------------------------\u001b[0m",
      "\u001b[0;31mModuleNotFoundError\u001b[0m                       Traceback (most recent call last)",
      "\u001b[0;32m<ipython-input-1-87406511699f>\u001b[0m in \u001b[0;36m<module>\u001b[0;34m\u001b[0m\n\u001b[1;32m     14\u001b[0m \u001b[0;32mimport\u001b[0m \u001b[0mearthpy\u001b[0m\u001b[0;34m.\u001b[0m\u001b[0mmask\u001b[0m \u001b[0;32mas\u001b[0m \u001b[0mem\u001b[0m\u001b[0;34m\u001b[0m\u001b[0;34m\u001b[0m\u001b[0m\n\u001b[1;32m     15\u001b[0m \u001b[0;34m\u001b[0m\u001b[0m\n\u001b[0;32m---> 16\u001b[0;31m \u001b[0;32mimport\u001b[0m \u001b[0mrioxarray\u001b[0m \u001b[0;32mas\u001b[0m \u001b[0mrxr\u001b[0m\u001b[0;34m\u001b[0m\u001b[0;34m\u001b[0m\u001b[0m\n\u001b[0m\u001b[1;32m     17\u001b[0m \u001b[0;34m\u001b[0m\u001b[0m\n\u001b[1;32m     18\u001b[0m \u001b[0mwarnings\u001b[0m\u001b[0;34m.\u001b[0m\u001b[0msimplefilter\u001b[0m\u001b[0;34m(\u001b[0m\u001b[0;34m'ignore'\u001b[0m\u001b[0;34m)\u001b[0m\u001b[0;34m\u001b[0m\u001b[0;34m\u001b[0m\u001b[0m\n",
      "\u001b[0;31mModuleNotFoundError\u001b[0m: No module named 'rioxarray'"
     ]
    }
   ],
   "source": [
    "# Import packages\n",
    "import os\n",
    "import re  # regular expressions\n",
    "import warnings\n",
    "import matplotlib.pyplot as plt\n",
    "import numpy as np\n",
    "import numpy.ma as ma\n",
    "import rasterio as rio\n",
    "from rasterio.plot import plotting_extent\n",
    "import geopandas as gpd\n",
    "import earthpy as et\n",
    "import earthpy.plot as ep\n",
    "import earthpy.spatial as es\n",
    "import earthpy.mask as em\n",
    "\n",
    "import rioxarray as rxr\n",
    "\n",
    "warnings.simplefilter('ignore')\n",
    "\n",
    "# Set working directory\n",
    "os.chdir(os.path.join(et.io.HOME, 'BD', 'BA_DATA'))"
   ]
  },
  {
   "cell_type": "code",
   "execution_count": null,
   "metadata": {},
   "outputs": [],
   "source": [
    "thermal_path = os.path.join(\"ThermalData_8day\", \"MOD14A2.A2000049.h08v05.006.2015041131440.hdf\")"
   ]
  },
  {
   "cell_type": "code",
   "execution_count": null,
   "metadata": {},
   "outputs": [],
   "source": [
    "vege_path = os.path.join(\"VegeData_16day\", \"MOD13A2.A2000049.h08v05.006.2015136104428.hdf\")"
   ]
  },
  {
   "cell_type": "code",
   "execution_count": null,
   "metadata": {},
   "outputs": [],
   "source": [
    "with rio.open(thermal_path) as dataset:\n",
    "    print(dataset)\n",
    "    hdf4_meta = dataset.meta\n",
    "\n",
    "# Notice that there are metadata at the highest level of the file\n",
    "hdf4_meta"
   ]
  },
  {
   "cell_type": "code",
   "execution_count": null,
   "metadata": {},
   "outputs": [],
   "source": [
    "# Print all of the subdatasets in the data\n",
    "with rio.open(thermal_path) as dataset:\n",
    "    crs = dataset.read_crs()\n",
    "    for name in dataset.subdatasets:\n",
    "        print(name)"
   ]
  },
  {
   "cell_type": "code",
   "execution_count": null,
   "metadata": {},
   "outputs": [],
   "source": [
    "# Create empty list to append arrays (of band data)\n",
    "all_bands = []\n",
    "\n",
    "# Open the pre-fire HDF4 file\n",
    "with rio.open(thermal_path) as dataset:\n",
    "    \n",
    "    # Loop through each subdataset in HDF4 file\n",
    "    for name in dataset.subdatasets:\n",
    "        \n",
    "        # Use regular expression to identify if subdataset has b0 in the name (the bands)\n",
    "        if re.search(\"FireMask\", name):\n",
    "            \n",
    "            # Open the band subdataset\n",
    "            with rio.open(name) as subdataset:\n",
    "                modis_meta = subdataset.profile\n",
    "                \n",
    "                # Read band data as a 2 dim arr and append to list\n",
    "                all_bands.append(subdataset.read(1))\n",
    "\n",
    "# Stack pre-fire reflectance bands\n",
    "thermal_modis = np.stack(all_bands)\n",
    "thermal_modis.shape"
   ]
  },
  {
   "cell_type": "code",
   "execution_count": null,
   "metadata": {},
   "outputs": [],
   "source": [
    "ep.plot_bands(thermal_modis,\n",
    "              scale=False)\n",
    "plt.show()"
   ]
  },
  {
   "cell_type": "code",
   "execution_count": null,
   "metadata": {},
   "outputs": [],
   "source": [
    "np.savetxt(\"thermalData.csv\", all_bands[0], delimiter=\",\")"
   ]
  },
  {
   "cell_type": "code",
   "execution_count": null,
   "metadata": {},
   "outputs": [],
   "source": [
    "modis_meta"
   ]
  },
  {
   "cell_type": "code",
   "execution_count": null,
   "metadata": {},
   "outputs": [],
   "source": [
    "!unpack_sds_bits -sds=QA  -bit=0-1 -of=QA_bits_test.hdf ThermalData_8day/MOD14A2.A2000049.h08v05.006.2015041131440.hdf"
   ]
  },
  {
   "cell_type": "code",
   "execution_count": null,
   "metadata": {},
   "outputs": [],
   "source": [
    "!mask_sds -of=thermal_mask_test.hdf -sds=FireMask -fill=-1 -mask=\"ThermalData_8day/MOD14A2.A2000049.h08v05.006.2015041131440.hdf,QA,0-1>00\" ThermalData_8day/MOD14A2.A2000049.h08v05.006.2015041131440.hdf  "
   ]
  },
  {
   "cell_type": "code",
   "execution_count": null,
   "metadata": {},
   "outputs": [],
   "source": [
    "for idx in range(10):\n",
    "    !mask_sds -of=thermal_masked/{idx} -sds=FireMask -fill=-1 -mask=\"ThermalData_8day/{idx},QA,0-1>00\" ThermalData_8day/{idx}  "
   ]
  },
  {
   "cell_type": "code",
   "execution_count": null,
   "metadata": {},
   "outputs": [],
   "source": [
    "with rio.open(vege_path) as dataset:\n",
    "    print(dataset)\n",
    "    hdf4_meta = dataset.meta\n",
    "\n",
    "# Notice that there are metadata at the highest level of the file\n",
    "hdf4_meta"
   ]
  },
  {
   "cell_type": "code",
   "execution_count": null,
   "metadata": {},
   "outputs": [],
   "source": [
    "# Print all of the subdatasets in the data\n",
    "with rio.open(vege_path) as dataset:\n",
    "    crs = dataset.read_crs()\n",
    "    for name in dataset.subdatasets:\n",
    "        print(name)"
   ]
  },
  {
   "cell_type": "code",
   "execution_count": null,
   "metadata": {},
   "outputs": [],
   "source": []
  },
  {
   "cell_type": "code",
   "execution_count": null,
   "metadata": {},
   "outputs": [],
   "source": [
    "# Create empty list to append arrays (of band data)\n",
    "all_bands = []\n",
    "\n",
    "# Open the pre-fire HDF4 file\n",
    "with rio.open(vege_path) as dataset:\n",
    "    \n",
    "    # Loop through each subdataset in HDF4 file\n",
    "    for name in dataset.subdatasets:\n",
    "        \n",
    "        # Use regular expression to identify if subdataset has b0 in the name (the bands)\n",
    "        if re.search(\"NDVI\", name):\n",
    "            \n",
    "            # Open the band subdataset\n",
    "            with rio.open(name) as subdataset:\n",
    "                modis_meta = subdataset.profile\n",
    "                \n",
    "                # Read band data as a 2 dim arr and append to list\n",
    "                all_bands.append(subdataset.read(1))\n",
    "\n",
    "# Stack pre-fire reflectance bands\n",
    "vege_modis = np.stack(all_bands)\n",
    "vege_modis.shape"
   ]
  },
  {
   "cell_type": "code",
   "execution_count": null,
   "metadata": {},
   "outputs": [],
   "source": [
    "ep.plot_bands(vege_modis,\n",
    "              scale=False)\n",
    "plt.show()"
   ]
  },
  {
   "cell_type": "code",
   "execution_count": null,
   "metadata": {},
   "outputs": [],
   "source": [
    "np.savetxt(\"vegeData.csv\", vege_modis[0], delimiter=\",\")"
   ]
  },
  {
   "cell_type": "code",
   "execution_count": null,
   "metadata": {},
   "outputs": [],
   "source": []
  }
 ],
 "metadata": {
  "kernelspec": {
   "display_name": "Python 3",
   "language": "python",
   "name": "python3"
  },
  "language_info": {
   "codemirror_mode": {
    "name": "ipython",
    "version": 3
   },
   "file_extension": ".py",
   "mimetype": "text/x-python",
   "name": "python",
   "nbconvert_exporter": "python",
   "pygments_lexer": "ipython3",
   "version": "3.7.9"
  }
 },
 "nbformat": 4,
 "nbformat_minor": 2
}
