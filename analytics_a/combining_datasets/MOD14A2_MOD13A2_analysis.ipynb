{
 "cells": [
  {
   "cell_type": "markdown",
   "metadata": {},
   "source": [
    "# Combining Datasets \n",
    "## MOD14A2 analysis (thermal anomalies)"
   ]
  },
  {
   "cell_type": "code",
   "execution_count": 2,
   "metadata": {},
   "outputs": [],
   "source": [
    "# Import packages\n",
    "import os\n",
    "import re  # regular expressions\n",
    "import warnings\n",
    "import matplotlib.pyplot as plt\n",
    "import numpy as np\n",
    "import numpy.ma as ma\n",
    "import rasterio as rio\n",
    "from rasterio.plot import plotting_extent\n",
    "import geopandas as gpd\n",
    "import earthpy as et\n",
    "import earthpy.plot as ep\n",
    "import earthpy.spatial as es\n",
    "import earthpy.mask as em\n",
    "\n",
    "warnings.simplefilter('ignore')\n",
    "\n",
    "# Set working directory\n",
    "os.chdir(os.path.join(et.io.HOME, 'nyu', 'rbda_project_data'))\n"
   ]
  },
  {
   "cell_type": "code",
   "execution_count": 3,
   "metadata": {},
   "outputs": [],
   "source": [
    "# Create a path to the pre-fire MODIS h4 data\n",
    "thermal_anomalies_path = os.path.join(\"thermal_anomalies_11_27_test_2018_2019\",\n",
    "                             \"MOD14A2.A2018121.h08v04.006.2018129234132.hdf\")"
   ]
  },
  {
   "cell_type": "code",
   "execution_count": 4,
   "metadata": {},
   "outputs": [
    {
     "name": "stdout",
     "output_type": "stream",
     "text": [
      "<open DatasetReader name='thermal_anomalies_11_27_test_2018_2019/MOD14A2.A2018121.h08v04.006.2018129234132.hdf' mode='r'>\n"
     ]
    },
    {
     "data": {
      "text/plain": [
       "{'driver': 'HDF4',\n",
       " 'dtype': 'float_',\n",
       " 'nodata': None,\n",
       " 'width': 512,\n",
       " 'height': 512,\n",
       " 'count': 0,\n",
       " 'crs': None,\n",
       " 'transform': Affine(1.0, 0.0, 0.0,\n",
       "        0.0, 1.0, 0.0)}"
      ]
     },
     "execution_count": 4,
     "metadata": {},
     "output_type": "execute_result"
    }
   ],
   "source": [
    "# View dataset metadata\n",
    "with rio.open(thermal_anomalies_path) as dataset:\n",
    "    print(dataset)\n",
    "    hdf4_meta = dataset.meta\n",
    "\n",
    "# Notice that there are metadata at the highest level of the file\n",
    "hdf4_meta\n"
   ]
  },
  {
   "cell_type": "code",
   "execution_count": 5,
   "metadata": {},
   "outputs": [
    {
     "name": "stdout",
     "output_type": "stream",
     "text": [
      "HDF4_EOS:EOS_GRID:thermal_anomalies_11_27_test_2018_2019/MOD14A2.A2018121.h08v04.006.2018129234132.hdf:MODIS_Grid_8Day_Fire:FireMask\n",
      "HDF4_EOS:EOS_GRID:thermal_anomalies_11_27_test_2018_2019/MOD14A2.A2018121.h08v04.006.2018129234132.hdf:MODIS_Grid_8Day_Fire:QA\n"
     ]
    }
   ],
   "source": [
    "# Print all of the subdatasets in the data\n",
    "with rio.open(thermal_anomalies_path) as dataset:\n",
    "    crs = dataset.read_crs()\n",
    "    for name in dataset.subdatasets:\n",
    "        print(name)\n"
   ]
  },
  {
   "cell_type": "code",
   "execution_count": 6,
   "metadata": {},
   "outputs": [
    {
     "data": {
      "text/plain": [
       "numpy.ndarray"
      ]
     },
     "execution_count": 6,
     "metadata": {},
     "output_type": "execute_result"
    }
   ],
   "source": [
    "# Create list to append arrays (of all type of data)\n",
    "thermal_anomalies_data = []\n",
    "thermal_anomalies_names = []\n",
    "\n",
    "# Open the precipitation HDF5 file \n",
    "with rio.open(thermal_anomalies_path) as dataset:\n",
    "    \n",
    "    # loop through each subdataset in HDF5 file\n",
    "    for name in dataset.subdatasets:\n",
    "        \n",
    "        # Open the subdataset \n",
    "        with rio.open(name) as subdataset:\n",
    "            modis_meta = subdataset.profile\n",
    "            \n",
    "            # Read data as a  2 dimensional array and append to list\n",
    "            thermal_anomalies_data.append(subdataset.read(1))\n",
    "            thermal_anomalies_names.append(name);\n",
    "#             np.savetxt(str(name)[-10:-1] + \".csv\", subdataset.read(1), delimiter=\",\")\n",
    "\n",
    "            \n",
    "type(thermal_anomalies_data[0])"
   ]
  },
  {
   "cell_type": "code",
   "execution_count": 7,
   "metadata": {},
   "outputs": [
    {
     "data": {
      "text/plain": [
       "array([[3, 3, 3, ..., 4, 4, 4],\n",
       "       [3, 3, 3, ..., 4, 4, 4],\n",
       "       [3, 3, 3, ..., 4, 4, 3],\n",
       "       ...,\n",
       "       [3, 3, 3, ..., 5, 5, 5],\n",
       "       [3, 3, 3, ..., 5, 5, 5],\n",
       "       [3, 3, 3, ..., 5, 5, 5]], dtype=uint8)"
      ]
     },
     "execution_count": 7,
     "metadata": {},
     "output_type": "execute_result"
    }
   ],
   "source": [
    "thermal_anomalies_data[0]"
   ]
  },
  {
   "cell_type": "code",
   "execution_count": 8,
   "metadata": {},
   "outputs": [
    {
     "data": {
      "text/plain": [
       "(1200, 1200)"
      ]
     },
     "execution_count": 8,
     "metadata": {},
     "output_type": "execute_result"
    }
   ],
   "source": [
    "thermal_anomalies_data[0].shape"
   ]
  },
  {
   "cell_type": "code",
   "execution_count": 9,
   "metadata": {},
   "outputs": [
    {
     "data": {
      "text/plain": [
       "array([[4, 4, 4, ..., 4, 4, 4],\n",
       "       [4, 4, 4, ..., 4, 4, 4],\n",
       "       [4, 4, 4, ..., 4, 4, 4],\n",
       "       ...,\n",
       "       [4, 4, 4, ..., 6, 6, 6],\n",
       "       [4, 4, 4, ..., 6, 6, 6],\n",
       "       [4, 4, 4, ..., 6, 6, 6]], dtype=uint8)"
      ]
     },
     "execution_count": 9,
     "metadata": {},
     "output_type": "execute_result"
    }
   ],
   "source": [
    "thermal_anomalies_data[1]"
   ]
  },
  {
   "cell_type": "code",
   "execution_count": 10,
   "metadata": {},
   "outputs": [
    {
     "data": {
      "text/plain": [
       "(1200, 1200)"
      ]
     },
     "execution_count": 10,
     "metadata": {},
     "output_type": "execute_result"
    }
   ],
   "source": [
    "thermal_anomalies_data[1].shape"
   ]
  },
  {
   "cell_type": "markdown",
   "metadata": {},
   "source": [
    "## MOD13A2 analysis (vegetation indices)"
   ]
  },
  {
   "cell_type": "code",
   "execution_count": 11,
   "metadata": {},
   "outputs": [],
   "source": [
    "# Create a path to the pre-fire MODIS h4 data\n",
    "vegetation_path = os.path.join(\"vegetation_indices_11_28\",\n",
    "                               \"MOD13A2.A2019113.h08v05.006.2019129235845.hdf\")\n"
   ]
  },
  {
   "cell_type": "code",
   "execution_count": 12,
   "metadata": {},
   "outputs": [
    {
     "name": "stdout",
     "output_type": "stream",
     "text": [
      "<open DatasetReader name='vegetation_indices_11_28/MOD13A2.A2019113.h08v05.006.2019129235845.hdf' mode='r'>\n"
     ]
    },
    {
     "data": {
      "text/plain": [
       "{'driver': 'HDF4',\n",
       " 'dtype': 'float_',\n",
       " 'nodata': None,\n",
       " 'width': 512,\n",
       " 'height': 512,\n",
       " 'count': 0,\n",
       " 'crs': None,\n",
       " 'transform': Affine(1.0, 0.0, 0.0,\n",
       "        0.0, 1.0, 0.0)}"
      ]
     },
     "execution_count": 12,
     "metadata": {},
     "output_type": "execute_result"
    }
   ],
   "source": [
    "# View dataset metadata\n",
    "with rio.open(vegetation_path) as dataset:\n",
    "    print(dataset)\n",
    "    hdf4_meta = dataset.meta\n",
    "\n",
    "# Notice that there are metadata at the highest level of the file\n",
    "hdf4_meta"
   ]
  },
  {
   "cell_type": "code",
   "execution_count": 13,
   "metadata": {},
   "outputs": [
    {
     "name": "stdout",
     "output_type": "stream",
     "text": [
      "HDF4_EOS:EOS_GRID:vegetation_indices_11_28/MOD13A2.A2019113.h08v05.006.2019129235845.hdf:MODIS_Grid_16DAY_1km_VI:1 km 16 days NDVI\n",
      "HDF4_EOS:EOS_GRID:vegetation_indices_11_28/MOD13A2.A2019113.h08v05.006.2019129235845.hdf:MODIS_Grid_16DAY_1km_VI:1 km 16 days relative azimuth angle\n",
      "HDF4_EOS:EOS_GRID:vegetation_indices_11_28/MOD13A2.A2019113.h08v05.006.2019129235845.hdf:MODIS_Grid_16DAY_1km_VI:1 km 16 days composite day of the year\n",
      "HDF4_EOS:EOS_GRID:vegetation_indices_11_28/MOD13A2.A2019113.h08v05.006.2019129235845.hdf:MODIS_Grid_16DAY_1km_VI:1 km 16 days pixel reliability\n",
      "HDF4_EOS:EOS_GRID:vegetation_indices_11_28/MOD13A2.A2019113.h08v05.006.2019129235845.hdf:MODIS_Grid_16DAY_1km_VI:1 km 16 days EVI\n",
      "HDF4_EOS:EOS_GRID:vegetation_indices_11_28/MOD13A2.A2019113.h08v05.006.2019129235845.hdf:MODIS_Grid_16DAY_1km_VI:1 km 16 days VI Quality\n",
      "HDF4_EOS:EOS_GRID:vegetation_indices_11_28/MOD13A2.A2019113.h08v05.006.2019129235845.hdf:MODIS_Grid_16DAY_1km_VI:1 km 16 days red reflectance\n",
      "HDF4_EOS:EOS_GRID:vegetation_indices_11_28/MOD13A2.A2019113.h08v05.006.2019129235845.hdf:MODIS_Grid_16DAY_1km_VI:1 km 16 days NIR reflectance\n",
      "HDF4_EOS:EOS_GRID:vegetation_indices_11_28/MOD13A2.A2019113.h08v05.006.2019129235845.hdf:MODIS_Grid_16DAY_1km_VI:1 km 16 days blue reflectance\n",
      "HDF4_EOS:EOS_GRID:vegetation_indices_11_28/MOD13A2.A2019113.h08v05.006.2019129235845.hdf:MODIS_Grid_16DAY_1km_VI:1 km 16 days MIR reflectance\n",
      "HDF4_EOS:EOS_GRID:vegetation_indices_11_28/MOD13A2.A2019113.h08v05.006.2019129235845.hdf:MODIS_Grid_16DAY_1km_VI:1 km 16 days view zenith angle\n",
      "HDF4_EOS:EOS_GRID:vegetation_indices_11_28/MOD13A2.A2019113.h08v05.006.2019129235845.hdf:MODIS_Grid_16DAY_1km_VI:1 km 16 days sun zenith angle\n"
     ]
    }
   ],
   "source": [
    "# Print all of the subdatasets in the data\n",
    "with rio.open(vegetation_path) as dataset:\n",
    "    crs = dataset.read_crs()\n",
    "    for name in dataset.subdatasets:\n",
    "        print(name)\n"
   ]
  },
  {
   "cell_type": "code",
   "execution_count": 14,
   "metadata": {},
   "outputs": [],
   "source": [
    "# Create list to append arrays (of all type of data)\n",
    "vegetation_data = []\n",
    "vegetation_names = []\n",
    "\n",
    "# Open the precipitation HDF5 file \n",
    "with rio.open(vegetation_path) as dataset:\n",
    "    \n",
    "    # loop through each subdataset in HDF5 file\n",
    "    for name in dataset.subdatasets:\n",
    "        \n",
    "        # Open the subdataset \n",
    "        with rio.open(name) as subdataset:\n",
    "            modis_meta = subdataset.profile\n",
    "            \n",
    "            # Read data as a  2 dimensional array and append to list\n",
    "            vegetation_data.append(subdataset.read(1))\n",
    "            vegetation_names.append(name);\n",
    "#             np.savetxt(str(name)[-10:-1] + \".csv\", subdataset.read(1), delimiter=\",\")\n",
    "\n",
    "\n",
    "vegetation_data_stacked = np.stack(vegetation_data)"
   ]
  },
  {
   "cell_type": "code",
   "execution_count": 15,
   "metadata": {},
   "outputs": [
    {
     "data": {
      "text/plain": [
       "array([[[ -3000,  -3000,  -3000, ...,   2939,   2872,   3401],\n",
       "        [ -3000,  -3000,  -3000, ...,   3547,   3502,   2666],\n",
       "        [ -3000,  -3000,  -3000, ...,   3335,   2391,   2264],\n",
       "        ...,\n",
       "        [  2472,   2442,   2428, ...,   1564,   1744,   1721],\n",
       "        [  2276,   2289,   2374, ...,   1795,   1917,   1702],\n",
       "        [  2345,   2300,   2343, ...,   1714,   1911,   1918]],\n",
       "\n",
       "       [[ -4000,  -4000,  -4000, ...,  12492,  12440,  12457],\n",
       "        [ -4000,  -4000,  -4000, ...,  12555,  12563,  12570],\n",
       "        [ -4000,  -4000,  -4000, ...,  12668,  12673,  12628],\n",
       "        ...,\n",
       "        [ -3123,  -3118,  -3119, ...,  12780,  13188,  13422],\n",
       "        [ -3146,  -3147,  -3148, ...,  14115,  14224,  14125],\n",
       "        [ -3175,  -3162,  -3163, ...,  15060,  14328,  15004]],\n",
       "\n",
       "       [[    -1,     -1,     -1, ...,    117,    117,    117],\n",
       "        [    -1,     -1,     -1, ...,    117,    117,    117],\n",
       "        [    -1,     -1,     -1, ...,    117,    117,    117],\n",
       "        ...,\n",
       "        [   114,    114,    114, ...,    120,    120,    120],\n",
       "        [   114,    114,    114, ...,    120,    120,    120],\n",
       "        [   114,    114,    114, ...,    120,    125,    120]],\n",
       "\n",
       "       ...,\n",
       "\n",
       "       [[ -1000,  -1000,  -1000, ...,   2000,   1822,   1837],\n",
       "        [ -1000,  -1000,  -1000, ...,   1804,   1805,   2124],\n",
       "        [ -1000,  -1000,  -1000, ...,   1911,   2327,   2382],\n",
       "        ...,\n",
       "        [  2195,   2165,   2254, ...,   3140,   2687,   2744],\n",
       "        [  2390,   2459,   2326, ...,   2787,   2837,   2949],\n",
       "        [  2399,   2400,   2239, ...,   2903,   2085,   2716]],\n",
       "\n",
       "       [[-10000, -10000, -10000, ...,    495,    495,    510],\n",
       "        [-10000, -10000, -10000, ...,    506,    515,    524],\n",
       "        [-10000, -10000, -10000, ...,    518,    527,    535],\n",
       "        ...,\n",
       "        [  1822,   1815,   1806, ...,     45,     56,     64],\n",
       "        [  1810,   1806,   1797, ...,     54,     63,     72],\n",
       "        [  1804,   1797,   1788, ...,     60,   3555,     87]],\n",
       "\n",
       "       [[-10000, -10000, -10000, ...,   2890,   2891,   2890],\n",
       "        [-10000, -10000, -10000, ...,   2889,   2889,   2888],\n",
       "        [-10000, -10000, -10000, ...,   2888,   2887,   2887],\n",
       "        ...,\n",
       "        [  2473,   2473,   2472, ...,   2172,   2170,   2170],\n",
       "        [  2471,   2471,   2471, ...,   2170,   2169,   2169],\n",
       "        [  2471,   2470,   2469, ...,   2170,   1763,   2167]]],\n",
       "      dtype=int32)"
      ]
     },
     "execution_count": 15,
     "metadata": {},
     "output_type": "execute_result"
    }
   ],
   "source": [
    "vegetation_data_stacked"
   ]
  },
  {
   "cell_type": "code",
   "execution_count": 19,
   "metadata": {},
   "outputs": [],
   "source": [
    "# ep.plot_bands(vegetation_data_stacked,\n",
    "#               scale=False)\n",
    "# plt.show()"
   ]
  },
  {
   "cell_type": "code",
   "execution_count": 18,
   "metadata": {},
   "outputs": [],
   "source": [
    "# # Plot MODIS RGB\n",
    "# ep.plot_rgb(vegetation_data_stacked,\n",
    "#             rgb=[0, 3, 2],\n",
    "#             title='RGB Image of MODIS Data',\n",
    "#             stretch=True,\n",
    "#             figsize=(7, 7))\n",
    "\n",
    "# plt.show()"
   ]
  },
  {
   "cell_type": "code",
   "execution_count": 20,
   "metadata": {},
   "outputs": [
    {
     "data": {
      "text/plain": [
       "array([[-3000, -3000, -3000, ...,  2939,  2872,  3401],\n",
       "       [-3000, -3000, -3000, ...,  3547,  3502,  2666],\n",
       "       [-3000, -3000, -3000, ...,  3335,  2391,  2264],\n",
       "       ...,\n",
       "       [ 2472,  2442,  2428, ...,  1564,  1744,  1721],\n",
       "       [ 2276,  2289,  2374, ...,  1795,  1917,  1702],\n",
       "       [ 2345,  2300,  2343, ...,  1714,  1911,  1918]], dtype=int16)"
      ]
     },
     "execution_count": 20,
     "metadata": {},
     "output_type": "execute_result"
    }
   ],
   "source": [
    "vegetation_data[0]"
   ]
  },
  {
   "cell_type": "code",
   "execution_count": 21,
   "metadata": {},
   "outputs": [
    {
     "data": {
      "text/plain": [
       "(1200, 1200)"
      ]
     },
     "execution_count": 21,
     "metadata": {},
     "output_type": "execute_result"
    }
   ],
   "source": [
    "vegetation_data[0].shape"
   ]
  },
  {
   "cell_type": "code",
   "execution_count": 22,
   "metadata": {},
   "outputs": [
    {
     "data": {
      "text/plain": [
       "['HDF4_EOS:EOS_GRID:thermal_anomalies_11_27_test_2018_2019/MOD14A2.A2018121.h08v04.006.2018129234132.hdf:MODIS_Grid_8Day_Fire:FireMask',\n",
       " 'HDF4_EOS:EOS_GRID:thermal_anomalies_11_27_test_2018_2019/MOD14A2.A2018121.h08v04.006.2018129234132.hdf:MODIS_Grid_8Day_Fire:QA']"
      ]
     },
     "execution_count": 22,
     "metadata": {},
     "output_type": "execute_result"
    }
   ],
   "source": [
    "thermal_anomalies_names"
   ]
  },
  {
   "cell_type": "code",
   "execution_count": 23,
   "metadata": {},
   "outputs": [
    {
     "data": {
      "text/plain": [
       "['HDF4_EOS:EOS_GRID:vegetation_indices_11_28/MOD13A2.A2019113.h08v05.006.2019129235845.hdf:MODIS_Grid_16DAY_1km_VI:1 km 16 days NDVI',\n",
       " 'HDF4_EOS:EOS_GRID:vegetation_indices_11_28/MOD13A2.A2019113.h08v05.006.2019129235845.hdf:MODIS_Grid_16DAY_1km_VI:1 km 16 days relative azimuth angle',\n",
       " 'HDF4_EOS:EOS_GRID:vegetation_indices_11_28/MOD13A2.A2019113.h08v05.006.2019129235845.hdf:MODIS_Grid_16DAY_1km_VI:1 km 16 days composite day of the year',\n",
       " 'HDF4_EOS:EOS_GRID:vegetation_indices_11_28/MOD13A2.A2019113.h08v05.006.2019129235845.hdf:MODIS_Grid_16DAY_1km_VI:1 km 16 days pixel reliability',\n",
       " 'HDF4_EOS:EOS_GRID:vegetation_indices_11_28/MOD13A2.A2019113.h08v05.006.2019129235845.hdf:MODIS_Grid_16DAY_1km_VI:1 km 16 days EVI',\n",
       " 'HDF4_EOS:EOS_GRID:vegetation_indices_11_28/MOD13A2.A2019113.h08v05.006.2019129235845.hdf:MODIS_Grid_16DAY_1km_VI:1 km 16 days VI Quality',\n",
       " 'HDF4_EOS:EOS_GRID:vegetation_indices_11_28/MOD13A2.A2019113.h08v05.006.2019129235845.hdf:MODIS_Grid_16DAY_1km_VI:1 km 16 days red reflectance',\n",
       " 'HDF4_EOS:EOS_GRID:vegetation_indices_11_28/MOD13A2.A2019113.h08v05.006.2019129235845.hdf:MODIS_Grid_16DAY_1km_VI:1 km 16 days NIR reflectance',\n",
       " 'HDF4_EOS:EOS_GRID:vegetation_indices_11_28/MOD13A2.A2019113.h08v05.006.2019129235845.hdf:MODIS_Grid_16DAY_1km_VI:1 km 16 days blue reflectance',\n",
       " 'HDF4_EOS:EOS_GRID:vegetation_indices_11_28/MOD13A2.A2019113.h08v05.006.2019129235845.hdf:MODIS_Grid_16DAY_1km_VI:1 km 16 days MIR reflectance',\n",
       " 'HDF4_EOS:EOS_GRID:vegetation_indices_11_28/MOD13A2.A2019113.h08v05.006.2019129235845.hdf:MODIS_Grid_16DAY_1km_VI:1 km 16 days view zenith angle',\n",
       " 'HDF4_EOS:EOS_GRID:vegetation_indices_11_28/MOD13A2.A2019113.h08v05.006.2019129235845.hdf:MODIS_Grid_16DAY_1km_VI:1 km 16 days sun zenith angle']"
      ]
     },
     "execution_count": 23,
     "metadata": {},
     "output_type": "execute_result"
    }
   ],
   "source": [
    "vegetation_names"
   ]
  },
  {
   "cell_type": "code",
   "execution_count": 31,
   "metadata": {},
   "outputs": [
    {
     "data": {
      "text/plain": [
       "array([[-4000, -4000, -4000, ..., 12492, 12440, 12457],\n",
       "       [-4000, -4000, -4000, ..., 12555, 12563, 12570],\n",
       "       [-4000, -4000, -4000, ..., 12668, 12673, 12628],\n",
       "       ...,\n",
       "       [-3123, -3118, -3119, ..., 12780, 13188, 13422],\n",
       "       [-3146, -3147, -3148, ..., 14115, 14224, 14125],\n",
       "       [-3175, -3162, -3163, ..., 15060, 14328, 15004]], dtype=int32)"
      ]
     },
     "execution_count": 31,
     "metadata": {},
     "output_type": "execute_result"
    }
   ],
   "source": [
    "vegetation_data_stacked[1]"
   ]
  },
  {
   "cell_type": "markdown",
   "metadata": {},
   "source": [
    "## Combining  MOD14A2 and MOD13A2"
   ]
  },
  {
   "cell_type": "markdown",
   "metadata": {},
   "source": [
    "### Stack the fire mask with the NVDI"
   ]
  },
  {
   "cell_type": "code",
   "execution_count": 39,
   "metadata": {},
   "outputs": [
    {
     "data": {
      "text/plain": [
       "array([[3, 3, 3, ..., 4, 4, 4],\n",
       "       [3, 3, 3, ..., 4, 4, 4],\n",
       "       [3, 3, 3, ..., 4, 4, 3],\n",
       "       ...,\n",
       "       [3, 3, 3, ..., 5, 5, 5],\n",
       "       [3, 3, 3, ..., 5, 5, 5],\n",
       "       [3, 3, 3, ..., 5, 5, 5]], dtype=uint8)"
      ]
     },
     "execution_count": 39,
     "metadata": {},
     "output_type": "execute_result"
    }
   ],
   "source": [
    "# fire_mask_and_nvdi \n",
    "fire_mask = thermal_anomalies_data[0]\n",
    "fire_mask"
   ]
  },
  {
   "cell_type": "code",
   "execution_count": 40,
   "metadata": {},
   "outputs": [
    {
     "data": {
      "text/plain": [
       "'HDF4_EOS:EOS_GRID:thermal_anomalies_11_27_test_2018_2019/MOD14A2.A2018121.h08v04.006.2018129234132.hdf:MODIS_Grid_8Day_Fire:FireMask'"
      ]
     },
     "execution_count": 40,
     "metadata": {},
     "output_type": "execute_result"
    }
   ],
   "source": [
    "thermal_anomalies_names[0]"
   ]
  },
  {
   "cell_type": "code",
   "execution_count": 41,
   "metadata": {},
   "outputs": [
    {
     "data": {
      "text/plain": [
       "array([[-3000, -3000, -3000, ...,  2939,  2872,  3401],\n",
       "       [-3000, -3000, -3000, ...,  3547,  3502,  2666],\n",
       "       [-3000, -3000, -3000, ...,  3335,  2391,  2264],\n",
       "       ...,\n",
       "       [ 2472,  2442,  2428, ...,  1564,  1744,  1721],\n",
       "       [ 2276,  2289,  2374, ...,  1795,  1917,  1702],\n",
       "       [ 2345,  2300,  2343, ...,  1714,  1911,  1918]], dtype=int16)"
      ]
     },
     "execution_count": 41,
     "metadata": {},
     "output_type": "execute_result"
    }
   ],
   "source": [
    "vegetation_ndvi = vegetation_data[0]\n",
    "vegetation_ndvi"
   ]
  },
  {
   "cell_type": "code",
   "execution_count": 37,
   "metadata": {},
   "outputs": [
    {
     "data": {
      "text/plain": [
       "'HDF4_EOS:EOS_GRID:vegetation_indices_11_28/MOD13A2.A2019113.h08v05.006.2019129235845.hdf:MODIS_Grid_16DAY_1km_VI:1 km 16 days NDVI'"
      ]
     },
     "execution_count": 37,
     "metadata": {},
     "output_type": "execute_result"
    }
   ],
   "source": [
    "vegetation_names[0]"
   ]
  },
  {
   "cell_type": "code",
   "execution_count": 42,
   "metadata": {},
   "outputs": [],
   "source": [
    "data_to_stacked = []\n",
    "data_to_stacked.append(fire_mask)\n",
    "data_to_stacked.append(vegetation_ndvi)\n",
    "fire_mask_and_nvdi_stacked = np.stack(data_to_stacked)"
   ]
  },
  {
   "cell_type": "code",
   "execution_count": 45,
   "metadata": {},
   "outputs": [
    {
     "data": {
      "text/plain": [
       "array([[[    3,     3,     3, ...,     4,     4,     4],\n",
       "        [    3,     3,     3, ...,     4,     4,     4],\n",
       "        [    3,     3,     3, ...,     4,     4,     3],\n",
       "        ...,\n",
       "        [    3,     3,     3, ...,     5,     5,     5],\n",
       "        [    3,     3,     3, ...,     5,     5,     5],\n",
       "        [    3,     3,     3, ...,     5,     5,     5]],\n",
       "\n",
       "       [[-3000, -3000, -3000, ...,  2939,  2872,  3401],\n",
       "        [-3000, -3000, -3000, ...,  3547,  3502,  2666],\n",
       "        [-3000, -3000, -3000, ...,  3335,  2391,  2264],\n",
       "        ...,\n",
       "        [ 2472,  2442,  2428, ...,  1564,  1744,  1721],\n",
       "        [ 2276,  2289,  2374, ...,  1795,  1917,  1702],\n",
       "        [ 2345,  2300,  2343, ...,  1714,  1911,  1918]]], dtype=int16)"
      ]
     },
     "execution_count": 45,
     "metadata": {},
     "output_type": "execute_result"
    }
   ],
   "source": [
    "fire_mask_and_nvdi_stacked"
   ]
  },
  {
   "cell_type": "markdown",
   "metadata": {},
   "source": [
    "## Save stack of fire mask and ndvi to .csv file (this cannot be done cause it is 3d)"
   ]
  },
  {
   "cell_type": "code",
   "execution_count": 47,
   "metadata": {},
   "outputs": [],
   "source": [
    "# np.savetxt(\"fire_mask_and_nvdi_data.csv\", fire_mask_and_nvdi_stacked , delimiter=\",\") "
   ]
  },
  {
   "cell_type": "markdown",
   "metadata": {},
   "source": [
    "## Save fire_mask to .csv"
   ]
  },
  {
   "cell_type": "code",
   "execution_count": 48,
   "metadata": {},
   "outputs": [],
   "source": [
    "np.savetxt(\"fire_mask.csv\", fire_mask, delimiter=\",\")"
   ]
  },
  {
   "cell_type": "markdown",
   "metadata": {},
   "source": [
    "## Save ndvi to .csv"
   ]
  },
  {
   "cell_type": "code",
   "execution_count": 50,
   "metadata": {},
   "outputs": [],
   "source": [
    "np.savetxt(\"ndvi.csv\", vegetation_ndvi, delimiter=\",\")"
   ]
  },
  {
   "cell_type": "markdown",
   "metadata": {},
   "source": [
    "# This is a random test to see if github works!!!"
   ]
  },
  {
   "cell_type": "code",
   "execution_count": 1,
   "metadata": {},
   "outputs": [
    {
     "ename": "NameError",
     "evalue": "name 'vegetation_names' is not defined",
     "output_type": "error",
     "traceback": [
      "\u001b[0;31m---------------------------------------------------------------------------\u001b[0m",
      "\u001b[0;31mNameError\u001b[0m                                 Traceback (most recent call last)",
      "\u001b[0;32m<ipython-input-1-bc2c59de6800>\u001b[0m in \u001b[0;36m<module>\u001b[0;34m\u001b[0m\n\u001b[0;32m----> 1\u001b[0;31m \u001b[0mvegetation_names\u001b[0m\u001b[0;34m[\u001b[0m\u001b[0;36m0\u001b[0m\u001b[0;34m]\u001b[0m\u001b[0;34m\u001b[0m\u001b[0;34m\u001b[0m\u001b[0m\n\u001b[0m",
      "\u001b[0;31mNameError\u001b[0m: name 'vegetation_names' is not defined"
     ]
    }
   ],
   "source": [
    "vegetation_names[0] "
   ]
  },
  {
   "cell_type": "code",
   "execution_count": null,
   "metadata": {},
   "outputs": [],
   "source": [
    "## hopefully it will work!!"
   ]
  }
 ],
 "metadata": {
  "kernelspec": {
   "display_name": "Python 3",
   "language": "python",
   "name": "python3"
  },
  "language_info": {
   "codemirror_mode": {
    "name": "ipython",
    "version": 3
   },
   "file_extension": ".py",
   "mimetype": "text/x-python",
   "name": "python",
   "nbconvert_exporter": "python",
   "pygments_lexer": "ipython3",
   "version": "3.7.9"
  }
 },
 "nbformat": 4,
 "nbformat_minor": 4
}
