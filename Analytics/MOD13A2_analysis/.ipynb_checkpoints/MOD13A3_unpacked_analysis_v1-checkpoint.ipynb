{
 "cells": [
  {
   "cell_type": "markdown",
   "metadata": {},
   "source": [
    "https://www.earthdatascience.org/courses/use-data-open-source-python/hierarchical-data-formats-hdf/open-MODIS-hdf4-files-python/\n"
   ]
  },
  {
   "cell_type": "code",
   "execution_count": 1,
   "metadata": {
    "scrolled": true
   },
   "outputs": [],
   "source": [
    "# Import packages\n",
    "import os\n",
    "import re  # regular expressions\n",
    "import warnings\n",
    "import matplotlib.pyplot as plt\n",
    "import numpy as np\n",
    "import numpy.ma as ma\n",
    "import rasterio as rio\n",
    "from rasterio.plot import plotting_extent\n",
    "import geopandas as gpd\n",
    "import earthpy as et\n",
    "import earthpy.plot as ep\n",
    "import earthpy.spatial as es\n",
    "import earthpy.mask as em\n",
    "\n",
    "warnings.simplefilter('ignore')\n",
    "\n",
    "# Set working directory\n",
    "os.chdir(os.path.join(et.io.HOME, 'nyu', 'rbda_project_data'))\n"
   ]
  },
  {
   "cell_type": "code",
   "execution_count": 2,
   "metadata": {},
   "outputs": [],
   "source": [
    "# Create a path to the pre-fire MODIS h4 data\n",
    "vegetation_unpacked_path = os.path.join(\"vegetation_indices_11_28\",\n",
    "                             \"vegetation_indices_unpacked_test\", \n",
    "                              \"MOD13A_unpacked.hdf\")\n"
   ]
  },
  {
   "cell_type": "code",
   "execution_count": 3,
   "metadata": {},
   "outputs": [
    {
     "name": "stdout",
     "output_type": "stream",
     "text": [
      "<open DatasetReader name='vegetation_indices_11_28/vegetation_indices_unpacked_test/MOD13A_unpacked.hdf' mode='r'>\n"
     ]
    },
    {
     "data": {
      "text/plain": [
       "{'driver': 'HDF4',\n",
       " 'dtype': 'float_',\n",
       " 'nodata': None,\n",
       " 'width': 512,\n",
       " 'height': 512,\n",
       " 'count': 0,\n",
       " 'crs': None,\n",
       " 'transform': Affine(1.0, 0.0, 0.0,\n",
       "        0.0, 1.0, 0.0)}"
      ]
     },
     "execution_count": 3,
     "metadata": {},
     "output_type": "execute_result"
    }
   ],
   "source": [
    "# View dataset metadata\n",
    "with rio.open(vegetation_unpacked_path) as dataset:\n",
    "    print(dataset)\n",
    "    hdf4_meta = dataset.meta\n",
    "\n",
    "# Notice that there are metadata at the highest level of the file\n",
    "hdf4_meta\n"
   ]
  },
  {
   "cell_type": "code",
   "execution_count": 4,
   "metadata": {},
   "outputs": [
    {
     "ename": "NameError",
     "evalue": "name 'precipitation_path' is not defined",
     "output_type": "error",
     "traceback": [
      "\u001b[0;31m---------------------------------------------------------------------------\u001b[0m",
      "\u001b[0;31mNameError\u001b[0m                                 Traceback (most recent call last)",
      "\u001b[0;32m<ipython-input-4-fe1849a1e087>\u001b[0m in \u001b[0;36m<module>\u001b[0;34m\u001b[0m\n\u001b[1;32m      1\u001b[0m \u001b[0;31m# Print all of the subdatasets in the data\u001b[0m\u001b[0;34m\u001b[0m\u001b[0;34m\u001b[0m\u001b[0;34m\u001b[0m\u001b[0m\n\u001b[0;32m----> 2\u001b[0;31m \u001b[0;32mwith\u001b[0m \u001b[0mrio\u001b[0m\u001b[0;34m.\u001b[0m\u001b[0mopen\u001b[0m\u001b[0;34m(\u001b[0m\u001b[0mprecipitation_path\u001b[0m\u001b[0;34m)\u001b[0m \u001b[0;32mas\u001b[0m \u001b[0mdataset\u001b[0m\u001b[0;34m:\u001b[0m\u001b[0;34m\u001b[0m\u001b[0;34m\u001b[0m\u001b[0m\n\u001b[0m\u001b[1;32m      3\u001b[0m     \u001b[0mcrs\u001b[0m \u001b[0;34m=\u001b[0m \u001b[0mdataset\u001b[0m\u001b[0;34m.\u001b[0m\u001b[0mread_crs\u001b[0m\u001b[0;34m(\u001b[0m\u001b[0;34m)\u001b[0m\u001b[0;34m\u001b[0m\u001b[0;34m\u001b[0m\u001b[0m\n\u001b[1;32m      4\u001b[0m     \u001b[0;32mfor\u001b[0m \u001b[0mname\u001b[0m \u001b[0;32min\u001b[0m \u001b[0mdataset\u001b[0m\u001b[0;34m.\u001b[0m\u001b[0msubdatasets\u001b[0m\u001b[0;34m:\u001b[0m\u001b[0;34m\u001b[0m\u001b[0;34m\u001b[0m\u001b[0m\n\u001b[1;32m      5\u001b[0m         \u001b[0mprint\u001b[0m\u001b[0;34m(\u001b[0m\u001b[0mname\u001b[0m\u001b[0;34m)\u001b[0m\u001b[0;34m\u001b[0m\u001b[0;34m\u001b[0m\u001b[0m\n",
      "\u001b[0;31mNameError\u001b[0m: name 'precipitation_path' is not defined"
     ]
    }
   ],
   "source": [
    "# Print all of the subdatasets in the data\n",
    "with rio.open(vegetation_unpacked_path) as dataset:\n",
    "    crs = dataset.read_crs()\n",
    "    for name in dataset.subdatasets:\n",
    "        print(name)\n"
   ]
  },
  {
   "cell_type": "code",
   "execution_count": null,
   "metadata": {},
   "outputs": [],
   "source": [
    "# Create list to append arrays (of all type of data)\n",
    "vegetation_data = []\n",
    "vegetation_names = []\n",
    "\n",
    "# Open the precipitation HDF5 file \n",
    "with rio.open(vegetation_unpacked_path) as dataset:\n",
    "    \n",
    "    # loop through each subdataset in HDF5 file\n",
    "    for name in dataset.subdatasets:\n",
    "        \n",
    "        # Open the subdataset \n",
    "        with rio.open(name) as subdataset:\n",
    "            modis_meta = subdataset.profile\n",
    "            \n",
    "            # Read data as a  2 dimensional array and append to list\n",
    "            vegetation_data.append(subdataset.read(1))\n",
    "            vegetation_names.append(name);\n",
    "#             np.savetxt(str(name)[-10:-1] + \".csv\", subdataset.read(1), delimiter=\",\")\n",
    "\n",
    "\n",
    "vegetation_data_stacked = np.stack(vegetation_data)"
   ]
  },
  {
   "cell_type": "code",
   "execution_count": null,
   "metadata": {},
   "outputs": [],
   "source": [
    "vegetation_data_stacked"
   ]
  },
  {
   "cell_type": "code",
   "execution_count": null,
   "metadata": {},
   "outputs": [],
   "source": [
    "ep.plot_bands(vegetation_data_stacked,\n",
    "              scale=False)\n",
    "plt.show()"
   ]
  },
  {
   "cell_type": "code",
   "execution_count": null,
   "metadata": {
    "scrolled": true
   },
   "outputs": [],
   "source": [
    "# Plot MODIS RGB\n",
    "ep.plot_rgb(vegetation_data_stacked,\n",
    "            rgb=[0, 3, 2],\n",
    "            title='RGB Image of MODIS Data',\n",
    "            stretch=True,\n",
    "            figsize=(7, 7))\n",
    "\n",
    "plt.show()\n"
   ]
  },
  {
   "cell_type": "code",
   "execution_count": null,
   "metadata": {},
   "outputs": [],
   "source": []
  },
  {
   "cell_type": "code",
   "execution_count": null,
   "metadata": {},
   "outputs": [],
   "source": []
  }
 ],
 "metadata": {
  "kernelspec": {
   "display_name": "Python 3",
   "language": "python",
   "name": "python3"
  },
  "language_info": {
   "codemirror_mode": {
    "name": "ipython",
    "version": 3
   },
   "file_extension": ".py",
   "mimetype": "text/x-python",
   "name": "python",
   "nbconvert_exporter": "python",
   "pygments_lexer": "ipython3",
   "version": "3.7.9"
  }
 },
 "nbformat": 4,
 "nbformat_minor": 4
}
