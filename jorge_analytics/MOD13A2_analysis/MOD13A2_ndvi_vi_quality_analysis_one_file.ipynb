{
 "cells": [
  {
   "cell_type": "markdown",
   "metadata": {},
   "source": [
    "https://www.earthdatascience.org/courses/use-data-open-source-python/hierarchical-data-formats-hdf/open-MODIS-hdf4-files-python/\n"
   ]
  },
  {
   "cell_type": "code",
   "execution_count": 43,
   "metadata": {
    "scrolled": true
   },
   "outputs": [],
   "source": [
    "# Import packages\n",
    "import os\n",
    "import re  # regular expressions\n",
    "import warnings\n",
    "import matplotlib.pyplot as plt\n",
    "import numpy as np\n",
    "import numpy.ma as ma\n",
    "import rasterio as rio\n",
    "from rasterio.plot import plotting_extent\n",
    "import geopandas as gpd\n",
    "import earthpy as et\n",
    "import earthpy.plot as ep\n",
    "import earthpy.spatial as es\n",
    "import earthpy.mask as em\n",
    "\n",
    "warnings.simplefilter('ignore')\n",
    "\n",
    "# Set working directory\n",
    "os.chdir(os.path.join(et.io.HOME, 'nyu', 'rbda_project_data'))\n"
   ]
  },
  {
   "cell_type": "code",
   "execution_count": 44,
   "metadata": {},
   "outputs": [],
   "source": [
    "# Create a path to the vi_quality MODIS h4 data\n",
    "vi_quality_path = os.path.join(\"vegetation_indices_all_time\",\n",
    "                               \"vi_quality_unpacked\",\n",
    "                               \"MOD13A2.A2000049.h08v04.006.2015136104431_VI_quality.hdf\")\n"
   ]
  },
  {
   "cell_type": "code",
   "execution_count": 45,
   "metadata": {},
   "outputs": [
    {
     "name": "stdout",
     "output_type": "stream",
     "text": [
      "<open DatasetReader name='vegetation_indices_all_time/vi_quality_unpacked/MOD13A2.A2000049.h08v04.006.2015136104431_VI_quality.hdf' mode='r'>\n"
     ]
    },
    {
     "data": {
      "text/plain": [
       "{'driver': 'HDF4',\n",
       " 'dtype': 'float_',\n",
       " 'nodata': None,\n",
       " 'width': 512,\n",
       " 'height': 512,\n",
       " 'count': 0,\n",
       " 'crs': None,\n",
       " 'transform': Affine(1.0, 0.0, 0.0,\n",
       "        0.0, 1.0, 0.0)}"
      ]
     },
     "execution_count": 45,
     "metadata": {},
     "output_type": "execute_result"
    }
   ],
   "source": [
    "# View dataset metadata\n",
    "with rio.open(vi_quality_path) as dataset:\n",
    "    print(dataset)\n",
    "    hdf4_meta = dataset.meta\n",
    "\n",
    "# Notice that there are metadata at the highest level of the file\n",
    "hdf4_meta\n"
   ]
  },
  {
   "cell_type": "code",
   "execution_count": 46,
   "metadata": {},
   "outputs": [
    {
     "name": "stdout",
     "output_type": "stream",
     "text": [
      "HDF4_SDS:UNKNOWN:vegetation_indices_all_time/vi_quality_unpacked/MOD13A2.A2000049.h08v04.006.2015136104431_VI_quality.hdf:0\n",
      "HDF4_SDS:UNKNOWN:vegetation_indices_all_time/vi_quality_unpacked/MOD13A2.A2000049.h08v04.006.2015136104431_VI_quality.hdf:1\n",
      "HDF4_SDS:UNKNOWN:vegetation_indices_all_time/vi_quality_unpacked/MOD13A2.A2000049.h08v04.006.2015136104431_VI_quality.hdf:2\n",
      "HDF4_SDS:UNKNOWN:vegetation_indices_all_time/vi_quality_unpacked/MOD13A2.A2000049.h08v04.006.2015136104431_VI_quality.hdf:3\n",
      "HDF4_SDS:UNKNOWN:vegetation_indices_all_time/vi_quality_unpacked/MOD13A2.A2000049.h08v04.006.2015136104431_VI_quality.hdf:4\n",
      "HDF4_SDS:UNKNOWN:vegetation_indices_all_time/vi_quality_unpacked/MOD13A2.A2000049.h08v04.006.2015136104431_VI_quality.hdf:5\n",
      "HDF4_SDS:UNKNOWN:vegetation_indices_all_time/vi_quality_unpacked/MOD13A2.A2000049.h08v04.006.2015136104431_VI_quality.hdf:6\n",
      "HDF4_SDS:UNKNOWN:vegetation_indices_all_time/vi_quality_unpacked/MOD13A2.A2000049.h08v04.006.2015136104431_VI_quality.hdf:7\n",
      "HDF4_SDS:UNKNOWN:vegetation_indices_all_time/vi_quality_unpacked/MOD13A2.A2000049.h08v04.006.2015136104431_VI_quality.hdf:8\n"
     ]
    }
   ],
   "source": [
    "# Print all of the subdatasets in the data\n",
    "with rio.open(vi_quality_path) as dataset:\n",
    "    crs = dataset.read_crs()\n",
    "    for name in dataset.subdatasets:\n",
    "        print(name)\n"
   ]
  },
  {
   "cell_type": "code",
   "execution_count": 47,
   "metadata": {},
   "outputs": [],
   "source": [
    "# Create list to append arrays (of all type of data)\n",
    "vi_quality_data = []\n",
    "\n",
    "# Open the precipitation HDF5 file \n",
    "with rio.open(vi_quality_path) as dataset:\n",
    "    \n",
    "    # loop through each subdataset in HDF5 file\n",
    "    for name in dataset.subdatasets:\n",
    "        \n",
    "        # Open the subdataset \n",
    "        with rio.open(name) as subdataset:\n",
    "            modis_meta = subdataset.profile\n",
    "            \n",
    "            # Read data as a  2 dimensional array and append to list\n",
    "            vi_quality_data.append(subdataset.read(1))\n",
    "\n",
    "\n",
    "# vi_quality_stacked = np.stack(vi_quality_data)"
   ]
  },
  {
   "cell_type": "code",
   "execution_count": 48,
   "metadata": {},
   "outputs": [],
   "source": [
    "# vi_quality_stacked"
   ]
  },
  {
   "cell_type": "code",
   "execution_count": 49,
   "metadata": {},
   "outputs": [],
   "source": [
    "land_water_mask = vi_quality_data[6]\n",
    "vi_usefulness = vi_quality_data[1]"
   ]
  },
  {
   "cell_type": "code",
   "execution_count": 50,
   "metadata": {},
   "outputs": [
    {
     "data": {
      "text/plain": [
       "array([[255, 255, 255, ..., 255, 255, 255],\n",
       "       [255, 255, 255, ..., 255, 255, 255],\n",
       "       [255, 255, 255, ..., 255, 255, 255],\n",
       "       ...,\n",
       "       [255, 255, 255, ...,   1,   1,   1],\n",
       "       [255, 255, 255, ...,   1,   1,   1],\n",
       "       [255, 255, 255, ...,   1,   1,   1]], dtype=uint8)"
      ]
     },
     "execution_count": 50,
     "metadata": {},
     "output_type": "execute_result"
    }
   ],
   "source": [
    "land_water_mask"
   ]
  },
  {
   "cell_type": "code",
   "execution_count": 51,
   "metadata": {},
   "outputs": [
    {
     "data": {
      "text/plain": [
       "array([[255, 255, 255, ..., 255, 255, 255],\n",
       "       [255, 255, 255, ..., 255, 255, 255],\n",
       "       [255, 255, 255, ..., 255, 255, 255],\n",
       "       ...,\n",
       "       [255, 255, 255, ...,   4,   3,   3],\n",
       "       [255, 255, 255, ...,   3,   3,   0],\n",
       "       [255, 255, 255, ...,   1,   0,   0]], dtype=uint8)"
      ]
     },
     "execution_count": 51,
     "metadata": {},
     "output_type": "execute_result"
    }
   ],
   "source": [
    "vi_usefulness"
   ]
  },
  {
   "cell_type": "markdown",
   "metadata": {},
   "source": [
    "### Check for usefulness "
   ]
  },
  {
   "cell_type": "code",
   "execution_count": 52,
   "metadata": {},
   "outputs": [
    {
     "name": "stdout",
     "output_type": "stream",
     "text": [
      "[ True  True  True ... False False  True]\n"
     ]
    }
   ],
   "source": [
    "values = [0,1,2,3,4,5,6,7,8,9,10,11,12,13,14,15]\n",
    "print(np.in1d(values, vi_usefulness))"
   ]
  },
  {
   "cell_type": "code",
   "execution_count": 53,
   "metadata": {},
   "outputs": [],
   "source": [
    "# print(land_water_mask)"
   ]
  },
  {
   "cell_type": "code",
   "execution_count": 54,
   "metadata": {},
   "outputs": [],
   "source": [
    "# np.set_printoptions(threshold=8)"
   ]
  },
  {
   "cell_type": "code",
   "execution_count": 55,
   "metadata": {},
   "outputs": [
    {
     "data": {
      "text/plain": [
       "array([[255, 255, 255, ..., 255, 255, 255],\n",
       "       [255, 255, 255, ..., 255, 255, 255],\n",
       "       [255, 255, 255, ..., 255, 255, 255],\n",
       "       ...,\n",
       "       [255, 255, 255, ...,   1,   1,   1],\n",
       "       [255, 255, 255, ...,   1,   1,   1],\n",
       "       [255, 255, 255, ...,   1,   1,   1]], dtype=uint8)"
      ]
     },
     "execution_count": 55,
     "metadata": {},
     "output_type": "execute_result"
    }
   ],
   "source": [
    "land_water_mask"
   ]
  },
  {
   "cell_type": "code",
   "execution_count": 56,
   "metadata": {},
   "outputs": [
    {
     "data": {
      "text/plain": [
       "(1200, 1200)"
      ]
     },
     "execution_count": 56,
     "metadata": {},
     "output_type": "execute_result"
    }
   ],
   "source": [
    "land_water_mask.shape"
   ]
  },
  {
   "cell_type": "markdown",
   "metadata": {},
   "source": [
    "## Extract only NDVI subdataset from first hdf file"
   ]
  },
  {
   "cell_type": "code",
   "execution_count": 57,
   "metadata": {},
   "outputs": [],
   "source": [
    "# Create a path to the pre-fire MODIS h4 data\n",
    "ndvi_path = os.path.join(\"vegetation_indices_all_time\",\n",
    "                               \"MOD13A2.A2000049.h08v04.006.2015136104431.hdf\")\n"
   ]
  },
  {
   "cell_type": "code",
   "execution_count": 58,
   "metadata": {},
   "outputs": [],
   "source": [
    "# Create list to append arrays (of all type of data)\n",
    "vegetation_data = []\n",
    "vegetation_names = []\n",
    "\n",
    "# Open the precipitation HDF5 file \n",
    "with rio.open(ndvi_path) as dataset:\n",
    "    \n",
    "    # loop through each subdataset in HDF5 file\n",
    "    for name in dataset.subdatasets:\n",
    "        \n",
    "        # Open the subdataset \n",
    "        with rio.open(name) as subdataset:\n",
    "            modis_meta = subdataset.profile\n",
    "            \n",
    "            # Read data as a  2 dimensional array and append to list\n",
    "            vegetation_data.append(subdataset.read(1))\n",
    "            vegetation_names.append(name);\n",
    "#             np.savetxt(str(name)[-10:-1] + \".csv\", subdataset.read(1), delimiter=\",\")"
   ]
  },
  {
   "cell_type": "code",
   "execution_count": 59,
   "metadata": {},
   "outputs": [],
   "source": [
    "ndvi_data = vegetation_data[0]"
   ]
  },
  {
   "cell_type": "code",
   "execution_count": 60,
   "metadata": {},
   "outputs": [
    {
     "data": {
      "text/plain": [
       "array([[-3000, -3000, -3000, ..., -3000, -3000, -3000],\n",
       "       [-3000, -3000, -3000, ..., -3000, -3000, -3000],\n",
       "       [-3000, -3000, -3000, ..., -3000, -3000, -3000],\n",
       "       ...,\n",
       "       [-3000, -3000, -3000, ...,  -165,  -174,    67],\n",
       "       [-3000, -3000, -3000, ...,  -250,   244,  3151],\n",
       "       [-3000, -3000, -3000, ...,  3432,  2938,  2648]], dtype=int16)"
      ]
     },
     "execution_count": 60,
     "metadata": {},
     "output_type": "execute_result"
    }
   ],
   "source": [
    "ndvi_data"
   ]
  },
  {
   "cell_type": "code",
   "execution_count": null,
   "metadata": {},
   "outputs": [],
   "source": []
  }
 ],
 "metadata": {
  "kernelspec": {
   "display_name": "Python 3",
   "language": "python",
   "name": "python3"
  },
  "language_info": {
   "codemirror_mode": {
    "name": "ipython",
    "version": 3
   },
   "file_extension": ".py",
   "mimetype": "text/x-python",
   "name": "python",
   "nbconvert_exporter": "python",
   "pygments_lexer": "ipython3",
   "version": "3.7.9"
  }
 },
 "nbformat": 4,
 "nbformat_minor": 4
}
