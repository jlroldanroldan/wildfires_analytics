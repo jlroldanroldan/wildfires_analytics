{
 "cells": [
  {
   "cell_type": "markdown",
   "metadata": {},
   "source": [
    "https://www.earthdatascience.org/courses/use-data-open-source-python/hierarchical-data-formats-hdf/open-MODIS-hdf4-files-python/\n"
   ]
  },
  {
   "cell_type": "code",
   "execution_count": 9,
   "metadata": {
    "scrolled": true
   },
   "outputs": [],
   "source": [
    "# Import packages\n",
    "import os\n",
    "import re  # regular expressions\n",
    "import warnings\n",
    "import matplotlib.pyplot as plt\n",
    "import numpy as np\n",
    "import numpy.ma as ma\n",
    "import rasterio as rio\n",
    "from rasterio.plot import plotting_extent\n",
    "import geopandas as gpd\n",
    "import earthpy as et\n",
    "import earthpy.plot as ep\n",
    "import earthpy.spatial as es\n",
    "import earthpy.mask as em\n",
    "\n",
    "warnings.simplefilter('ignore')\n",
    "\n",
    "# Set working directory\n",
    "os.chdir(os.path.join(et.io.HOME, 'nyu', 'rbda_project_data'))\n"
   ]
  },
  {
   "cell_type": "code",
   "execution_count": 10,
   "metadata": {},
   "outputs": [],
   "source": [
    "# Create a path to the pre-fire MODIS h4 data\n",
    "vi_quality_path = os.path.join(\"vegetation_indices_all_time\",\n",
    "                               \"vi_quality_unpacked\",\n",
    "                               \"MOD13A2.A2000049.h08v04.006.2015136104431_VI_quality.hdf\")\n"
   ]
  },
  {
   "cell_type": "code",
   "execution_count": 11,
   "metadata": {},
   "outputs": [
    {
     "name": "stdout",
     "output_type": "stream",
     "text": [
      "<open DatasetReader name='vegetation_indices_all_time/vi_quality_unpacked/MOD13A2.A2000049.h08v04.006.2015136104431_VI_quality.hdf' mode='r'>\n"
     ]
    },
    {
     "data": {
      "text/plain": [
       "{'driver': 'HDF4',\n",
       " 'dtype': 'float_',\n",
       " 'nodata': None,\n",
       " 'width': 512,\n",
       " 'height': 512,\n",
       " 'count': 0,\n",
       " 'crs': None,\n",
       " 'transform': Affine(1.0, 0.0, 0.0,\n",
       "        0.0, 1.0, 0.0)}"
      ]
     },
     "execution_count": 11,
     "metadata": {},
     "output_type": "execute_result"
    }
   ],
   "source": [
    "# View dataset metadata\n",
    "with rio.open(vi_quality_path) as dataset:\n",
    "    print(dataset)\n",
    "    hdf4_meta = dataset.meta\n",
    "\n",
    "# Notice that there are metadata at the highest level of the file\n",
    "hdf4_meta\n"
   ]
  },
  {
   "cell_type": "code",
   "execution_count": 12,
   "metadata": {},
   "outputs": [
    {
     "name": "stdout",
     "output_type": "stream",
     "text": [
      "HDF4_SDS:UNKNOWN:vegetation_indices_all_time/vi_quality_unpacked/MOD13A2.A2000049.h08v04.006.2015136104431_VI_quality.hdf:0\n",
      "HDF4_SDS:UNKNOWN:vegetation_indices_all_time/vi_quality_unpacked/MOD13A2.A2000049.h08v04.006.2015136104431_VI_quality.hdf:1\n",
      "HDF4_SDS:UNKNOWN:vegetation_indices_all_time/vi_quality_unpacked/MOD13A2.A2000049.h08v04.006.2015136104431_VI_quality.hdf:2\n",
      "HDF4_SDS:UNKNOWN:vegetation_indices_all_time/vi_quality_unpacked/MOD13A2.A2000049.h08v04.006.2015136104431_VI_quality.hdf:3\n",
      "HDF4_SDS:UNKNOWN:vegetation_indices_all_time/vi_quality_unpacked/MOD13A2.A2000049.h08v04.006.2015136104431_VI_quality.hdf:4\n",
      "HDF4_SDS:UNKNOWN:vegetation_indices_all_time/vi_quality_unpacked/MOD13A2.A2000049.h08v04.006.2015136104431_VI_quality.hdf:5\n",
      "HDF4_SDS:UNKNOWN:vegetation_indices_all_time/vi_quality_unpacked/MOD13A2.A2000049.h08v04.006.2015136104431_VI_quality.hdf:6\n",
      "HDF4_SDS:UNKNOWN:vegetation_indices_all_time/vi_quality_unpacked/MOD13A2.A2000049.h08v04.006.2015136104431_VI_quality.hdf:7\n",
      "HDF4_SDS:UNKNOWN:vegetation_indices_all_time/vi_quality_unpacked/MOD13A2.A2000049.h08v04.006.2015136104431_VI_quality.hdf:8\n"
     ]
    }
   ],
   "source": [
    "# Print all of the subdatasets in the data\n",
    "with rio.open(vi_quality_path) as dataset:\n",
    "    crs = dataset.read_crs()\n",
    "    for name in dataset.subdatasets:\n",
    "        print(name)\n"
   ]
  },
  {
   "cell_type": "code",
   "execution_count": 13,
   "metadata": {},
   "outputs": [],
   "source": [
    "# Create list to append arrays (of all type of data)\n",
    "vi_quality_data = []\n",
    "\n",
    "# Open the precipitation HDF5 file \n",
    "with rio.open(vi_quality_path) as dataset:\n",
    "    \n",
    "    # loop through each subdataset in HDF5 file\n",
    "    for name in dataset.subdatasets:\n",
    "        \n",
    "        # Open the subdataset \n",
    "        with rio.open(name) as subdataset:\n",
    "            modis_meta = subdataset.profile\n",
    "            \n",
    "            # Read data as a  2 dimensional array and append to list\n",
    "            vegetation_data.append(subdataset.read(1))\n",
    "\n",
    "\n",
    "vegetation_data_stacked = np.stack(vegetation_data)"
   ]
  },
  {
   "cell_type": "code",
   "execution_count": null,
   "metadata": {},
   "outputs": [],
   "source": []
  },
  {
   "cell_type": "code",
   "execution_count": null,
   "metadata": {},
   "outputs": [],
   "source": []
  }
 ],
 "metadata": {
  "kernelspec": {
   "display_name": "Python 3",
   "language": "python",
   "name": "python3"
  },
  "language_info": {
   "codemirror_mode": {
    "name": "ipython",
    "version": 3
   },
   "file_extension": ".py",
   "mimetype": "text/x-python",
   "name": "python",
   "nbconvert_exporter": "python",
   "pygments_lexer": "ipython3",
   "version": "3.7.9"
  }
 },
 "nbformat": 4,
 "nbformat_minor": 4
}
