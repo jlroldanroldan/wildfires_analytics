{
 "cells": [
  {
   "cell_type": "markdown",
   "metadata": {},
   "source": [
    "https://www.earthdatascience.org/courses/use-data-open-source-python/hierarchical-data-formats-hdf/open-MODIS-hdf4-files-python/\n"
   ]
  },
  {
   "cell_type": "code",
   "execution_count": 1,
   "metadata": {
    "scrolled": true
   },
   "outputs": [],
   "source": [
    "# Import packages\n",
    "import os\n",
    "import re  # regular expressions\n",
    "import warnings\n",
    "import matplotlib.pyplot as plt\n",
    "import numpy as np\n",
    "import numpy.ma as ma\n",
    "import rasterio as rio\n",
    "from rasterio.plot import plotting_extent\n",
    "import geopandas as gpd\n",
    "import earthpy as et\n",
    "import earthpy.plot as ep\n",
    "import earthpy.spatial as es\n",
    "import earthpy.mask as em\n",
    "\n",
    "warnings.simplefilter('ignore')\n",
    "\n",
    "# Set working directory\n",
    "os.chdir(os.path.join(et.io.HOME, 'nyu', 'rbda_project_data'))\n"
   ]
  },
  {
   "cell_type": "code",
   "execution_count": 2,
   "metadata": {},
   "outputs": [],
   "source": [
    "# Create a path to the pre-fire MODIS h4 data\n",
    "vegetation_path = os.path.join(\"vegetation_indices_11_28\",\n",
    "                               \"MOD13A2.A2019113.h08v05.006.2019129235845.hdf\")\n"
   ]
  },
  {
   "cell_type": "code",
   "execution_count": 3,
   "metadata": {},
   "outputs": [
    {
     "name": "stdout",
     "output_type": "stream",
     "text": [
      "<open DatasetReader name='vegetation_indices_11_28/MOD13A2.A2019113.h08v05.006.2019129235845.hdf' mode='r'>\n"
     ]
    },
    {
     "data": {
      "text/plain": [
       "{'driver': 'HDF4',\n",
       " 'dtype': 'float_',\n",
       " 'nodata': None,\n",
       " 'width': 512,\n",
       " 'height': 512,\n",
       " 'count': 0,\n",
       " 'crs': None,\n",
       " 'transform': Affine(1.0, 0.0, 0.0,\n",
       "        0.0, 1.0, 0.0)}"
      ]
     },
     "execution_count": 3,
     "metadata": {},
     "output_type": "execute_result"
    }
   ],
   "source": [
    "# View dataset metadata\n",
    "with rio.open(vegetation_path) as dataset:\n",
    "    print(dataset)\n",
    "    hdf4_meta = dataset.meta\n",
    "\n",
    "# Notice that there are metadata at the highest level of the file\n",
    "hdf4_meta\n"
   ]
  },
  {
   "cell_type": "code",
   "execution_count": 4,
   "metadata": {},
   "outputs": [
    {
     "name": "stdout",
     "output_type": "stream",
     "text": [
      "HDF4_EOS:EOS_GRID:vegetation_indices_11_28/MOD13A2.A2019113.h08v05.006.2019129235845.hdf:MODIS_Grid_16DAY_1km_VI:1 km 16 days NDVI\n",
      "HDF4_EOS:EOS_GRID:vegetation_indices_11_28/MOD13A2.A2019113.h08v05.006.2019129235845.hdf:MODIS_Grid_16DAY_1km_VI:1 km 16 days relative azimuth angle\n",
      "HDF4_EOS:EOS_GRID:vegetation_indices_11_28/MOD13A2.A2019113.h08v05.006.2019129235845.hdf:MODIS_Grid_16DAY_1km_VI:1 km 16 days composite day of the year\n",
      "HDF4_EOS:EOS_GRID:vegetation_indices_11_28/MOD13A2.A2019113.h08v05.006.2019129235845.hdf:MODIS_Grid_16DAY_1km_VI:1 km 16 days pixel reliability\n",
      "HDF4_EOS:EOS_GRID:vegetation_indices_11_28/MOD13A2.A2019113.h08v05.006.2019129235845.hdf:MODIS_Grid_16DAY_1km_VI:1 km 16 days EVI\n",
      "HDF4_EOS:EOS_GRID:vegetation_indices_11_28/MOD13A2.A2019113.h08v05.006.2019129235845.hdf:MODIS_Grid_16DAY_1km_VI:1 km 16 days VI Quality\n",
      "HDF4_EOS:EOS_GRID:vegetation_indices_11_28/MOD13A2.A2019113.h08v05.006.2019129235845.hdf:MODIS_Grid_16DAY_1km_VI:1 km 16 days red reflectance\n",
      "HDF4_EOS:EOS_GRID:vegetation_indices_11_28/MOD13A2.A2019113.h08v05.006.2019129235845.hdf:MODIS_Grid_16DAY_1km_VI:1 km 16 days NIR reflectance\n",
      "HDF4_EOS:EOS_GRID:vegetation_indices_11_28/MOD13A2.A2019113.h08v05.006.2019129235845.hdf:MODIS_Grid_16DAY_1km_VI:1 km 16 days blue reflectance\n",
      "HDF4_EOS:EOS_GRID:vegetation_indices_11_28/MOD13A2.A2019113.h08v05.006.2019129235845.hdf:MODIS_Grid_16DAY_1km_VI:1 km 16 days MIR reflectance\n",
      "HDF4_EOS:EOS_GRID:vegetation_indices_11_28/MOD13A2.A2019113.h08v05.006.2019129235845.hdf:MODIS_Grid_16DAY_1km_VI:1 km 16 days view zenith angle\n",
      "HDF4_EOS:EOS_GRID:vegetation_indices_11_28/MOD13A2.A2019113.h08v05.006.2019129235845.hdf:MODIS_Grid_16DAY_1km_VI:1 km 16 days sun zenith angle\n"
     ]
    }
   ],
   "source": [
    "# Print all of the subdatasets in the data\n",
    "with rio.open(vegetation_path) as dataset:\n",
    "    crs = dataset.read_crs()\n",
    "    for name in dataset.subdatasets:\n",
    "        print(name)\n"
   ]
  },
  {
   "cell_type": "code",
   "execution_count": 5,
   "metadata": {},
   "outputs": [],
   "source": [
    "# Create list to append arrays (of all type of data)\n",
    "vegetation_data = []\n",
    "vegetation_names = []\n",
    "\n",
    "# Open the precipitation HDF5 file \n",
    "with rio.open(vegetation_path) as dataset:\n",
    "    \n",
    "    # loop through each subdataset in HDF5 file\n",
    "    for name in dataset.subdatasets:\n",
    "        \n",
    "        # Open the subdataset \n",
    "        with rio.open(name) as subdataset:\n",
    "            modis_meta = subdataset.profile\n",
    "            \n",
    "            # Read data as a  2 dimensional array and append to list\n",
    "            vegetation_data.append(subdataset.read(1))\n",
    "            vegetation_names.append(name);\n",
    "#             np.savetxt(str(name)[-10:-1] + \".csv\", subdataset.read(1), delimiter=\",\")\n",
    "\n",
    "\n",
    "vegetation_data_stacked = np.stack(vegetation_data)"
   ]
  },
  {
   "cell_type": "code",
   "execution_count": 6,
   "metadata": {},
   "outputs": [],
   "source": [
    "# vegetation_data_stacked"
   ]
  },
  {
   "cell_type": "code",
   "execution_count": 7,
   "metadata": {},
   "outputs": [],
   "source": [
    "# ep.plot_bands(vegetation_data_stacked,\n",
    "#               scale=False)\n",
    "# plt.show()"
   ]
  },
  {
   "cell_type": "code",
   "execution_count": 8,
   "metadata": {
    "scrolled": true
   },
   "outputs": [],
   "source": [
    "# Plot MODIS RGB\n",
    "# ep.plot_rgb(vegetation_data_stacked,\n",
    "#             rgb=[0, 3, 2],\n",
    "#             title='RGB Image of MODIS Data',\n",
    "#             stretch=True,\n",
    "#             figsize=(7, 7))\n",
    "\n",
    "# plt.show()\n"
   ]
  },
  {
   "cell_type": "code",
   "execution_count": null,
   "metadata": {},
   "outputs": [],
   "source": []
  },
  {
   "cell_type": "markdown",
   "metadata": {},
   "source": [
    "# Process multiple files in a directory\n",
    "https://realpython.com/working-with-files-in-python/"
   ]
  },
  {
   "cell_type": "markdown",
   "metadata": {},
   "source": [
    "## Store name of files in file_names list"
   ]
  },
  {
   "cell_type": "code",
   "execution_count": 9,
   "metadata": {},
   "outputs": [],
   "source": [
    "entries = os.scandir('./')"
   ]
  },
  {
   "cell_type": "code",
   "execution_count": 10,
   "metadata": {},
   "outputs": [
    {
     "data": {
      "text/plain": [
       "<posix.ScandirIterator at 0x7fbf11089c70>"
      ]
     },
     "execution_count": 10,
     "metadata": {},
     "output_type": "execute_result"
    }
   ],
   "source": [
    "entries"
   ]
  },
  {
   "cell_type": "code",
   "execution_count": 11,
   "metadata": {},
   "outputs": [],
   "source": [
    "file_names  = []\n",
    "with os.scandir('../rbda_project_data/vegetation_indices_all_time_testing/') as entries:\n",
    "    for entry in entries:\n",
    "        file_names.append(entry.name)\n",
    "#         print(entry.name)"
   ]
  },
  {
   "cell_type": "code",
   "execution_count": 12,
   "metadata": {},
   "outputs": [
    {
     "data": {
      "text/plain": [
       "['MOD13A2.A2000113.h08v05.006.2015137035140.hdf',\n",
       " 'MOD13A2.A2000065.h08v05.006.2015136022932.hdf',\n",
       " 'MOD13A2.A2000161.h08v05.006.2015137044400.hdf',\n",
       " 'MOD13A2.A2000049.h08v05.006.2015136104428.hdf',\n",
       " 'MOD13A2.A2000145.h08v05.006.2015137095459.hdf',\n",
       " 'MOD13A2.A2000193.h08v05.006.2015138073343.hdf',\n",
       " 'MOD13A2.A2000145.h08v04.006.2015137094710.hdf',\n",
       " 'MOD13A2.A2000177.h08v04.006.2015138073355.hdf',\n",
       " 'MOD13A2.A2000113.h08v04.006.2015137032541.hdf',\n",
       " 'MOD13A2.A2000177.h08v05.006.2015138071538.hdf',\n",
       " 'MOD13A2.A2000129.h08v04.006.2015137052605.hdf',\n",
       " 'MOD13A2.A2000049.h08v04.006.2015136104431.hdf',\n",
       " 'MOD13A2.A2000081.h08v04.006.2015136041919.hdf',\n",
       " 'MOD13A2.A2000161.h08v04.006.2015137045247.hdf',\n",
       " 'MOD13A2.A2000097.h08v05.006.2015136040245.hdf',\n",
       " 'MOD13A2.A2000081.h08v05.006.2015136041359.hdf',\n",
       " 'MOD13A2.A2000097.h08v04.006.2015136041351.hdf',\n",
       " 'MOD13A2.A2000129.h08v05.006.2015137052212.hdf',\n",
       " 'MOD13A2.A2000193.h08v04.006.2015138073331.hdf',\n",
       " 'MOD13A2.A2000065.h08v04.006.2015136023134.hdf']"
      ]
     },
     "execution_count": 12,
     "metadata": {},
     "output_type": "execute_result"
    }
   ],
   "source": [
    "file_names"
   ]
  },
  {
   "cell_type": "markdown",
   "metadata": {},
   "source": [
    "## Process multiple HDF files"
   ]
  },
  {
   "cell_type": "code",
   "execution_count": 13,
   "metadata": {},
   "outputs": [
    {
     "data": {
      "text/plain": [
       "<posix.ScandirIterator at 0x7fbf11089730>"
      ]
     },
     "execution_count": 13,
     "metadata": {},
     "output_type": "execute_result"
    }
   ],
   "source": [
    "os.scandir('./')"
   ]
  },
  {
   "cell_type": "code",
   "execution_count": 14,
   "metadata": {},
   "outputs": [],
   "source": [
    "# with os.scandir('./vegetation_indices_all_time_testing/') as entries:\n",
    "#     for entry in entries:\n",
    "#         file_names.append(entry.name)\n",
    "#         print(entry.name)"
   ]
  },
  {
   "cell_type": "code",
   "execution_count": 15,
   "metadata": {},
   "outputs": [],
   "source": [
    "paths_to_files = []\n",
    "for file in file_names: \n",
    "    paths_to_files.append(os.path.join(\"vegetation_indices_all_time_testing\",\n",
    "                               str(file)))"
   ]
  },
  {
   "cell_type": "code",
   "execution_count": 16,
   "metadata": {},
   "outputs": [
    {
     "data": {
      "text/plain": [
       "['vegetation_indices_all_time_testing/MOD13A2.A2000113.h08v05.006.2015137035140.hdf',\n",
       " 'vegetation_indices_all_time_testing/MOD13A2.A2000065.h08v05.006.2015136022932.hdf',\n",
       " 'vegetation_indices_all_time_testing/MOD13A2.A2000161.h08v05.006.2015137044400.hdf',\n",
       " 'vegetation_indices_all_time_testing/MOD13A2.A2000049.h08v05.006.2015136104428.hdf',\n",
       " 'vegetation_indices_all_time_testing/MOD13A2.A2000145.h08v05.006.2015137095459.hdf',\n",
       " 'vegetation_indices_all_time_testing/MOD13A2.A2000193.h08v05.006.2015138073343.hdf',\n",
       " 'vegetation_indices_all_time_testing/MOD13A2.A2000145.h08v04.006.2015137094710.hdf',\n",
       " 'vegetation_indices_all_time_testing/MOD13A2.A2000177.h08v04.006.2015138073355.hdf',\n",
       " 'vegetation_indices_all_time_testing/MOD13A2.A2000113.h08v04.006.2015137032541.hdf',\n",
       " 'vegetation_indices_all_time_testing/MOD13A2.A2000177.h08v05.006.2015138071538.hdf',\n",
       " 'vegetation_indices_all_time_testing/MOD13A2.A2000129.h08v04.006.2015137052605.hdf',\n",
       " 'vegetation_indices_all_time_testing/MOD13A2.A2000049.h08v04.006.2015136104431.hdf',\n",
       " 'vegetation_indices_all_time_testing/MOD13A2.A2000081.h08v04.006.2015136041919.hdf',\n",
       " 'vegetation_indices_all_time_testing/MOD13A2.A2000161.h08v04.006.2015137045247.hdf',\n",
       " 'vegetation_indices_all_time_testing/MOD13A2.A2000097.h08v05.006.2015136040245.hdf',\n",
       " 'vegetation_indices_all_time_testing/MOD13A2.A2000081.h08v05.006.2015136041359.hdf',\n",
       " 'vegetation_indices_all_time_testing/MOD13A2.A2000097.h08v04.006.2015136041351.hdf',\n",
       " 'vegetation_indices_all_time_testing/MOD13A2.A2000129.h08v05.006.2015137052212.hdf',\n",
       " 'vegetation_indices_all_time_testing/MOD13A2.A2000193.h08v04.006.2015138073331.hdf',\n",
       " 'vegetation_indices_all_time_testing/MOD13A2.A2000065.h08v04.006.2015136023134.hdf']"
      ]
     },
     "execution_count": 16,
     "metadata": {},
     "output_type": "execute_result"
    }
   ],
   "source": [
    "paths_to_files"
   ]
  },
  {
   "cell_type": "code",
   "execution_count": 17,
   "metadata": {},
   "outputs": [
    {
     "name": "stdout",
     "output_type": "stream",
     "text": [
      "HDF4_EOS:EOS_GRID:vegetation_indices_all_time_testing/MOD13A2.A2000113.h08v05.006.2015137035140.hdf:MODIS_Grid_16DAY_1km_VI:1 km 16 days NDVI\n",
      "HDF4_EOS:EOS_GRID:vegetation_indices_all_time_testing/MOD13A2.A2000113.h08v05.006.2015137035140.hdf:MODIS_Grid_16DAY_1km_VI:1 km 16 days relative azimuth angle\n",
      "HDF4_EOS:EOS_GRID:vegetation_indices_all_time_testing/MOD13A2.A2000113.h08v05.006.2015137035140.hdf:MODIS_Grid_16DAY_1km_VI:1 km 16 days composite day of the year\n",
      "HDF4_EOS:EOS_GRID:vegetation_indices_all_time_testing/MOD13A2.A2000113.h08v05.006.2015137035140.hdf:MODIS_Grid_16DAY_1km_VI:1 km 16 days pixel reliability\n",
      "HDF4_EOS:EOS_GRID:vegetation_indices_all_time_testing/MOD13A2.A2000113.h08v05.006.2015137035140.hdf:MODIS_Grid_16DAY_1km_VI:1 km 16 days EVI\n",
      "HDF4_EOS:EOS_GRID:vegetation_indices_all_time_testing/MOD13A2.A2000113.h08v05.006.2015137035140.hdf:MODIS_Grid_16DAY_1km_VI:1 km 16 days VI Quality\n",
      "HDF4_EOS:EOS_GRID:vegetation_indices_all_time_testing/MOD13A2.A2000113.h08v05.006.2015137035140.hdf:MODIS_Grid_16DAY_1km_VI:1 km 16 days red reflectance\n",
      "HDF4_EOS:EOS_GRID:vegetation_indices_all_time_testing/MOD13A2.A2000113.h08v05.006.2015137035140.hdf:MODIS_Grid_16DAY_1km_VI:1 km 16 days NIR reflectance\n",
      "HDF4_EOS:EOS_GRID:vegetation_indices_all_time_testing/MOD13A2.A2000113.h08v05.006.2015137035140.hdf:MODIS_Grid_16DAY_1km_VI:1 km 16 days blue reflectance\n",
      "HDF4_EOS:EOS_GRID:vegetation_indices_all_time_testing/MOD13A2.A2000113.h08v05.006.2015137035140.hdf:MODIS_Grid_16DAY_1km_VI:1 km 16 days MIR reflectance\n",
      "HDF4_EOS:EOS_GRID:vegetation_indices_all_time_testing/MOD13A2.A2000113.h08v05.006.2015137035140.hdf:MODIS_Grid_16DAY_1km_VI:1 km 16 days view zenith angle\n",
      "HDF4_EOS:EOS_GRID:vegetation_indices_all_time_testing/MOD13A2.A2000113.h08v05.006.2015137035140.hdf:MODIS_Grid_16DAY_1km_VI:1 km 16 days sun zenith angle\n",
      "HDF4_EOS:EOS_GRID:vegetation_indices_all_time_testing/MOD13A2.A2000065.h08v05.006.2015136022932.hdf:MODIS_Grid_16DAY_1km_VI:1 km 16 days NDVI\n",
      "HDF4_EOS:EOS_GRID:vegetation_indices_all_time_testing/MOD13A2.A2000065.h08v05.006.2015136022932.hdf:MODIS_Grid_16DAY_1km_VI:1 km 16 days relative azimuth angle\n",
      "HDF4_EOS:EOS_GRID:vegetation_indices_all_time_testing/MOD13A2.A2000065.h08v05.006.2015136022932.hdf:MODIS_Grid_16DAY_1km_VI:1 km 16 days composite day of the year\n",
      "HDF4_EOS:EOS_GRID:vegetation_indices_all_time_testing/MOD13A2.A2000065.h08v05.006.2015136022932.hdf:MODIS_Grid_16DAY_1km_VI:1 km 16 days pixel reliability\n",
      "HDF4_EOS:EOS_GRID:vegetation_indices_all_time_testing/MOD13A2.A2000065.h08v05.006.2015136022932.hdf:MODIS_Grid_16DAY_1km_VI:1 km 16 days EVI\n",
      "HDF4_EOS:EOS_GRID:vegetation_indices_all_time_testing/MOD13A2.A2000065.h08v05.006.2015136022932.hdf:MODIS_Grid_16DAY_1km_VI:1 km 16 days VI Quality\n",
      "HDF4_EOS:EOS_GRID:vegetation_indices_all_time_testing/MOD13A2.A2000065.h08v05.006.2015136022932.hdf:MODIS_Grid_16DAY_1km_VI:1 km 16 days red reflectance\n",
      "HDF4_EOS:EOS_GRID:vegetation_indices_all_time_testing/MOD13A2.A2000065.h08v05.006.2015136022932.hdf:MODIS_Grid_16DAY_1km_VI:1 km 16 days NIR reflectance\n",
      "HDF4_EOS:EOS_GRID:vegetation_indices_all_time_testing/MOD13A2.A2000065.h08v05.006.2015136022932.hdf:MODIS_Grid_16DAY_1km_VI:1 km 16 days blue reflectance\n",
      "HDF4_EOS:EOS_GRID:vegetation_indices_all_time_testing/MOD13A2.A2000065.h08v05.006.2015136022932.hdf:MODIS_Grid_16DAY_1km_VI:1 km 16 days MIR reflectance\n",
      "HDF4_EOS:EOS_GRID:vegetation_indices_all_time_testing/MOD13A2.A2000065.h08v05.006.2015136022932.hdf:MODIS_Grid_16DAY_1km_VI:1 km 16 days view zenith angle\n",
      "HDF4_EOS:EOS_GRID:vegetation_indices_all_time_testing/MOD13A2.A2000065.h08v05.006.2015136022932.hdf:MODIS_Grid_16DAY_1km_VI:1 km 16 days sun zenith angle\n",
      "HDF4_EOS:EOS_GRID:vegetation_indices_all_time_testing/MOD13A2.A2000161.h08v05.006.2015137044400.hdf:MODIS_Grid_16DAY_1km_VI:1 km 16 days NDVI\n",
      "HDF4_EOS:EOS_GRID:vegetation_indices_all_time_testing/MOD13A2.A2000161.h08v05.006.2015137044400.hdf:MODIS_Grid_16DAY_1km_VI:1 km 16 days relative azimuth angle\n",
      "HDF4_EOS:EOS_GRID:vegetation_indices_all_time_testing/MOD13A2.A2000161.h08v05.006.2015137044400.hdf:MODIS_Grid_16DAY_1km_VI:1 km 16 days composite day of the year\n",
      "HDF4_EOS:EOS_GRID:vegetation_indices_all_time_testing/MOD13A2.A2000161.h08v05.006.2015137044400.hdf:MODIS_Grid_16DAY_1km_VI:1 km 16 days pixel reliability\n",
      "HDF4_EOS:EOS_GRID:vegetation_indices_all_time_testing/MOD13A2.A2000161.h08v05.006.2015137044400.hdf:MODIS_Grid_16DAY_1km_VI:1 km 16 days EVI\n",
      "HDF4_EOS:EOS_GRID:vegetation_indices_all_time_testing/MOD13A2.A2000161.h08v05.006.2015137044400.hdf:MODIS_Grid_16DAY_1km_VI:1 km 16 days VI Quality\n",
      "HDF4_EOS:EOS_GRID:vegetation_indices_all_time_testing/MOD13A2.A2000161.h08v05.006.2015137044400.hdf:MODIS_Grid_16DAY_1km_VI:1 km 16 days red reflectance\n",
      "HDF4_EOS:EOS_GRID:vegetation_indices_all_time_testing/MOD13A2.A2000161.h08v05.006.2015137044400.hdf:MODIS_Grid_16DAY_1km_VI:1 km 16 days NIR reflectance\n",
      "HDF4_EOS:EOS_GRID:vegetation_indices_all_time_testing/MOD13A2.A2000161.h08v05.006.2015137044400.hdf:MODIS_Grid_16DAY_1km_VI:1 km 16 days blue reflectance\n",
      "HDF4_EOS:EOS_GRID:vegetation_indices_all_time_testing/MOD13A2.A2000161.h08v05.006.2015137044400.hdf:MODIS_Grid_16DAY_1km_VI:1 km 16 days MIR reflectance\n",
      "HDF4_EOS:EOS_GRID:vegetation_indices_all_time_testing/MOD13A2.A2000161.h08v05.006.2015137044400.hdf:MODIS_Grid_16DAY_1km_VI:1 km 16 days view zenith angle\n",
      "HDF4_EOS:EOS_GRID:vegetation_indices_all_time_testing/MOD13A2.A2000161.h08v05.006.2015137044400.hdf:MODIS_Grid_16DAY_1km_VI:1 km 16 days sun zenith angle\n",
      "HDF4_EOS:EOS_GRID:vegetation_indices_all_time_testing/MOD13A2.A2000049.h08v05.006.2015136104428.hdf:MODIS_Grid_16DAY_1km_VI:1 km 16 days NDVI\n",
      "HDF4_EOS:EOS_GRID:vegetation_indices_all_time_testing/MOD13A2.A2000049.h08v05.006.2015136104428.hdf:MODIS_Grid_16DAY_1km_VI:1 km 16 days relative azimuth angle\n",
      "HDF4_EOS:EOS_GRID:vegetation_indices_all_time_testing/MOD13A2.A2000049.h08v05.006.2015136104428.hdf:MODIS_Grid_16DAY_1km_VI:1 km 16 days composite day of the year\n",
      "HDF4_EOS:EOS_GRID:vegetation_indices_all_time_testing/MOD13A2.A2000049.h08v05.006.2015136104428.hdf:MODIS_Grid_16DAY_1km_VI:1 km 16 days pixel reliability\n",
      "HDF4_EOS:EOS_GRID:vegetation_indices_all_time_testing/MOD13A2.A2000049.h08v05.006.2015136104428.hdf:MODIS_Grid_16DAY_1km_VI:1 km 16 days EVI\n",
      "HDF4_EOS:EOS_GRID:vegetation_indices_all_time_testing/MOD13A2.A2000049.h08v05.006.2015136104428.hdf:MODIS_Grid_16DAY_1km_VI:1 km 16 days VI Quality\n",
      "HDF4_EOS:EOS_GRID:vegetation_indices_all_time_testing/MOD13A2.A2000049.h08v05.006.2015136104428.hdf:MODIS_Grid_16DAY_1km_VI:1 km 16 days red reflectance\n",
      "HDF4_EOS:EOS_GRID:vegetation_indices_all_time_testing/MOD13A2.A2000049.h08v05.006.2015136104428.hdf:MODIS_Grid_16DAY_1km_VI:1 km 16 days NIR reflectance\n",
      "HDF4_EOS:EOS_GRID:vegetation_indices_all_time_testing/MOD13A2.A2000049.h08v05.006.2015136104428.hdf:MODIS_Grid_16DAY_1km_VI:1 km 16 days blue reflectance\n",
      "HDF4_EOS:EOS_GRID:vegetation_indices_all_time_testing/MOD13A2.A2000049.h08v05.006.2015136104428.hdf:MODIS_Grid_16DAY_1km_VI:1 km 16 days MIR reflectance\n",
      "HDF4_EOS:EOS_GRID:vegetation_indices_all_time_testing/MOD13A2.A2000049.h08v05.006.2015136104428.hdf:MODIS_Grid_16DAY_1km_VI:1 km 16 days view zenith angle\n",
      "HDF4_EOS:EOS_GRID:vegetation_indices_all_time_testing/MOD13A2.A2000049.h08v05.006.2015136104428.hdf:MODIS_Grid_16DAY_1km_VI:1 km 16 days sun zenith angle\n",
      "HDF4_EOS:EOS_GRID:vegetation_indices_all_time_testing/MOD13A2.A2000145.h08v05.006.2015137095459.hdf:MODIS_Grid_16DAY_1km_VI:1 km 16 days NDVI\n",
      "HDF4_EOS:EOS_GRID:vegetation_indices_all_time_testing/MOD13A2.A2000145.h08v05.006.2015137095459.hdf:MODIS_Grid_16DAY_1km_VI:1 km 16 days relative azimuth angle\n",
      "HDF4_EOS:EOS_GRID:vegetation_indices_all_time_testing/MOD13A2.A2000145.h08v05.006.2015137095459.hdf:MODIS_Grid_16DAY_1km_VI:1 km 16 days composite day of the year\n",
      "HDF4_EOS:EOS_GRID:vegetation_indices_all_time_testing/MOD13A2.A2000145.h08v05.006.2015137095459.hdf:MODIS_Grid_16DAY_1km_VI:1 km 16 days pixel reliability\n",
      "HDF4_EOS:EOS_GRID:vegetation_indices_all_time_testing/MOD13A2.A2000145.h08v05.006.2015137095459.hdf:MODIS_Grid_16DAY_1km_VI:1 km 16 days EVI\n",
      "HDF4_EOS:EOS_GRID:vegetation_indices_all_time_testing/MOD13A2.A2000145.h08v05.006.2015137095459.hdf:MODIS_Grid_16DAY_1km_VI:1 km 16 days VI Quality\n",
      "HDF4_EOS:EOS_GRID:vegetation_indices_all_time_testing/MOD13A2.A2000145.h08v05.006.2015137095459.hdf:MODIS_Grid_16DAY_1km_VI:1 km 16 days red reflectance\n",
      "HDF4_EOS:EOS_GRID:vegetation_indices_all_time_testing/MOD13A2.A2000145.h08v05.006.2015137095459.hdf:MODIS_Grid_16DAY_1km_VI:1 km 16 days NIR reflectance\n",
      "HDF4_EOS:EOS_GRID:vegetation_indices_all_time_testing/MOD13A2.A2000145.h08v05.006.2015137095459.hdf:MODIS_Grid_16DAY_1km_VI:1 km 16 days blue reflectance\n",
      "HDF4_EOS:EOS_GRID:vegetation_indices_all_time_testing/MOD13A2.A2000145.h08v05.006.2015137095459.hdf:MODIS_Grid_16DAY_1km_VI:1 km 16 days MIR reflectance\n",
      "HDF4_EOS:EOS_GRID:vegetation_indices_all_time_testing/MOD13A2.A2000145.h08v05.006.2015137095459.hdf:MODIS_Grid_16DAY_1km_VI:1 km 16 days view zenith angle\n",
      "HDF4_EOS:EOS_GRID:vegetation_indices_all_time_testing/MOD13A2.A2000145.h08v05.006.2015137095459.hdf:MODIS_Grid_16DAY_1km_VI:1 km 16 days sun zenith angle\n",
      "HDF4_EOS:EOS_GRID:vegetation_indices_all_time_testing/MOD13A2.A2000193.h08v05.006.2015138073343.hdf:MODIS_Grid_16DAY_1km_VI:1 km 16 days NDVI\n",
      "HDF4_EOS:EOS_GRID:vegetation_indices_all_time_testing/MOD13A2.A2000193.h08v05.006.2015138073343.hdf:MODIS_Grid_16DAY_1km_VI:1 km 16 days relative azimuth angle\n",
      "HDF4_EOS:EOS_GRID:vegetation_indices_all_time_testing/MOD13A2.A2000193.h08v05.006.2015138073343.hdf:MODIS_Grid_16DAY_1km_VI:1 km 16 days composite day of the year\n",
      "HDF4_EOS:EOS_GRID:vegetation_indices_all_time_testing/MOD13A2.A2000193.h08v05.006.2015138073343.hdf:MODIS_Grid_16DAY_1km_VI:1 km 16 days pixel reliability\n",
      "HDF4_EOS:EOS_GRID:vegetation_indices_all_time_testing/MOD13A2.A2000193.h08v05.006.2015138073343.hdf:MODIS_Grid_16DAY_1km_VI:1 km 16 days EVI\n",
      "HDF4_EOS:EOS_GRID:vegetation_indices_all_time_testing/MOD13A2.A2000193.h08v05.006.2015138073343.hdf:MODIS_Grid_16DAY_1km_VI:1 km 16 days VI Quality\n",
      "HDF4_EOS:EOS_GRID:vegetation_indices_all_time_testing/MOD13A2.A2000193.h08v05.006.2015138073343.hdf:MODIS_Grid_16DAY_1km_VI:1 km 16 days red reflectance\n",
      "HDF4_EOS:EOS_GRID:vegetation_indices_all_time_testing/MOD13A2.A2000193.h08v05.006.2015138073343.hdf:MODIS_Grid_16DAY_1km_VI:1 km 16 days NIR reflectance\n",
      "HDF4_EOS:EOS_GRID:vegetation_indices_all_time_testing/MOD13A2.A2000193.h08v05.006.2015138073343.hdf:MODIS_Grid_16DAY_1km_VI:1 km 16 days blue reflectance\n",
      "HDF4_EOS:EOS_GRID:vegetation_indices_all_time_testing/MOD13A2.A2000193.h08v05.006.2015138073343.hdf:MODIS_Grid_16DAY_1km_VI:1 km 16 days MIR reflectance\n",
      "HDF4_EOS:EOS_GRID:vegetation_indices_all_time_testing/MOD13A2.A2000193.h08v05.006.2015138073343.hdf:MODIS_Grid_16DAY_1km_VI:1 km 16 days view zenith angle\n",
      "HDF4_EOS:EOS_GRID:vegetation_indices_all_time_testing/MOD13A2.A2000193.h08v05.006.2015138073343.hdf:MODIS_Grid_16DAY_1km_VI:1 km 16 days sun zenith angle\n"
     ]
    },
    {
     "name": "stdout",
     "output_type": "stream",
     "text": [
      "HDF4_EOS:EOS_GRID:vegetation_indices_all_time_testing/MOD13A2.A2000145.h08v04.006.2015137094710.hdf:MODIS_Grid_16DAY_1km_VI:1 km 16 days NDVI\n",
      "HDF4_EOS:EOS_GRID:vegetation_indices_all_time_testing/MOD13A2.A2000145.h08v04.006.2015137094710.hdf:MODIS_Grid_16DAY_1km_VI:1 km 16 days relative azimuth angle\n",
      "HDF4_EOS:EOS_GRID:vegetation_indices_all_time_testing/MOD13A2.A2000145.h08v04.006.2015137094710.hdf:MODIS_Grid_16DAY_1km_VI:1 km 16 days composite day of the year\n",
      "HDF4_EOS:EOS_GRID:vegetation_indices_all_time_testing/MOD13A2.A2000145.h08v04.006.2015137094710.hdf:MODIS_Grid_16DAY_1km_VI:1 km 16 days pixel reliability\n",
      "HDF4_EOS:EOS_GRID:vegetation_indices_all_time_testing/MOD13A2.A2000145.h08v04.006.2015137094710.hdf:MODIS_Grid_16DAY_1km_VI:1 km 16 days EVI\n",
      "HDF4_EOS:EOS_GRID:vegetation_indices_all_time_testing/MOD13A2.A2000145.h08v04.006.2015137094710.hdf:MODIS_Grid_16DAY_1km_VI:1 km 16 days VI Quality\n",
      "HDF4_EOS:EOS_GRID:vegetation_indices_all_time_testing/MOD13A2.A2000145.h08v04.006.2015137094710.hdf:MODIS_Grid_16DAY_1km_VI:1 km 16 days red reflectance\n",
      "HDF4_EOS:EOS_GRID:vegetation_indices_all_time_testing/MOD13A2.A2000145.h08v04.006.2015137094710.hdf:MODIS_Grid_16DAY_1km_VI:1 km 16 days NIR reflectance\n",
      "HDF4_EOS:EOS_GRID:vegetation_indices_all_time_testing/MOD13A2.A2000145.h08v04.006.2015137094710.hdf:MODIS_Grid_16DAY_1km_VI:1 km 16 days blue reflectance\n",
      "HDF4_EOS:EOS_GRID:vegetation_indices_all_time_testing/MOD13A2.A2000145.h08v04.006.2015137094710.hdf:MODIS_Grid_16DAY_1km_VI:1 km 16 days MIR reflectance\n",
      "HDF4_EOS:EOS_GRID:vegetation_indices_all_time_testing/MOD13A2.A2000145.h08v04.006.2015137094710.hdf:MODIS_Grid_16DAY_1km_VI:1 km 16 days view zenith angle\n",
      "HDF4_EOS:EOS_GRID:vegetation_indices_all_time_testing/MOD13A2.A2000145.h08v04.006.2015137094710.hdf:MODIS_Grid_16DAY_1km_VI:1 km 16 days sun zenith angle\n",
      "HDF4_EOS:EOS_GRID:vegetation_indices_all_time_testing/MOD13A2.A2000177.h08v04.006.2015138073355.hdf:MODIS_Grid_16DAY_1km_VI:1 km 16 days NDVI\n",
      "HDF4_EOS:EOS_GRID:vegetation_indices_all_time_testing/MOD13A2.A2000177.h08v04.006.2015138073355.hdf:MODIS_Grid_16DAY_1km_VI:1 km 16 days relative azimuth angle\n",
      "HDF4_EOS:EOS_GRID:vegetation_indices_all_time_testing/MOD13A2.A2000177.h08v04.006.2015138073355.hdf:MODIS_Grid_16DAY_1km_VI:1 km 16 days composite day of the year\n",
      "HDF4_EOS:EOS_GRID:vegetation_indices_all_time_testing/MOD13A2.A2000177.h08v04.006.2015138073355.hdf:MODIS_Grid_16DAY_1km_VI:1 km 16 days pixel reliability\n",
      "HDF4_EOS:EOS_GRID:vegetation_indices_all_time_testing/MOD13A2.A2000177.h08v04.006.2015138073355.hdf:MODIS_Grid_16DAY_1km_VI:1 km 16 days EVI\n",
      "HDF4_EOS:EOS_GRID:vegetation_indices_all_time_testing/MOD13A2.A2000177.h08v04.006.2015138073355.hdf:MODIS_Grid_16DAY_1km_VI:1 km 16 days VI Quality\n",
      "HDF4_EOS:EOS_GRID:vegetation_indices_all_time_testing/MOD13A2.A2000177.h08v04.006.2015138073355.hdf:MODIS_Grid_16DAY_1km_VI:1 km 16 days red reflectance\n",
      "HDF4_EOS:EOS_GRID:vegetation_indices_all_time_testing/MOD13A2.A2000177.h08v04.006.2015138073355.hdf:MODIS_Grid_16DAY_1km_VI:1 km 16 days NIR reflectance\n",
      "HDF4_EOS:EOS_GRID:vegetation_indices_all_time_testing/MOD13A2.A2000177.h08v04.006.2015138073355.hdf:MODIS_Grid_16DAY_1km_VI:1 km 16 days blue reflectance\n",
      "HDF4_EOS:EOS_GRID:vegetation_indices_all_time_testing/MOD13A2.A2000177.h08v04.006.2015138073355.hdf:MODIS_Grid_16DAY_1km_VI:1 km 16 days MIR reflectance\n",
      "HDF4_EOS:EOS_GRID:vegetation_indices_all_time_testing/MOD13A2.A2000177.h08v04.006.2015138073355.hdf:MODIS_Grid_16DAY_1km_VI:1 km 16 days view zenith angle\n",
      "HDF4_EOS:EOS_GRID:vegetation_indices_all_time_testing/MOD13A2.A2000177.h08v04.006.2015138073355.hdf:MODIS_Grid_16DAY_1km_VI:1 km 16 days sun zenith angle\n",
      "HDF4_EOS:EOS_GRID:vegetation_indices_all_time_testing/MOD13A2.A2000113.h08v04.006.2015137032541.hdf:MODIS_Grid_16DAY_1km_VI:1 km 16 days NDVI\n",
      "HDF4_EOS:EOS_GRID:vegetation_indices_all_time_testing/MOD13A2.A2000113.h08v04.006.2015137032541.hdf:MODIS_Grid_16DAY_1km_VI:1 km 16 days relative azimuth angle\n",
      "HDF4_EOS:EOS_GRID:vegetation_indices_all_time_testing/MOD13A2.A2000113.h08v04.006.2015137032541.hdf:MODIS_Grid_16DAY_1km_VI:1 km 16 days composite day of the year\n",
      "HDF4_EOS:EOS_GRID:vegetation_indices_all_time_testing/MOD13A2.A2000113.h08v04.006.2015137032541.hdf:MODIS_Grid_16DAY_1km_VI:1 km 16 days pixel reliability\n",
      "HDF4_EOS:EOS_GRID:vegetation_indices_all_time_testing/MOD13A2.A2000113.h08v04.006.2015137032541.hdf:MODIS_Grid_16DAY_1km_VI:1 km 16 days EVI\n",
      "HDF4_EOS:EOS_GRID:vegetation_indices_all_time_testing/MOD13A2.A2000113.h08v04.006.2015137032541.hdf:MODIS_Grid_16DAY_1km_VI:1 km 16 days VI Quality\n",
      "HDF4_EOS:EOS_GRID:vegetation_indices_all_time_testing/MOD13A2.A2000113.h08v04.006.2015137032541.hdf:MODIS_Grid_16DAY_1km_VI:1 km 16 days red reflectance\n",
      "HDF4_EOS:EOS_GRID:vegetation_indices_all_time_testing/MOD13A2.A2000113.h08v04.006.2015137032541.hdf:MODIS_Grid_16DAY_1km_VI:1 km 16 days NIR reflectance\n",
      "HDF4_EOS:EOS_GRID:vegetation_indices_all_time_testing/MOD13A2.A2000113.h08v04.006.2015137032541.hdf:MODIS_Grid_16DAY_1km_VI:1 km 16 days blue reflectance\n",
      "HDF4_EOS:EOS_GRID:vegetation_indices_all_time_testing/MOD13A2.A2000113.h08v04.006.2015137032541.hdf:MODIS_Grid_16DAY_1km_VI:1 km 16 days MIR reflectance\n",
      "HDF4_EOS:EOS_GRID:vegetation_indices_all_time_testing/MOD13A2.A2000113.h08v04.006.2015137032541.hdf:MODIS_Grid_16DAY_1km_VI:1 km 16 days view zenith angle\n",
      "HDF4_EOS:EOS_GRID:vegetation_indices_all_time_testing/MOD13A2.A2000113.h08v04.006.2015137032541.hdf:MODIS_Grid_16DAY_1km_VI:1 km 16 days sun zenith angle\n",
      "HDF4_EOS:EOS_GRID:vegetation_indices_all_time_testing/MOD13A2.A2000177.h08v05.006.2015138071538.hdf:MODIS_Grid_16DAY_1km_VI:1 km 16 days NDVI\n",
      "HDF4_EOS:EOS_GRID:vegetation_indices_all_time_testing/MOD13A2.A2000177.h08v05.006.2015138071538.hdf:MODIS_Grid_16DAY_1km_VI:1 km 16 days relative azimuth angle\n",
      "HDF4_EOS:EOS_GRID:vegetation_indices_all_time_testing/MOD13A2.A2000177.h08v05.006.2015138071538.hdf:MODIS_Grid_16DAY_1km_VI:1 km 16 days composite day of the year\n",
      "HDF4_EOS:EOS_GRID:vegetation_indices_all_time_testing/MOD13A2.A2000177.h08v05.006.2015138071538.hdf:MODIS_Grid_16DAY_1km_VI:1 km 16 days pixel reliability\n",
      "HDF4_EOS:EOS_GRID:vegetation_indices_all_time_testing/MOD13A2.A2000177.h08v05.006.2015138071538.hdf:MODIS_Grid_16DAY_1km_VI:1 km 16 days EVI\n",
      "HDF4_EOS:EOS_GRID:vegetation_indices_all_time_testing/MOD13A2.A2000177.h08v05.006.2015138071538.hdf:MODIS_Grid_16DAY_1km_VI:1 km 16 days VI Quality\n",
      "HDF4_EOS:EOS_GRID:vegetation_indices_all_time_testing/MOD13A2.A2000177.h08v05.006.2015138071538.hdf:MODIS_Grid_16DAY_1km_VI:1 km 16 days red reflectance\n",
      "HDF4_EOS:EOS_GRID:vegetation_indices_all_time_testing/MOD13A2.A2000177.h08v05.006.2015138071538.hdf:MODIS_Grid_16DAY_1km_VI:1 km 16 days NIR reflectance\n",
      "HDF4_EOS:EOS_GRID:vegetation_indices_all_time_testing/MOD13A2.A2000177.h08v05.006.2015138071538.hdf:MODIS_Grid_16DAY_1km_VI:1 km 16 days blue reflectance\n",
      "HDF4_EOS:EOS_GRID:vegetation_indices_all_time_testing/MOD13A2.A2000177.h08v05.006.2015138071538.hdf:MODIS_Grid_16DAY_1km_VI:1 km 16 days MIR reflectance\n",
      "HDF4_EOS:EOS_GRID:vegetation_indices_all_time_testing/MOD13A2.A2000177.h08v05.006.2015138071538.hdf:MODIS_Grid_16DAY_1km_VI:1 km 16 days view zenith angle\n",
      "HDF4_EOS:EOS_GRID:vegetation_indices_all_time_testing/MOD13A2.A2000177.h08v05.006.2015138071538.hdf:MODIS_Grid_16DAY_1km_VI:1 km 16 days sun zenith angle\n",
      "HDF4_EOS:EOS_GRID:vegetation_indices_all_time_testing/MOD13A2.A2000129.h08v04.006.2015137052605.hdf:MODIS_Grid_16DAY_1km_VI:1 km 16 days NDVI\n",
      "HDF4_EOS:EOS_GRID:vegetation_indices_all_time_testing/MOD13A2.A2000129.h08v04.006.2015137052605.hdf:MODIS_Grid_16DAY_1km_VI:1 km 16 days relative azimuth angle\n",
      "HDF4_EOS:EOS_GRID:vegetation_indices_all_time_testing/MOD13A2.A2000129.h08v04.006.2015137052605.hdf:MODIS_Grid_16DAY_1km_VI:1 km 16 days composite day of the year\n",
      "HDF4_EOS:EOS_GRID:vegetation_indices_all_time_testing/MOD13A2.A2000129.h08v04.006.2015137052605.hdf:MODIS_Grid_16DAY_1km_VI:1 km 16 days pixel reliability\n",
      "HDF4_EOS:EOS_GRID:vegetation_indices_all_time_testing/MOD13A2.A2000129.h08v04.006.2015137052605.hdf:MODIS_Grid_16DAY_1km_VI:1 km 16 days EVI\n",
      "HDF4_EOS:EOS_GRID:vegetation_indices_all_time_testing/MOD13A2.A2000129.h08v04.006.2015137052605.hdf:MODIS_Grid_16DAY_1km_VI:1 km 16 days VI Quality\n",
      "HDF4_EOS:EOS_GRID:vegetation_indices_all_time_testing/MOD13A2.A2000129.h08v04.006.2015137052605.hdf:MODIS_Grid_16DAY_1km_VI:1 km 16 days red reflectance\n",
      "HDF4_EOS:EOS_GRID:vegetation_indices_all_time_testing/MOD13A2.A2000129.h08v04.006.2015137052605.hdf:MODIS_Grid_16DAY_1km_VI:1 km 16 days NIR reflectance\n",
      "HDF4_EOS:EOS_GRID:vegetation_indices_all_time_testing/MOD13A2.A2000129.h08v04.006.2015137052605.hdf:MODIS_Grid_16DAY_1km_VI:1 km 16 days blue reflectance\n",
      "HDF4_EOS:EOS_GRID:vegetation_indices_all_time_testing/MOD13A2.A2000129.h08v04.006.2015137052605.hdf:MODIS_Grid_16DAY_1km_VI:1 km 16 days MIR reflectance\n",
      "HDF4_EOS:EOS_GRID:vegetation_indices_all_time_testing/MOD13A2.A2000129.h08v04.006.2015137052605.hdf:MODIS_Grid_16DAY_1km_VI:1 km 16 days view zenith angle\n",
      "HDF4_EOS:EOS_GRID:vegetation_indices_all_time_testing/MOD13A2.A2000129.h08v04.006.2015137052605.hdf:MODIS_Grid_16DAY_1km_VI:1 km 16 days sun zenith angle\n",
      "HDF4_EOS:EOS_GRID:vegetation_indices_all_time_testing/MOD13A2.A2000049.h08v04.006.2015136104431.hdf:MODIS_Grid_16DAY_1km_VI:1 km 16 days NDVI\n",
      "HDF4_EOS:EOS_GRID:vegetation_indices_all_time_testing/MOD13A2.A2000049.h08v04.006.2015136104431.hdf:MODIS_Grid_16DAY_1km_VI:1 km 16 days relative azimuth angle\n",
      "HDF4_EOS:EOS_GRID:vegetation_indices_all_time_testing/MOD13A2.A2000049.h08v04.006.2015136104431.hdf:MODIS_Grid_16DAY_1km_VI:1 km 16 days composite day of the year\n",
      "HDF4_EOS:EOS_GRID:vegetation_indices_all_time_testing/MOD13A2.A2000049.h08v04.006.2015136104431.hdf:MODIS_Grid_16DAY_1km_VI:1 km 16 days pixel reliability\n",
      "HDF4_EOS:EOS_GRID:vegetation_indices_all_time_testing/MOD13A2.A2000049.h08v04.006.2015136104431.hdf:MODIS_Grid_16DAY_1km_VI:1 km 16 days EVI\n",
      "HDF4_EOS:EOS_GRID:vegetation_indices_all_time_testing/MOD13A2.A2000049.h08v04.006.2015136104431.hdf:MODIS_Grid_16DAY_1km_VI:1 km 16 days VI Quality\n",
      "HDF4_EOS:EOS_GRID:vegetation_indices_all_time_testing/MOD13A2.A2000049.h08v04.006.2015136104431.hdf:MODIS_Grid_16DAY_1km_VI:1 km 16 days red reflectance\n",
      "HDF4_EOS:EOS_GRID:vegetation_indices_all_time_testing/MOD13A2.A2000049.h08v04.006.2015136104431.hdf:MODIS_Grid_16DAY_1km_VI:1 km 16 days NIR reflectance\n",
      "HDF4_EOS:EOS_GRID:vegetation_indices_all_time_testing/MOD13A2.A2000049.h08v04.006.2015136104431.hdf:MODIS_Grid_16DAY_1km_VI:1 km 16 days blue reflectance\n",
      "HDF4_EOS:EOS_GRID:vegetation_indices_all_time_testing/MOD13A2.A2000049.h08v04.006.2015136104431.hdf:MODIS_Grid_16DAY_1km_VI:1 km 16 days MIR reflectance\n",
      "HDF4_EOS:EOS_GRID:vegetation_indices_all_time_testing/MOD13A2.A2000049.h08v04.006.2015136104431.hdf:MODIS_Grid_16DAY_1km_VI:1 km 16 days view zenith angle\n",
      "HDF4_EOS:EOS_GRID:vegetation_indices_all_time_testing/MOD13A2.A2000049.h08v04.006.2015136104431.hdf:MODIS_Grid_16DAY_1km_VI:1 km 16 days sun zenith angle\n"
     ]
    },
    {
     "name": "stdout",
     "output_type": "stream",
     "text": [
      "HDF4_EOS:EOS_GRID:vegetation_indices_all_time_testing/MOD13A2.A2000081.h08v04.006.2015136041919.hdf:MODIS_Grid_16DAY_1km_VI:1 km 16 days NDVI\n",
      "HDF4_EOS:EOS_GRID:vegetation_indices_all_time_testing/MOD13A2.A2000081.h08v04.006.2015136041919.hdf:MODIS_Grid_16DAY_1km_VI:1 km 16 days relative azimuth angle\n",
      "HDF4_EOS:EOS_GRID:vegetation_indices_all_time_testing/MOD13A2.A2000081.h08v04.006.2015136041919.hdf:MODIS_Grid_16DAY_1km_VI:1 km 16 days composite day of the year\n",
      "HDF4_EOS:EOS_GRID:vegetation_indices_all_time_testing/MOD13A2.A2000081.h08v04.006.2015136041919.hdf:MODIS_Grid_16DAY_1km_VI:1 km 16 days pixel reliability\n",
      "HDF4_EOS:EOS_GRID:vegetation_indices_all_time_testing/MOD13A2.A2000081.h08v04.006.2015136041919.hdf:MODIS_Grid_16DAY_1km_VI:1 km 16 days EVI\n",
      "HDF4_EOS:EOS_GRID:vegetation_indices_all_time_testing/MOD13A2.A2000081.h08v04.006.2015136041919.hdf:MODIS_Grid_16DAY_1km_VI:1 km 16 days VI Quality\n",
      "HDF4_EOS:EOS_GRID:vegetation_indices_all_time_testing/MOD13A2.A2000081.h08v04.006.2015136041919.hdf:MODIS_Grid_16DAY_1km_VI:1 km 16 days red reflectance\n",
      "HDF4_EOS:EOS_GRID:vegetation_indices_all_time_testing/MOD13A2.A2000081.h08v04.006.2015136041919.hdf:MODIS_Grid_16DAY_1km_VI:1 km 16 days NIR reflectance\n",
      "HDF4_EOS:EOS_GRID:vegetation_indices_all_time_testing/MOD13A2.A2000081.h08v04.006.2015136041919.hdf:MODIS_Grid_16DAY_1km_VI:1 km 16 days blue reflectance\n",
      "HDF4_EOS:EOS_GRID:vegetation_indices_all_time_testing/MOD13A2.A2000081.h08v04.006.2015136041919.hdf:MODIS_Grid_16DAY_1km_VI:1 km 16 days MIR reflectance\n",
      "HDF4_EOS:EOS_GRID:vegetation_indices_all_time_testing/MOD13A2.A2000081.h08v04.006.2015136041919.hdf:MODIS_Grid_16DAY_1km_VI:1 km 16 days view zenith angle\n",
      "HDF4_EOS:EOS_GRID:vegetation_indices_all_time_testing/MOD13A2.A2000081.h08v04.006.2015136041919.hdf:MODIS_Grid_16DAY_1km_VI:1 km 16 days sun zenith angle\n",
      "HDF4_EOS:EOS_GRID:vegetation_indices_all_time_testing/MOD13A2.A2000161.h08v04.006.2015137045247.hdf:MODIS_Grid_16DAY_1km_VI:1 km 16 days NDVI\n",
      "HDF4_EOS:EOS_GRID:vegetation_indices_all_time_testing/MOD13A2.A2000161.h08v04.006.2015137045247.hdf:MODIS_Grid_16DAY_1km_VI:1 km 16 days relative azimuth angle\n",
      "HDF4_EOS:EOS_GRID:vegetation_indices_all_time_testing/MOD13A2.A2000161.h08v04.006.2015137045247.hdf:MODIS_Grid_16DAY_1km_VI:1 km 16 days composite day of the year\n",
      "HDF4_EOS:EOS_GRID:vegetation_indices_all_time_testing/MOD13A2.A2000161.h08v04.006.2015137045247.hdf:MODIS_Grid_16DAY_1km_VI:1 km 16 days pixel reliability\n",
      "HDF4_EOS:EOS_GRID:vegetation_indices_all_time_testing/MOD13A2.A2000161.h08v04.006.2015137045247.hdf:MODIS_Grid_16DAY_1km_VI:1 km 16 days EVI\n",
      "HDF4_EOS:EOS_GRID:vegetation_indices_all_time_testing/MOD13A2.A2000161.h08v04.006.2015137045247.hdf:MODIS_Grid_16DAY_1km_VI:1 km 16 days VI Quality\n",
      "HDF4_EOS:EOS_GRID:vegetation_indices_all_time_testing/MOD13A2.A2000161.h08v04.006.2015137045247.hdf:MODIS_Grid_16DAY_1km_VI:1 km 16 days red reflectance\n",
      "HDF4_EOS:EOS_GRID:vegetation_indices_all_time_testing/MOD13A2.A2000161.h08v04.006.2015137045247.hdf:MODIS_Grid_16DAY_1km_VI:1 km 16 days NIR reflectance\n",
      "HDF4_EOS:EOS_GRID:vegetation_indices_all_time_testing/MOD13A2.A2000161.h08v04.006.2015137045247.hdf:MODIS_Grid_16DAY_1km_VI:1 km 16 days blue reflectance\n",
      "HDF4_EOS:EOS_GRID:vegetation_indices_all_time_testing/MOD13A2.A2000161.h08v04.006.2015137045247.hdf:MODIS_Grid_16DAY_1km_VI:1 km 16 days MIR reflectance\n",
      "HDF4_EOS:EOS_GRID:vegetation_indices_all_time_testing/MOD13A2.A2000161.h08v04.006.2015137045247.hdf:MODIS_Grid_16DAY_1km_VI:1 km 16 days view zenith angle\n",
      "HDF4_EOS:EOS_GRID:vegetation_indices_all_time_testing/MOD13A2.A2000161.h08v04.006.2015137045247.hdf:MODIS_Grid_16DAY_1km_VI:1 km 16 days sun zenith angle\n",
      "HDF4_EOS:EOS_GRID:vegetation_indices_all_time_testing/MOD13A2.A2000097.h08v05.006.2015136040245.hdf:MODIS_Grid_16DAY_1km_VI:1 km 16 days NDVI\n",
      "HDF4_EOS:EOS_GRID:vegetation_indices_all_time_testing/MOD13A2.A2000097.h08v05.006.2015136040245.hdf:MODIS_Grid_16DAY_1km_VI:1 km 16 days relative azimuth angle\n",
      "HDF4_EOS:EOS_GRID:vegetation_indices_all_time_testing/MOD13A2.A2000097.h08v05.006.2015136040245.hdf:MODIS_Grid_16DAY_1km_VI:1 km 16 days composite day of the year\n",
      "HDF4_EOS:EOS_GRID:vegetation_indices_all_time_testing/MOD13A2.A2000097.h08v05.006.2015136040245.hdf:MODIS_Grid_16DAY_1km_VI:1 km 16 days pixel reliability\n",
      "HDF4_EOS:EOS_GRID:vegetation_indices_all_time_testing/MOD13A2.A2000097.h08v05.006.2015136040245.hdf:MODIS_Grid_16DAY_1km_VI:1 km 16 days EVI\n",
      "HDF4_EOS:EOS_GRID:vegetation_indices_all_time_testing/MOD13A2.A2000097.h08v05.006.2015136040245.hdf:MODIS_Grid_16DAY_1km_VI:1 km 16 days VI Quality\n",
      "HDF4_EOS:EOS_GRID:vegetation_indices_all_time_testing/MOD13A2.A2000097.h08v05.006.2015136040245.hdf:MODIS_Grid_16DAY_1km_VI:1 km 16 days red reflectance\n",
      "HDF4_EOS:EOS_GRID:vegetation_indices_all_time_testing/MOD13A2.A2000097.h08v05.006.2015136040245.hdf:MODIS_Grid_16DAY_1km_VI:1 km 16 days NIR reflectance\n",
      "HDF4_EOS:EOS_GRID:vegetation_indices_all_time_testing/MOD13A2.A2000097.h08v05.006.2015136040245.hdf:MODIS_Grid_16DAY_1km_VI:1 km 16 days blue reflectance\n",
      "HDF4_EOS:EOS_GRID:vegetation_indices_all_time_testing/MOD13A2.A2000097.h08v05.006.2015136040245.hdf:MODIS_Grid_16DAY_1km_VI:1 km 16 days MIR reflectance\n",
      "HDF4_EOS:EOS_GRID:vegetation_indices_all_time_testing/MOD13A2.A2000097.h08v05.006.2015136040245.hdf:MODIS_Grid_16DAY_1km_VI:1 km 16 days view zenith angle\n",
      "HDF4_EOS:EOS_GRID:vegetation_indices_all_time_testing/MOD13A2.A2000097.h08v05.006.2015136040245.hdf:MODIS_Grid_16DAY_1km_VI:1 km 16 days sun zenith angle\n",
      "HDF4_EOS:EOS_GRID:vegetation_indices_all_time_testing/MOD13A2.A2000081.h08v05.006.2015136041359.hdf:MODIS_Grid_16DAY_1km_VI:1 km 16 days NDVI\n",
      "HDF4_EOS:EOS_GRID:vegetation_indices_all_time_testing/MOD13A2.A2000081.h08v05.006.2015136041359.hdf:MODIS_Grid_16DAY_1km_VI:1 km 16 days relative azimuth angle\n",
      "HDF4_EOS:EOS_GRID:vegetation_indices_all_time_testing/MOD13A2.A2000081.h08v05.006.2015136041359.hdf:MODIS_Grid_16DAY_1km_VI:1 km 16 days composite day of the year\n",
      "HDF4_EOS:EOS_GRID:vegetation_indices_all_time_testing/MOD13A2.A2000081.h08v05.006.2015136041359.hdf:MODIS_Grid_16DAY_1km_VI:1 km 16 days pixel reliability\n",
      "HDF4_EOS:EOS_GRID:vegetation_indices_all_time_testing/MOD13A2.A2000081.h08v05.006.2015136041359.hdf:MODIS_Grid_16DAY_1km_VI:1 km 16 days EVI\n",
      "HDF4_EOS:EOS_GRID:vegetation_indices_all_time_testing/MOD13A2.A2000081.h08v05.006.2015136041359.hdf:MODIS_Grid_16DAY_1km_VI:1 km 16 days VI Quality\n",
      "HDF4_EOS:EOS_GRID:vegetation_indices_all_time_testing/MOD13A2.A2000081.h08v05.006.2015136041359.hdf:MODIS_Grid_16DAY_1km_VI:1 km 16 days red reflectance\n",
      "HDF4_EOS:EOS_GRID:vegetation_indices_all_time_testing/MOD13A2.A2000081.h08v05.006.2015136041359.hdf:MODIS_Grid_16DAY_1km_VI:1 km 16 days NIR reflectance\n",
      "HDF4_EOS:EOS_GRID:vegetation_indices_all_time_testing/MOD13A2.A2000081.h08v05.006.2015136041359.hdf:MODIS_Grid_16DAY_1km_VI:1 km 16 days blue reflectance\n",
      "HDF4_EOS:EOS_GRID:vegetation_indices_all_time_testing/MOD13A2.A2000081.h08v05.006.2015136041359.hdf:MODIS_Grid_16DAY_1km_VI:1 km 16 days MIR reflectance\n",
      "HDF4_EOS:EOS_GRID:vegetation_indices_all_time_testing/MOD13A2.A2000081.h08v05.006.2015136041359.hdf:MODIS_Grid_16DAY_1km_VI:1 km 16 days view zenith angle\n",
      "HDF4_EOS:EOS_GRID:vegetation_indices_all_time_testing/MOD13A2.A2000081.h08v05.006.2015136041359.hdf:MODIS_Grid_16DAY_1km_VI:1 km 16 days sun zenith angle\n",
      "HDF4_EOS:EOS_GRID:vegetation_indices_all_time_testing/MOD13A2.A2000097.h08v04.006.2015136041351.hdf:MODIS_Grid_16DAY_1km_VI:1 km 16 days NDVI\n",
      "HDF4_EOS:EOS_GRID:vegetation_indices_all_time_testing/MOD13A2.A2000097.h08v04.006.2015136041351.hdf:MODIS_Grid_16DAY_1km_VI:1 km 16 days relative azimuth angle\n",
      "HDF4_EOS:EOS_GRID:vegetation_indices_all_time_testing/MOD13A2.A2000097.h08v04.006.2015136041351.hdf:MODIS_Grid_16DAY_1km_VI:1 km 16 days composite day of the year\n",
      "HDF4_EOS:EOS_GRID:vegetation_indices_all_time_testing/MOD13A2.A2000097.h08v04.006.2015136041351.hdf:MODIS_Grid_16DAY_1km_VI:1 km 16 days pixel reliability\n",
      "HDF4_EOS:EOS_GRID:vegetation_indices_all_time_testing/MOD13A2.A2000097.h08v04.006.2015136041351.hdf:MODIS_Grid_16DAY_1km_VI:1 km 16 days EVI\n",
      "HDF4_EOS:EOS_GRID:vegetation_indices_all_time_testing/MOD13A2.A2000097.h08v04.006.2015136041351.hdf:MODIS_Grid_16DAY_1km_VI:1 km 16 days VI Quality\n",
      "HDF4_EOS:EOS_GRID:vegetation_indices_all_time_testing/MOD13A2.A2000097.h08v04.006.2015136041351.hdf:MODIS_Grid_16DAY_1km_VI:1 km 16 days red reflectance\n",
      "HDF4_EOS:EOS_GRID:vegetation_indices_all_time_testing/MOD13A2.A2000097.h08v04.006.2015136041351.hdf:MODIS_Grid_16DAY_1km_VI:1 km 16 days NIR reflectance\n",
      "HDF4_EOS:EOS_GRID:vegetation_indices_all_time_testing/MOD13A2.A2000097.h08v04.006.2015136041351.hdf:MODIS_Grid_16DAY_1km_VI:1 km 16 days blue reflectance\n",
      "HDF4_EOS:EOS_GRID:vegetation_indices_all_time_testing/MOD13A2.A2000097.h08v04.006.2015136041351.hdf:MODIS_Grid_16DAY_1km_VI:1 km 16 days MIR reflectance\n",
      "HDF4_EOS:EOS_GRID:vegetation_indices_all_time_testing/MOD13A2.A2000097.h08v04.006.2015136041351.hdf:MODIS_Grid_16DAY_1km_VI:1 km 16 days view zenith angle\n",
      "HDF4_EOS:EOS_GRID:vegetation_indices_all_time_testing/MOD13A2.A2000097.h08v04.006.2015136041351.hdf:MODIS_Grid_16DAY_1km_VI:1 km 16 days sun zenith angle\n",
      "HDF4_EOS:EOS_GRID:vegetation_indices_all_time_testing/MOD13A2.A2000129.h08v05.006.2015137052212.hdf:MODIS_Grid_16DAY_1km_VI:1 km 16 days NDVI\n",
      "HDF4_EOS:EOS_GRID:vegetation_indices_all_time_testing/MOD13A2.A2000129.h08v05.006.2015137052212.hdf:MODIS_Grid_16DAY_1km_VI:1 km 16 days relative azimuth angle\n",
      "HDF4_EOS:EOS_GRID:vegetation_indices_all_time_testing/MOD13A2.A2000129.h08v05.006.2015137052212.hdf:MODIS_Grid_16DAY_1km_VI:1 km 16 days composite day of the year\n",
      "HDF4_EOS:EOS_GRID:vegetation_indices_all_time_testing/MOD13A2.A2000129.h08v05.006.2015137052212.hdf:MODIS_Grid_16DAY_1km_VI:1 km 16 days pixel reliability\n",
      "HDF4_EOS:EOS_GRID:vegetation_indices_all_time_testing/MOD13A2.A2000129.h08v05.006.2015137052212.hdf:MODIS_Grid_16DAY_1km_VI:1 km 16 days EVI\n",
      "HDF4_EOS:EOS_GRID:vegetation_indices_all_time_testing/MOD13A2.A2000129.h08v05.006.2015137052212.hdf:MODIS_Grid_16DAY_1km_VI:1 km 16 days VI Quality\n",
      "HDF4_EOS:EOS_GRID:vegetation_indices_all_time_testing/MOD13A2.A2000129.h08v05.006.2015137052212.hdf:MODIS_Grid_16DAY_1km_VI:1 km 16 days red reflectance\n",
      "HDF4_EOS:EOS_GRID:vegetation_indices_all_time_testing/MOD13A2.A2000129.h08v05.006.2015137052212.hdf:MODIS_Grid_16DAY_1km_VI:1 km 16 days NIR reflectance\n",
      "HDF4_EOS:EOS_GRID:vegetation_indices_all_time_testing/MOD13A2.A2000129.h08v05.006.2015137052212.hdf:MODIS_Grid_16DAY_1km_VI:1 km 16 days blue reflectance\n",
      "HDF4_EOS:EOS_GRID:vegetation_indices_all_time_testing/MOD13A2.A2000129.h08v05.006.2015137052212.hdf:MODIS_Grid_16DAY_1km_VI:1 km 16 days MIR reflectance\n",
      "HDF4_EOS:EOS_GRID:vegetation_indices_all_time_testing/MOD13A2.A2000129.h08v05.006.2015137052212.hdf:MODIS_Grid_16DAY_1km_VI:1 km 16 days view zenith angle\n",
      "HDF4_EOS:EOS_GRID:vegetation_indices_all_time_testing/MOD13A2.A2000129.h08v05.006.2015137052212.hdf:MODIS_Grid_16DAY_1km_VI:1 km 16 days sun zenith angle\n"
     ]
    },
    {
     "name": "stdout",
     "output_type": "stream",
     "text": [
      "HDF4_EOS:EOS_GRID:vegetation_indices_all_time_testing/MOD13A2.A2000193.h08v04.006.2015138073331.hdf:MODIS_Grid_16DAY_1km_VI:1 km 16 days NDVI\n",
      "HDF4_EOS:EOS_GRID:vegetation_indices_all_time_testing/MOD13A2.A2000193.h08v04.006.2015138073331.hdf:MODIS_Grid_16DAY_1km_VI:1 km 16 days relative azimuth angle\n",
      "HDF4_EOS:EOS_GRID:vegetation_indices_all_time_testing/MOD13A2.A2000193.h08v04.006.2015138073331.hdf:MODIS_Grid_16DAY_1km_VI:1 km 16 days composite day of the year\n",
      "HDF4_EOS:EOS_GRID:vegetation_indices_all_time_testing/MOD13A2.A2000193.h08v04.006.2015138073331.hdf:MODIS_Grid_16DAY_1km_VI:1 km 16 days pixel reliability\n",
      "HDF4_EOS:EOS_GRID:vegetation_indices_all_time_testing/MOD13A2.A2000193.h08v04.006.2015138073331.hdf:MODIS_Grid_16DAY_1km_VI:1 km 16 days EVI\n",
      "HDF4_EOS:EOS_GRID:vegetation_indices_all_time_testing/MOD13A2.A2000193.h08v04.006.2015138073331.hdf:MODIS_Grid_16DAY_1km_VI:1 km 16 days VI Quality\n",
      "HDF4_EOS:EOS_GRID:vegetation_indices_all_time_testing/MOD13A2.A2000193.h08v04.006.2015138073331.hdf:MODIS_Grid_16DAY_1km_VI:1 km 16 days red reflectance\n",
      "HDF4_EOS:EOS_GRID:vegetation_indices_all_time_testing/MOD13A2.A2000193.h08v04.006.2015138073331.hdf:MODIS_Grid_16DAY_1km_VI:1 km 16 days NIR reflectance\n",
      "HDF4_EOS:EOS_GRID:vegetation_indices_all_time_testing/MOD13A2.A2000193.h08v04.006.2015138073331.hdf:MODIS_Grid_16DAY_1km_VI:1 km 16 days blue reflectance\n",
      "HDF4_EOS:EOS_GRID:vegetation_indices_all_time_testing/MOD13A2.A2000193.h08v04.006.2015138073331.hdf:MODIS_Grid_16DAY_1km_VI:1 km 16 days MIR reflectance\n",
      "HDF4_EOS:EOS_GRID:vegetation_indices_all_time_testing/MOD13A2.A2000193.h08v04.006.2015138073331.hdf:MODIS_Grid_16DAY_1km_VI:1 km 16 days view zenith angle\n",
      "HDF4_EOS:EOS_GRID:vegetation_indices_all_time_testing/MOD13A2.A2000193.h08v04.006.2015138073331.hdf:MODIS_Grid_16DAY_1km_VI:1 km 16 days sun zenith angle\n",
      "HDF4_EOS:EOS_GRID:vegetation_indices_all_time_testing/MOD13A2.A2000065.h08v04.006.2015136023134.hdf:MODIS_Grid_16DAY_1km_VI:1 km 16 days NDVI\n",
      "HDF4_EOS:EOS_GRID:vegetation_indices_all_time_testing/MOD13A2.A2000065.h08v04.006.2015136023134.hdf:MODIS_Grid_16DAY_1km_VI:1 km 16 days relative azimuth angle\n",
      "HDF4_EOS:EOS_GRID:vegetation_indices_all_time_testing/MOD13A2.A2000065.h08v04.006.2015136023134.hdf:MODIS_Grid_16DAY_1km_VI:1 km 16 days composite day of the year\n",
      "HDF4_EOS:EOS_GRID:vegetation_indices_all_time_testing/MOD13A2.A2000065.h08v04.006.2015136023134.hdf:MODIS_Grid_16DAY_1km_VI:1 km 16 days pixel reliability\n",
      "HDF4_EOS:EOS_GRID:vegetation_indices_all_time_testing/MOD13A2.A2000065.h08v04.006.2015136023134.hdf:MODIS_Grid_16DAY_1km_VI:1 km 16 days EVI\n",
      "HDF4_EOS:EOS_GRID:vegetation_indices_all_time_testing/MOD13A2.A2000065.h08v04.006.2015136023134.hdf:MODIS_Grid_16DAY_1km_VI:1 km 16 days VI Quality\n",
      "HDF4_EOS:EOS_GRID:vegetation_indices_all_time_testing/MOD13A2.A2000065.h08v04.006.2015136023134.hdf:MODIS_Grid_16DAY_1km_VI:1 km 16 days red reflectance\n",
      "HDF4_EOS:EOS_GRID:vegetation_indices_all_time_testing/MOD13A2.A2000065.h08v04.006.2015136023134.hdf:MODIS_Grid_16DAY_1km_VI:1 km 16 days NIR reflectance\n",
      "HDF4_EOS:EOS_GRID:vegetation_indices_all_time_testing/MOD13A2.A2000065.h08v04.006.2015136023134.hdf:MODIS_Grid_16DAY_1km_VI:1 km 16 days blue reflectance\n",
      "HDF4_EOS:EOS_GRID:vegetation_indices_all_time_testing/MOD13A2.A2000065.h08v04.006.2015136023134.hdf:MODIS_Grid_16DAY_1km_VI:1 km 16 days MIR reflectance\n",
      "HDF4_EOS:EOS_GRID:vegetation_indices_all_time_testing/MOD13A2.A2000065.h08v04.006.2015136023134.hdf:MODIS_Grid_16DAY_1km_VI:1 km 16 days view zenith angle\n",
      "HDF4_EOS:EOS_GRID:vegetation_indices_all_time_testing/MOD13A2.A2000065.h08v04.006.2015136023134.hdf:MODIS_Grid_16DAY_1km_VI:1 km 16 days sun zenith angle\n"
     ]
    }
   ],
   "source": [
    "# Print all of the subdatasets in the data\n",
    "for path_to_file in paths_to_files:\n",
    "    with rio.open(path_to_file) as dataset:\n",
    "        crs = dataset.read_crs()\n",
    "        for name in dataset.subdatasets:\n",
    "            print(name)"
   ]
  },
  {
   "cell_type": "markdown",
   "metadata": {},
   "source": [
    "### Used paths_to_files[0] to process the first HDF file of dataset"
   ]
  },
  {
   "cell_type": "code",
   "execution_count": 18,
   "metadata": {},
   "outputs": [],
   "source": [
    "# Create list to append arrays (of all type of data)\n",
    "vegetation_data_test = []\n",
    "vegetation_names_test = []\n",
    "\n",
    "# Open the precipitation HDF5 file \n",
    "with rio.open(paths_to_files[0]) as dataset:\n",
    "    \n",
    "    # loop through each subdataset in HDF5 file\n",
    "    for name in dataset.subdatasets:\n",
    "        \n",
    "        # Open the subdataset \n",
    "        with rio.open(name) as subdataset:\n",
    "            modis_meta = subdataset.profile\n",
    "            \n",
    "            # Read data as a  2 dimensional array and append to list\n",
    "            vegetation_data_test.append(subdataset.read(1))\n",
    "            vegetation_names_test.append(name);\n",
    "#             np.savetxt(str(name)[-10:-1] + \".csv\", subdataset.read(1), delimiter=\",\")\n",
    "\n",
    "\n",
    "# vegetation_data_stacked = np.stack(vegetation_data)"
   ]
  },
  {
   "cell_type": "code",
   "execution_count": 19,
   "metadata": {},
   "outputs": [],
   "source": [
    "## all NVDI test \n",
    "# all_nvdi = []\n",
    "\n",
    "# for path_to_file in paths_to_files:\n",
    "    \n",
    "#     with rio.open(path_to_file) as dataset:\n",
    "        \n",
    "#         for name in dataset.subdatasets:\n",
    "#             if re.search(\"NDVI.\\_1$\", name):\n",
    "            \n",
    "#                 with rio.open(name) as subdataset:\n",
    "#                     modis_meta = subdataset.profile\n",
    "                    \n",
    "#                     all_nvdi.append(subdataset.read(1))"
   ]
  },
  {
   "cell_type": "code",
   "execution_count": 20,
   "metadata": {},
   "outputs": [
    {
     "data": {
      "text/plain": [
       "[array([[-3000, -3000, -3000, ...,  2469,  2233,  1909],\n",
       "        [-3000, -3000, -3000, ...,  1858,  1862,  1567],\n",
       "        [-3000, -3000, -3000, ...,  2110,  6304,  1412],\n",
       "        ...,\n",
       "        [ 2444,  2580,  2598, ...,  1458,  1565,  1758],\n",
       "        [ 2486,  2511,  2453, ...,  2077,  1866,  1691],\n",
       "        [ 2427,  2371,  2373, ...,  1686,  1764,  1728]], dtype=int16),\n",
       " array([[-4000, -4000, -4000, ..., -4844, -5385, -5386],\n",
       "        [-4000, -4000, -4000, ..., -5095, -5095, -5095],\n",
       "        [-4000, -4000, -4000, ..., -5127, -4877, -5096],\n",
       "        ...,\n",
       "        [13379, 13353, 13351, ..., 13099, 13097, 13096],\n",
       "        [13378, 13376, 13374, ..., 13119, 13118, 13094],\n",
       "        [13396, 13386, 13384, ..., 13140, 13127, 13126]], dtype=int16),\n",
       " array([[ -1,  -1,  -1, ..., 124, 115, 115],\n",
       "        [ -1,  -1,  -1, ..., 115, 115, 115],\n",
       "        [ -1,  -1,  -1, ..., 115, 124, 115],\n",
       "        ...,\n",
       "        [115, 115, 115, ..., 114, 114, 114],\n",
       "        [115, 115, 115, ..., 114, 114, 114],\n",
       "        [115, 115, 115, ..., 114, 114, 114]], dtype=int16),\n",
       " array([[255, 255, 255, ...,   0,   0,   0],\n",
       "        [255, 255, 255, ...,   0,   0,   0],\n",
       "        [255, 255, 255, ...,   0,   1,   0],\n",
       "        ...,\n",
       "        [  0,   0,   0, ...,   0,   0,   0],\n",
       "        [  0,   0,   0, ...,   0,   0,   0],\n",
       "        [  0,   0,   0, ...,   0,   0,   0]], dtype=uint8),\n",
       " array([[-3000, -3000, -3000, ...,  1694,  1407,  1287],\n",
       "        [-3000, -3000, -3000, ...,  1260,  1260,  1092],\n",
       "        [-3000, -3000, -3000, ...,  1569,  5519,  1011],\n",
       "        ...,\n",
       "        [ 1208,  1184,  1211, ...,  1065,  1041,  1087],\n",
       "        [ 1192,  1185,  1185, ...,  1252,  1107,  1057],\n",
       "        [ 1163,  1134,  1087, ...,  1043,  1079,  1077]], dtype=int16),\n",
       " array([[65535, 65535, 65535, ...,  2112,  2112,  2112],\n",
       "        [65535, 65535, 65535, ...,  2112,  2112,  2112],\n",
       "        [65535, 65535, 65535, ...,  2112,  2181,  2112],\n",
       "        ...,\n",
       "        [ 2112,  2112,  2112, ...,  2112,  2112,  2112],\n",
       "        [ 2112,  2112,  2112, ...,  2112,  2112,  2112],\n",
       "        [ 2112,  2112,  2112, ...,  2112,  2112,  2112]], dtype=uint16),\n",
       " array([[-1000, -1000, -1000, ...,  1566,  1412,  1610],\n",
       "        [-1000, -1000, -1000, ...,  1654,  1632,  1775],\n",
       "        [-1000, -1000, -1000, ...,  1867,  1074,  1888],\n",
       "        ...,\n",
       "        [ 1122,   969,   974, ...,  2056,  1705,  1525],\n",
       "        [ 1038,  1024,  1046, ...,  1375,  1388,  1577],\n",
       "        [ 1064,  1050,   996, ...,  1523,  1484,  1553]], dtype=int16),\n",
       " array([[-1000, -1000, -1000, ...,  2593,  2224,  2370],\n",
       "        [-1000, -1000, -1000, ...,  2409,  2379,  2435],\n",
       "        [-1000, -1000, -1000, ...,  2866,  4739,  2509],\n",
       "        ...,\n",
       "        [ 1848,  1643,  1658, ...,  2758,  2338,  2176],\n",
       "        [ 1725,  1711,  1726, ...,  2096,  2025,  2219],\n",
       "        [ 1746,  1703,  1616, ...,  2141,  2120,  2202]], dtype=int16),\n",
       " array([[-1000, -1000, -1000, ...,   911,   837,   970],\n",
       "        [-1000, -1000, -1000, ...,   981,   980,  1064],\n",
       "        [-1000, -1000, -1000, ...,  1088,   611,  1132],\n",
       "        ...,\n",
       "        [  475,   431,   452, ...,  1149,   984,   848],\n",
       "        [  474,   449,   489, ...,   794,   797,   868],\n",
       "        [  463,   482,   446, ...,   864,   839,   862]], dtype=int16),\n",
       " array([[-1000, -1000, -1000, ...,  1982,  1724,  1729],\n",
       "        [-1000, -1000, -1000, ...,  1724,  1726,  1728],\n",
       "        [-1000, -1000, -1000, ...,  1727,  2019,  1726],\n",
       "        ...,\n",
       "        [ 1860,  1608,  1642, ...,  2439,  2439,  2436],\n",
       "        [ 1803,  1823,  1770, ...,  2438,  2442,  2438],\n",
       "        [ 1854,  1773,  1641, ...,  2441,  2439,  2438]], dtype=int16),\n",
       " array([[-10000, -10000, -10000, ...,   2668,   1631,   1622],\n",
       "        [-10000, -10000, -10000, ...,   1620,   1616,   1607],\n",
       "        [-10000, -10000, -10000, ...,   1605,   2638,   1596],\n",
       "        ...,\n",
       "        [  2163,   2163,   2172, ...,   2669,   2678,   2684],\n",
       "        [  2165,   2174,   2182, ...,   2678,   2687,   2696],\n",
       "        [  2174,   2184,   2193, ...,   2684,   2693,   2698]], dtype=int16),\n",
       " array([[-10000, -10000, -10000, ...,   2725,   2933,   2932],\n",
       "        [-10000, -10000, -10000, ...,   2931,   2931,   2931],\n",
       "        [-10000, -10000, -10000, ...,   2930,   2722,   2930],\n",
       "        ...,\n",
       "        [  1958,   1959,   1958, ...,   1960,   1959,   1958],\n",
       "        [  1957,   1957,   1957, ...,   1958,   1958,   1958],\n",
       "        [  1956,   1956,   1955, ...,   1957,   1956,   1956]], dtype=int16)]"
      ]
     },
     "execution_count": 20,
     "metadata": {},
     "output_type": "execute_result"
    }
   ],
   "source": [
    "vegetation_data_test"
   ]
  },
  {
   "cell_type": "code",
   "execution_count": 21,
   "metadata": {},
   "outputs": [
    {
     "data": {
      "text/plain": [
       "['HDF4_EOS:EOS_GRID:vegetation_indices_all_time_testing/MOD13A2.A2000113.h08v05.006.2015137035140.hdf:MODIS_Grid_16DAY_1km_VI:1 km 16 days NDVI',\n",
       " 'HDF4_EOS:EOS_GRID:vegetation_indices_all_time_testing/MOD13A2.A2000113.h08v05.006.2015137035140.hdf:MODIS_Grid_16DAY_1km_VI:1 km 16 days relative azimuth angle',\n",
       " 'HDF4_EOS:EOS_GRID:vegetation_indices_all_time_testing/MOD13A2.A2000113.h08v05.006.2015137035140.hdf:MODIS_Grid_16DAY_1km_VI:1 km 16 days composite day of the year',\n",
       " 'HDF4_EOS:EOS_GRID:vegetation_indices_all_time_testing/MOD13A2.A2000113.h08v05.006.2015137035140.hdf:MODIS_Grid_16DAY_1km_VI:1 km 16 days pixel reliability',\n",
       " 'HDF4_EOS:EOS_GRID:vegetation_indices_all_time_testing/MOD13A2.A2000113.h08v05.006.2015137035140.hdf:MODIS_Grid_16DAY_1km_VI:1 km 16 days EVI',\n",
       " 'HDF4_EOS:EOS_GRID:vegetation_indices_all_time_testing/MOD13A2.A2000113.h08v05.006.2015137035140.hdf:MODIS_Grid_16DAY_1km_VI:1 km 16 days VI Quality',\n",
       " 'HDF4_EOS:EOS_GRID:vegetation_indices_all_time_testing/MOD13A2.A2000113.h08v05.006.2015137035140.hdf:MODIS_Grid_16DAY_1km_VI:1 km 16 days red reflectance',\n",
       " 'HDF4_EOS:EOS_GRID:vegetation_indices_all_time_testing/MOD13A2.A2000113.h08v05.006.2015137035140.hdf:MODIS_Grid_16DAY_1km_VI:1 km 16 days NIR reflectance',\n",
       " 'HDF4_EOS:EOS_GRID:vegetation_indices_all_time_testing/MOD13A2.A2000113.h08v05.006.2015137035140.hdf:MODIS_Grid_16DAY_1km_VI:1 km 16 days blue reflectance',\n",
       " 'HDF4_EOS:EOS_GRID:vegetation_indices_all_time_testing/MOD13A2.A2000113.h08v05.006.2015137035140.hdf:MODIS_Grid_16DAY_1km_VI:1 km 16 days MIR reflectance',\n",
       " 'HDF4_EOS:EOS_GRID:vegetation_indices_all_time_testing/MOD13A2.A2000113.h08v05.006.2015137035140.hdf:MODIS_Grid_16DAY_1km_VI:1 km 16 days view zenith angle',\n",
       " 'HDF4_EOS:EOS_GRID:vegetation_indices_all_time_testing/MOD13A2.A2000113.h08v05.006.2015137035140.hdf:MODIS_Grid_16DAY_1km_VI:1 km 16 days sun zenith angle']"
      ]
     },
     "execution_count": 21,
     "metadata": {},
     "output_type": "execute_result"
    }
   ],
   "source": [
    "vegetation_names_test"
   ]
  },
  {
   "cell_type": "markdown",
   "metadata": {},
   "source": [
    "### Extract only NDVI subdataset from first hdf file"
   ]
  },
  {
   "cell_type": "code",
   "execution_count": 60,
   "metadata": {},
   "outputs": [],
   "source": [
    "# Create list to append arrays (of all type of data)\n",
    "ndvi_and_quality = []\n",
    "ndvi_and_quality_names = []\n",
    "\n",
    "# Open the precipitation HDF5 file \n",
    "with rio.open(paths_to_files[0]) as dataset:\n",
    "    \n",
    "    # loop through each subdataset in HDF5 file\n",
    "    for name in dataset.subdatasets:\n",
    "        \n",
    "        # Use regular expression to identify if subdataset has b0 in the name (the bands)\n",
    "        if re.search(\"NDVI$\", name):\n",
    "\n",
    "            # Open the subdataset \n",
    "            with rio.open(name) as subdataset:\n",
    "                modis_meta = subdataset.profile\n",
    "\n",
    "                # Read data as a  2 dimensional array and append to list\n",
    "                ndvi_and_quality.append(subdataset.read(1))\n",
    "                ndvi_and_quality_names.append(name);\n",
    "    #             np.savetxt(str(name)[-10:-1] + \".csv\", subdataset.read(1), delimiter=\",\")\n",
    "                np.savetxt(str(name)[-10:-1] + \".csv\", subdataset.read(1), delimiter=\",\")\n",
    "        \n",
    "# vegetation_data_stacked = np.stack(vegetation_data)"
   ]
  },
  {
   "cell_type": "code",
   "execution_count": 61,
   "metadata": {},
   "outputs": [
    {
     "data": {
      "text/plain": [
       "[array([[-3000, -3000, -3000, ...,  2469,  2233,  1909],\n",
       "        [-3000, -3000, -3000, ...,  1858,  1862,  1567],\n",
       "        [-3000, -3000, -3000, ...,  2110,  6304,  1412],\n",
       "        ...,\n",
       "        [ 2444,  2580,  2598, ...,  1458,  1565,  1758],\n",
       "        [ 2486,  2511,  2453, ...,  2077,  1866,  1691],\n",
       "        [ 2427,  2371,  2373, ...,  1686,  1764,  1728]], dtype=int16)]"
      ]
     },
     "execution_count": 61,
     "metadata": {},
     "output_type": "execute_result"
    }
   ],
   "source": [
    "ndvi_and_quality"
   ]
  },
  {
   "cell_type": "code",
   "execution_count": 62,
   "metadata": {},
   "outputs": [
    {
     "data": {
      "text/plain": [
       "['HDF4_EOS:EOS_GRID:vegetation_indices_all_time_testing/MOD13A2.A2000113.h08v05.006.2015137035140.hdf:MODIS_Grid_16DAY_1km_VI:1 km 16 days NDVI']"
      ]
     },
     "execution_count": 62,
     "metadata": {},
     "output_type": "execute_result"
    }
   ],
   "source": [
    "ndvi_and_quality_names"
   ]
  },
  {
   "cell_type": "code",
   "execution_count": 63,
   "metadata": {},
   "outputs": [
    {
     "data": {
      "text/plain": [
       "'MOD13A2.A2000113.h08v05.006.2015137035140_ndvi.csv'"
      ]
     },
     "execution_count": 63,
     "metadata": {},
     "output_type": "execute_result"
    }
   ],
   "source": [
    "ndvi_and_quality_names[0][54:95] + \"_ndvi\" + \".csv\""
   ]
  },
  {
   "cell_type": "code",
   "execution_count": null,
   "metadata": {},
   "outputs": [],
   "source": []
  }
 ],
 "metadata": {
  "kernelspec": {
   "display_name": "Python 3",
   "language": "python",
   "name": "python3"
  },
  "language_info": {
   "codemirror_mode": {
    "name": "ipython",
    "version": 3
   },
   "file_extension": ".py",
   "mimetype": "text/x-python",
   "name": "python",
   "nbconvert_exporter": "python",
   "pygments_lexer": "ipython3",
   "version": "3.7.9"
  }
 },
 "nbformat": 4,
 "nbformat_minor": 4
}
