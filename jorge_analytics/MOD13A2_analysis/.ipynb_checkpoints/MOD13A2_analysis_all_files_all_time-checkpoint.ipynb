{
 "cells": [
  {
   "cell_type": "markdown",
   "metadata": {},
   "source": [
    "https://www.earthdatascience.org/courses/use-data-open-source-python/hierarchical-data-formats-hdf/open-MODIS-hdf4-files-python/\n"
   ]
  },
  {
   "cell_type": "code",
   "execution_count": null,
   "metadata": {
    "scrolled": true
   },
   "outputs": [],
   "source": [
    "# Import packages\n",
    "import os\n",
    "import re  # regular expressions\n",
    "import warnings\n",
    "import matplotlib.pyplot as plt\n",
    "import numpy as np\n",
    "import numpy.ma as ma\n",
    "import rasterio as rio\n",
    "from rasterio.plot import plotting_extent\n",
    "import geopandas as gpd\n",
    "import earthpy as et\n",
    "import earthpy.plot as ep\n",
    "import earthpy.spatial as es\n",
    "import earthpy.mask as em\n",
    "\n",
    "warnings.simplefilter('ignore')\n",
    "\n",
    "# Set working directory\n",
    "os.chdir(os.path.join(et.io.HOME, 'nyu', 'rbda_project_data'))\n"
   ]
  },
  {
   "cell_type": "code",
   "execution_count": null,
   "metadata": {},
   "outputs": [],
   "source": [
    "# Create a path to the pre-fire MODIS h4 data\n",
    "vegetation_path = os.path.join(\"vegetation_indices_11_28\",\n",
    "                               \"MOD13A2.A2019113.h08v05.006.2019129235845.hdf\")\n"
   ]
  },
  {
   "cell_type": "code",
   "execution_count": null,
   "metadata": {},
   "outputs": [],
   "source": [
    "# View dataset metadata\n",
    "with rio.open(vegetation_path) as dataset:\n",
    "    print(dataset)\n",
    "    hdf4_meta = dataset.meta\n",
    "\n",
    "# Notice that there are metadata at the highest level of the file\n",
    "hdf4_meta\n"
   ]
  },
  {
   "cell_type": "code",
   "execution_count": null,
   "metadata": {},
   "outputs": [],
   "source": [
    "# Print all of the subdatasets in the data\n",
    "with rio.open(vegetation_path) as dataset:\n",
    "    crs = dataset.read_crs()\n",
    "    for name in dataset.subdatasets:\n",
    "        print(name)\n"
   ]
  },
  {
   "cell_type": "code",
   "execution_count": null,
   "metadata": {},
   "outputs": [],
   "source": [
    "# Create list to append arrays (of all type of data)\n",
    "vegetation_data = []\n",
    "vegetation_names = []\n",
    "\n",
    "# Open the precipitation HDF5 file \n",
    "with rio.open(vegetation_path) as dataset:\n",
    "    \n",
    "    # loop through each subdataset in HDF5 file\n",
    "    for name in dataset.subdatasets:\n",
    "        \n",
    "        # Open the subdataset \n",
    "        with rio.open(name) as subdataset:\n",
    "            modis_meta = subdataset.profile\n",
    "            \n",
    "            # Read data as a  2 dimensional array and append to list\n",
    "            vegetation_data.append(subdataset.read(1))\n",
    "            vegetation_names.append(name);\n",
    "#             np.savetxt(str(name)[-10:-1] + \".csv\", subdataset.read(1), delimiter=\",\")\n",
    "\n",
    "\n",
    "vegetation_data_stacked = np.stack(vegetation_data)"
   ]
  },
  {
   "cell_type": "code",
   "execution_count": null,
   "metadata": {},
   "outputs": [],
   "source": [
    "# vegetation_data_stacked"
   ]
  },
  {
   "cell_type": "code",
   "execution_count": null,
   "metadata": {},
   "outputs": [],
   "source": [
    "# ep.plot_bands(vegetation_data_stacked,\n",
    "#               scale=False)\n",
    "# plt.show()"
   ]
  },
  {
   "cell_type": "code",
   "execution_count": null,
   "metadata": {
    "scrolled": true
   },
   "outputs": [],
   "source": [
    "# Plot MODIS RGB\n",
    "# ep.plot_rgb(vegetation_data_stacked,\n",
    "#             rgb=[0, 3, 2],\n",
    "#             title='RGB Image of MODIS Data',\n",
    "#             stretch=True,\n",
    "#             figsize=(7, 7))\n",
    "\n",
    "# plt.show()\n"
   ]
  },
  {
   "cell_type": "markdown",
   "metadata": {},
   "source": [
    "# Process multiple files in a directory\n",
    "https://realpython.com/working-with-files-in-python/"
   ]
  },
  {
   "cell_type": "markdown",
   "metadata": {},
   "source": [
    "## Store name of files in file_names list"
   ]
  },
  {
   "cell_type": "code",
   "execution_count": null,
   "metadata": {},
   "outputs": [],
   "source": [
    "entries = os.scandir('./')"
   ]
  },
  {
   "cell_type": "code",
   "execution_count": null,
   "metadata": {},
   "outputs": [],
   "source": [
    "entries"
   ]
  },
  {
   "cell_type": "code",
   "execution_count": null,
   "metadata": {},
   "outputs": [],
   "source": [
    "file_names  = []\n",
    "with os.scandir('../rbda_project_data/vegetation_indices_all_time_testing/') as entries:\n",
    "    for entry in entries:\n",
    "        file_names.append(entry.name)\n",
    "        print(entry.name)"
   ]
  },
  {
   "cell_type": "code",
   "execution_count": null,
   "metadata": {},
   "outputs": [],
   "source": [
    "file_names"
   ]
  },
  {
   "cell_type": "markdown",
   "metadata": {},
   "source": [
    "## Process multiple HDF files"
   ]
  },
  {
   "cell_type": "code",
   "execution_count": 26,
   "metadata": {},
   "outputs": [
    {
     "data": {
      "text/plain": [
       "<posix.ScandirIterator at 0x7f9c8e017c00>"
      ]
     },
     "execution_count": 26,
     "metadata": {},
     "output_type": "execute_result"
    }
   ],
   "source": [
    "os.scandir('./')"
   ]
  },
  {
   "cell_type": "code",
   "execution_count": 32,
   "metadata": {},
   "outputs": [
    {
     "name": "stdout",
     "output_type": "stream",
     "text": [
      "MOD13A2.A2000113.h08v05.006.2015137035140.hdf\n",
      "MOD13A2.A2000065.h08v05.006.2015136022932.hdf\n",
      "MOD13A2.A2000161.h08v05.006.2015137044400.hdf\n",
      "MOD13A2.A2000049.h08v05.006.2015136104428.hdf\n",
      "MOD13A2.A2000145.h08v05.006.2015137095459.hdf\n",
      "MOD13A2.A2000193.h08v05.006.2015138073343.hdf\n",
      "MOD13A2.A2000145.h08v04.006.2015137094710.hdf\n",
      "MOD13A2.A2000177.h08v04.006.2015138073355.hdf\n",
      "MOD13A2.A2000113.h08v04.006.2015137032541.hdf\n",
      "MOD13A2.A2000177.h08v05.006.2015138071538.hdf\n",
      "MOD13A2.A2000129.h08v04.006.2015137052605.hdf\n",
      "MOD13A2.A2000049.h08v04.006.2015136104431.hdf\n",
      "MOD13A2.A2000081.h08v04.006.2015136041919.hdf\n",
      "MOD13A2.A2000161.h08v04.006.2015137045247.hdf\n",
      "MOD13A2.A2000097.h08v05.006.2015136040245.hdf\n",
      "MOD13A2.A2000081.h08v05.006.2015136041359.hdf\n",
      "MOD13A2.A2000097.h08v04.006.2015136041351.hdf\n",
      "MOD13A2.A2000129.h08v05.006.2015137052212.hdf\n",
      "MOD13A2.A2000193.h08v04.006.2015138073331.hdf\n",
      "MOD13A2.A2000065.h08v04.006.2015136023134.hdf\n"
     ]
    }
   ],
   "source": [
    "paths_to_files = []\n",
    "\n",
    "with os.scandir('./vegetation_indices_all_time_testing/') as entries:\n",
    "    for entry in entries:\n",
    "        file_names.append(entry.name)\n",
    "        print(entry.name)"
   ]
  },
  {
   "cell_type": "code",
   "execution_count": 34,
   "metadata": {},
   "outputs": [
    {
     "name": "stdout",
     "output_type": "stream",
     "text": [
      "MOD13A2.A2000113.h08v05.006.2015137035140.hdf\n",
      "MOD13A2.A2000065.h08v05.006.2015136022932.hdf\n",
      "MOD13A2.A2000161.h08v05.006.2015137044400.hdf\n",
      "MOD13A2.A2000049.h08v05.006.2015136104428.hdf\n",
      "MOD13A2.A2000145.h08v05.006.2015137095459.hdf\n",
      "MOD13A2.A2000193.h08v05.006.2015138073343.hdf\n",
      "MOD13A2.A2000145.h08v04.006.2015137094710.hdf\n",
      "MOD13A2.A2000177.h08v04.006.2015138073355.hdf\n",
      "MOD13A2.A2000113.h08v04.006.2015137032541.hdf\n",
      "MOD13A2.A2000177.h08v05.006.2015138071538.hdf\n",
      "MOD13A2.A2000129.h08v04.006.2015137052605.hdf\n",
      "MOD13A2.A2000049.h08v04.006.2015136104431.hdf\n",
      "MOD13A2.A2000081.h08v04.006.2015136041919.hdf\n",
      "MOD13A2.A2000161.h08v04.006.2015137045247.hdf\n",
      "MOD13A2.A2000097.h08v05.006.2015136040245.hdf\n",
      "MOD13A2.A2000081.h08v05.006.2015136041359.hdf\n",
      "MOD13A2.A2000097.h08v04.006.2015136041351.hdf\n",
      "MOD13A2.A2000129.h08v05.006.2015137052212.hdf\n",
      "MOD13A2.A2000193.h08v04.006.2015138073331.hdf\n",
      "MOD13A2.A2000065.h08v04.006.2015136023134.hdf\n",
      "MOD13A2.A2000113.h08v05.006.2015137035140.hdf\n",
      "MOD13A2.A2000065.h08v05.006.2015136022932.hdf\n",
      "MOD13A2.A2000161.h08v05.006.2015137044400.hdf\n",
      "MOD13A2.A2000049.h08v05.006.2015136104428.hdf\n",
      "MOD13A2.A2000145.h08v05.006.2015137095459.hdf\n",
      "MOD13A2.A2000193.h08v05.006.2015138073343.hdf\n",
      "MOD13A2.A2000145.h08v04.006.2015137094710.hdf\n",
      "MOD13A2.A2000177.h08v04.006.2015138073355.hdf\n",
      "MOD13A2.A2000113.h08v04.006.2015137032541.hdf\n",
      "MOD13A2.A2000177.h08v05.006.2015138071538.hdf\n",
      "MOD13A2.A2000129.h08v04.006.2015137052605.hdf\n",
      "MOD13A2.A2000049.h08v04.006.2015136104431.hdf\n",
      "MOD13A2.A2000081.h08v04.006.2015136041919.hdf\n",
      "MOD13A2.A2000161.h08v04.006.2015137045247.hdf\n",
      "MOD13A2.A2000097.h08v05.006.2015136040245.hdf\n",
      "MOD13A2.A2000081.h08v05.006.2015136041359.hdf\n",
      "MOD13A2.A2000097.h08v04.006.2015136041351.hdf\n",
      "MOD13A2.A2000129.h08v05.006.2015137052212.hdf\n",
      "MOD13A2.A2000193.h08v04.006.2015138073331.hdf\n",
      "MOD13A2.A2000065.h08v04.006.2015136023134.hdf\n",
      "vegetation_indices_all_time\n",
      "thermal_anomalies_11_24_test\n",
      "fire_mask.csv\n",
      "precipitation_11_24\n",
      ".DS_Store\n",
      "ndvi.csv\n",
      "old_data\n",
      ".csv\n",
      "modis_c6_from_firms_11_25\n",
      "thermal_anomalies_11_27_test_2018_2019\n",
      "thermal_anomalies_11_23\n",
      "vegetation_indices_all_time_testing\n",
      "vegetation_indices_11_28\n",
      ".DS_Store\n",
      "test\n",
      "jorge_analytics\n",
      "fundamental_algorithms\n",
      "rbda_project_data\n",
      "programming_languages\n",
      "realtime_and_big_data_analytics\n",
      "rbda_project\n",
      "wildfires_analytics\n",
      "vegetation_indices_all_time\n",
      "thermal_anomalies_11_24_test\n",
      "fire_mask.csv\n",
      "precipitation_11_24\n",
      ".DS_Store\n",
      "ndvi.csv\n",
      "old_data\n",
      ".csv\n",
      "modis_c6_from_firms_11_25\n",
      "thermal_anomalies_11_27_test_2018_2019\n",
      "thermal_anomalies_11_23\n",
      "vegetation_indices_all_time_testing\n",
      "vegetation_indices_11_28\n",
      "MOD13A2.A2000113.h08v05.006.2015137035140.hdf\n",
      "MOD13A2.A2000065.h08v05.006.2015136022932.hdf\n",
      "MOD13A2.A2000161.h08v05.006.2015137044400.hdf\n",
      "MOD13A2.A2000049.h08v05.006.2015136104428.hdf\n",
      "MOD13A2.A2000145.h08v05.006.2015137095459.hdf\n",
      "MOD13A2.A2000193.h08v05.006.2015138073343.hdf\n",
      "MOD13A2.A2000145.h08v04.006.2015137094710.hdf\n",
      "MOD13A2.A2000177.h08v04.006.2015138073355.hdf\n",
      "MOD13A2.A2000113.h08v04.006.2015137032541.hdf\n",
      "MOD13A2.A2000177.h08v05.006.2015138071538.hdf\n",
      "MOD13A2.A2000129.h08v04.006.2015137052605.hdf\n",
      "MOD13A2.A2000049.h08v04.006.2015136104431.hdf\n",
      "MOD13A2.A2000081.h08v04.006.2015136041919.hdf\n",
      "MOD13A2.A2000161.h08v04.006.2015137045247.hdf\n",
      "MOD13A2.A2000097.h08v05.006.2015136040245.hdf\n",
      "MOD13A2.A2000081.h08v05.006.2015136041359.hdf\n",
      "MOD13A2.A2000097.h08v04.006.2015136041351.hdf\n",
      "MOD13A2.A2000129.h08v05.006.2015137052212.hdf\n",
      "MOD13A2.A2000193.h08v04.006.2015138073331.hdf\n",
      "MOD13A2.A2000065.h08v04.006.2015136023134.hdf\n",
      "MOD13A2.A2000113.h08v05.006.2015137035140.hdf\n",
      "MOD13A2.A2000065.h08v05.006.2015136022932.hdf\n",
      "MOD13A2.A2000161.h08v05.006.2015137044400.hdf\n",
      "MOD13A2.A2000049.h08v05.006.2015136104428.hdf\n",
      "MOD13A2.A2000145.h08v05.006.2015137095459.hdf\n",
      "MOD13A2.A2000193.h08v05.006.2015138073343.hdf\n",
      "MOD13A2.A2000145.h08v04.006.2015137094710.hdf\n",
      "MOD13A2.A2000177.h08v04.006.2015138073355.hdf\n",
      "MOD13A2.A2000113.h08v04.006.2015137032541.hdf\n",
      "MOD13A2.A2000177.h08v05.006.2015138071538.hdf\n",
      "MOD13A2.A2000129.h08v04.006.2015137052605.hdf\n",
      "MOD13A2.A2000049.h08v04.006.2015136104431.hdf\n",
      "MOD13A2.A2000081.h08v04.006.2015136041919.hdf\n",
      "MOD13A2.A2000161.h08v04.006.2015137045247.hdf\n",
      "MOD13A2.A2000097.h08v05.006.2015136040245.hdf\n",
      "MOD13A2.A2000081.h08v05.006.2015136041359.hdf\n",
      "MOD13A2.A2000097.h08v04.006.2015136041351.hdf\n",
      "MOD13A2.A2000129.h08v05.006.2015137052212.hdf\n",
      "MOD13A2.A2000193.h08v04.006.2015138073331.hdf\n",
      "MOD13A2.A2000065.h08v04.006.2015136023134.hdf\n"
     ]
    }
   ],
   "source": [
    "for file in file_names: \n",
    "os.path.join(\"vegetation_indices_11_28\",\n",
    "                               \"MOD13A2.A2019113.h08v05.006.2019129235845.hdf\")"
   ]
  },
  {
   "cell_type": "code",
   "execution_count": null,
   "metadata": {},
   "outputs": [],
   "source": []
  }
 ],
 "metadata": {
  "kernelspec": {
   "display_name": "Python 3",
   "language": "python",
   "name": "python3"
  },
  "language_info": {
   "codemirror_mode": {
    "name": "ipython",
    "version": 3
   },
   "file_extension": ".py",
   "mimetype": "text/x-python",
   "name": "python",
   "nbconvert_exporter": "python",
   "pygments_lexer": "ipython3",
   "version": "3.7.9"
  }
 },
 "nbformat": 4,
 "nbformat_minor": 4
}
