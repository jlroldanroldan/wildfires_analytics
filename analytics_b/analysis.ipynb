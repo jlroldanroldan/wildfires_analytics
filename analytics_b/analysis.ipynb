{
 "cells": [
  {
   "cell_type": "code",
   "execution_count": 16,
   "metadata": {},
   "outputs": [],
   "source": [
    "# Import packages\n",
    "import os\n",
    "import re  # regular expressions\n",
    "import warnings\n",
    "import matplotlib.pyplot as plt\n",
    "import numpy as np\n",
    "import numpy.ma as ma\n",
    "import rasterio as rio\n",
    "from rasterio.plot import plotting_extent\n",
    "import geopandas as gpd\n",
    "import earthpy as et\n",
    "import earthpy.plot as ep\n",
    "import earthpy.spatial as es\n",
    "import earthpy.mask as em\n",
    "\n",
    "import rioxarray as rxr\n",
    "\n",
    "from pyspark.mllib.util import MLUtils\n",
    "from pyspark.mllib.regression import LabeledPoint\n",
    "\n",
    "from sklearn.datasets import dump_svmlight_file\n",
    "\n",
    "from glob import glob\n",
    "\n",
    "from queue import Queue\n",
    "\n",
    "warnings.simplefilter('ignore')\n",
    "\n",
    "# Set working directory\n",
    "os.chdir(os.path.join(et.io.HOME, 'BD', 'BA_DATA'))"
   ]
  },
  {
   "cell_type": "code",
   "execution_count": 34,
   "metadata": {},
   "outputs": [],
   "source": [
    "vege_fs84 = glob('VegeData_16day/*h08v04*')"
   ]
  },
  {
   "cell_type": "code",
   "execution_count": 35,
   "metadata": {},
   "outputs": [
    {
     "data": {
      "text/plain": [
       "['VegeData_16day\\\\MOD13A2.A2000049.h08v04.006.2015136104431.hdf',\n",
       " 'VegeData_16day\\\\MOD13A2.A2000065.h08v04.006.2015136023134.hdf',\n",
       " 'VegeData_16day\\\\MOD13A2.A2000081.h08v04.006.2015136041919.hdf',\n",
       " 'VegeData_16day\\\\MOD13A2.A2000097.h08v04.006.2015136041351.hdf',\n",
       " 'VegeData_16day\\\\MOD13A2.A2000113.h08v04.006.2015137032541.hdf',\n",
       " 'VegeData_16day\\\\MOD13A2.A2000129.h08v04.006.2015137052605.hdf',\n",
       " 'VegeData_16day\\\\MOD13A2.A2000145.h08v04.006.2015137094710.hdf',\n",
       " 'VegeData_16day\\\\MOD13A2.A2000161.h08v04.006.2015137045247.hdf',\n",
       " 'VegeData_16day\\\\MOD13A2.A2000177.h08v04.006.2015138073355.hdf',\n",
       " 'VegeData_16day\\\\MOD13A2.A2000193.h08v04.006.2015138073331.hdf',\n",
       " 'VegeData_16day\\\\MOD13A2.A2000209.h08v04.006.2015138075107.hdf',\n",
       " 'VegeData_16day\\\\MOD13A2.A2000225.h08v04.006.2015138071852.hdf',\n",
       " 'VegeData_16day\\\\MOD13A2.A2000241.h08v04.006.2015138080542.hdf',\n",
       " 'VegeData_16day\\\\MOD13A2.A2000257.h08v04.006.2015139074244.hdf',\n",
       " 'VegeData_16day\\\\MOD13A2.A2000273.h08v04.006.2015139075114.hdf',\n",
       " 'VegeData_16day\\\\MOD13A2.A2000289.h08v04.006.2015139084739.hdf',\n",
       " 'VegeData_16day\\\\MOD13A2.A2000305.h08v04.006.2015139075104.hdf',\n",
       " 'VegeData_16day\\\\MOD13A2.A2000321.h08v04.006.2015140005638.hdf',\n",
       " 'VegeData_16day\\\\MOD13A2.A2000337.h08v04.006.2015140093326.hdf',\n",
       " 'VegeData_16day\\\\MOD13A2.A2000353.h08v04.006.2018222145618.hdf',\n",
       " 'VegeData_16day\\\\MOD13A2.A2001001.h08v04.006.2015140080324.hdf',\n",
       " 'VegeData_16day\\\\MOD13A2.A2001017.h08v04.006.2015140093328.hdf',\n",
       " 'VegeData_16day\\\\MOD13A2.A2001033.h08v04.006.2015141153127.hdf',\n",
       " 'VegeData_16day\\\\MOD13A2.A2001049.h08v04.006.2015142165730.hdf',\n",
       " 'VegeData_16day\\\\MOD13A2.A2001065.h08v04.006.2015142182338.hdf',\n",
       " 'VegeData_16day\\\\MOD13A2.A2001081.h08v04.006.2015142193243.hdf',\n",
       " 'VegeData_16day\\\\MOD13A2.A2001097.h08v04.006.2015142193137.hdf',\n",
       " 'VegeData_16day\\\\MOD13A2.A2001113.h08v04.006.2015142195120.hdf',\n",
       " 'VegeData_16day\\\\MOD13A2.A2001129.h08v04.006.2015142064503.hdf',\n",
       " 'VegeData_16day\\\\MOD13A2.A2001145.h08v04.006.2015143102028.hdf',\n",
       " 'VegeData_16day\\\\MOD13A2.A2001161.h08v04.006.2015143074529.hdf',\n",
       " 'VegeData_16day\\\\MOD13A2.A2001177.h08v04.006.2015143092427.hdf',\n",
       " 'VegeData_16day\\\\MOD13A2.A2001193.h08v04.006.2015143122420.hdf',\n",
       " 'VegeData_16day\\\\MOD13A2.A2001209.h08v04.006.2015143163809.hdf',\n",
       " 'VegeData_16day\\\\MOD13A2.A2001225.h08v04.006.2015144061102.hdf',\n",
       " 'VegeData_16day\\\\MOD13A2.A2001241.h08v04.006.2015144061105.hdf',\n",
       " 'VegeData_16day\\\\MOD13A2.A2001257.h08v04.006.2015144060304.hdf',\n",
       " 'VegeData_16day\\\\MOD13A2.A2001273.h08v04.006.2015144061316.hdf',\n",
       " 'VegeData_16day\\\\MOD13A2.A2001289.h08v04.006.2015146023503.hdf',\n",
       " 'VegeData_16day\\\\MOD13A2.A2001305.h08v04.006.2015146020259.hdf',\n",
       " 'VegeData_16day\\\\MOD13A2.A2001321.h08v04.006.2015146031253.hdf',\n",
       " 'VegeData_16day\\\\MOD13A2.A2001337.h08v04.006.2015146031308.hdf',\n",
       " 'VegeData_16day\\\\MOD13A2.A2001353.h08v04.006.2018226092346.hdf',\n",
       " 'VegeData_16day\\\\MOD13A2.A2002001.h08v04.006.2015146150639.hdf',\n",
       " 'VegeData_16day\\\\MOD13A2.A2002017.h08v04.006.2015146123337.hdf',\n",
       " 'VegeData_16day\\\\MOD13A2.A2002033.h08v04.006.2015146145319.hdf',\n",
       " 'VegeData_16day\\\\MOD13A2.A2002049.h08v04.006.2015146124304.hdf',\n",
       " 'VegeData_16day\\\\MOD13A2.A2002065.h08v04.006.2015147115142.hdf',\n",
       " 'VegeData_16day\\\\MOD13A2.A2002081.h08v04.006.2015147125634.hdf',\n",
       " 'VegeData_16day\\\\MOD13A2.A2002097.h08v04.006.2015147211701.hdf',\n",
       " 'VegeData_16day\\\\MOD13A2.A2002113.h08v04.006.2015147211658.hdf',\n",
       " 'VegeData_16day\\\\MOD13A2.A2002129.h08v04.006.2015147233840.hdf',\n",
       " 'VegeData_16day\\\\MOD13A2.A2002145.h08v04.006.2015148102539.hdf',\n",
       " 'VegeData_16day\\\\MOD13A2.A2002161.h08v04.006.2015148093756.hdf',\n",
       " 'VegeData_16day\\\\MOD13A2.A2002177.h08v04.006.2015148235105.hdf',\n",
       " 'VegeData_16day\\\\MOD13A2.A2002193.h08v04.006.2015149024724.hdf',\n",
       " 'VegeData_16day\\\\MOD13A2.A2002209.h08v04.006.2015149182915.hdf',\n",
       " 'VegeData_16day\\\\MOD13A2.A2002225.h08v04.006.2015150025322.hdf',\n",
       " 'VegeData_16day\\\\MOD13A2.A2002241.h08v04.006.2015150202633.hdf',\n",
       " 'VegeData_16day\\\\MOD13A2.A2002257.h08v04.006.2015151082656.hdf',\n",
       " 'VegeData_16day\\\\MOD13A2.A2002273.h08v04.006.2015151080846.hdf',\n",
       " 'VegeData_16day\\\\MOD13A2.A2002289.h08v04.006.2015152035326.hdf',\n",
       " 'VegeData_16day\\\\MOD13A2.A2002305.h08v04.006.2015152035303.hdf',\n",
       " 'VegeData_16day\\\\MOD13A2.A2002321.h08v04.006.2015152182804.hdf',\n",
       " 'VegeData_16day\\\\MOD13A2.A2002337.h08v04.006.2015153052817.hdf',\n",
       " 'VegeData_16day\\\\MOD13A2.A2002353.h08v04.006.2018226091743.hdf',\n",
       " 'VegeData_16day\\\\MOD13A2.A2003001.h08v04.006.2015153200906.hdf',\n",
       " 'VegeData_16day\\\\MOD13A2.A2003017.h08v04.006.2015154060213.hdf',\n",
       " 'VegeData_16day\\\\MOD13A2.A2003033.h08v04.006.2015156052401.hdf',\n",
       " 'VegeData_16day\\\\MOD13A2.A2003049.h08v04.006.2015156080027.hdf',\n",
       " 'VegeData_16day\\\\MOD13A2.A2003065.h08v04.006.2015156190528.hdf',\n",
       " 'VegeData_16day\\\\MOD13A2.A2003081.h08v04.006.2015156190456.hdf',\n",
       " 'VegeData_16day\\\\MOD13A2.A2003097.h08v04.006.2015158151637.hdf',\n",
       " 'VegeData_16day\\\\MOD13A2.A2003113.h08v04.006.2015158152100.hdf',\n",
       " 'VegeData_16day\\\\MOD13A2.A2003129.h08v04.006.2015158153557.hdf',\n",
       " 'VegeData_16day\\\\MOD13A2.A2003145.h08v04.006.2015158160013.hdf',\n",
       " 'VegeData_16day\\\\MOD13A2.A2003161.h08v04.006.2015159142323.hdf',\n",
       " 'VegeData_16day\\\\MOD13A2.A2003177.h08v04.006.2015161132812.hdf',\n",
       " 'VegeData_16day\\\\MOD13A2.A2003193.h08v04.006.2015153110026.hdf',\n",
       " 'VegeData_16day\\\\MOD13A2.A2003209.h08v04.006.2015153105742.hdf',\n",
       " 'VegeData_16day\\\\MOD13A2.A2003225.h08v04.006.2015153113938.hdf',\n",
       " 'VegeData_16day\\\\MOD13A2.A2003241.h08v04.006.2015153113934.hdf',\n",
       " 'VegeData_16day\\\\MOD13A2.A2003257.h08v04.006.2015153113610.hdf',\n",
       " 'VegeData_16day\\\\MOD13A2.A2003273.h08v04.006.2015153114513.hdf',\n",
       " 'VegeData_16day\\\\MOD13A2.A2003289.h08v04.006.2015153122053.hdf',\n",
       " 'VegeData_16day\\\\MOD13A2.A2003305.h08v04.006.2015153124431.hdf',\n",
       " 'VegeData_16day\\\\MOD13A2.A2003321.h08v04.006.2015153130136.hdf',\n",
       " 'VegeData_16day\\\\MOD13A2.A2003337.h08v04.006.2015153125548.hdf',\n",
       " 'VegeData_16day\\\\MOD13A2.A2003353.h08v04.006.2018222145840.hdf',\n",
       " 'VegeData_16day\\\\MOD13A2.A2004001.h08v04.006.2015154120328.hdf',\n",
       " 'VegeData_16day\\\\MOD13A2.A2004017.h08v04.006.2015154120516.hdf',\n",
       " 'VegeData_16day\\\\MOD13A2.A2004033.h08v04.006.2015154121928.hdf',\n",
       " 'VegeData_16day\\\\MOD13A2.A2004049.h08v04.006.2015154124733.hdf',\n",
       " 'VegeData_16day\\\\MOD13A2.A2004065.h08v04.006.2015154124804.hdf',\n",
       " 'VegeData_16day\\\\MOD13A2.A2004081.h08v04.006.2015154124807.hdf',\n",
       " 'VegeData_16day\\\\MOD13A2.A2004097.h08v04.006.2015154124425.hdf',\n",
       " 'VegeData_16day\\\\MOD13A2.A2004113.h08v04.006.2015154125129.hdf',\n",
       " 'VegeData_16day\\\\MOD13A2.A2004129.h08v04.006.2015154125232.hdf',\n",
       " 'VegeData_16day\\\\MOD13A2.A2004145.h08v04.006.2015154125912.hdf',\n",
       " 'VegeData_16day\\\\MOD13A2.A2004161.h08v04.006.2015154125735.hdf',\n",
       " 'VegeData_16day\\\\MOD13A2.A2004177.h08v04.006.2015154131225.hdf',\n",
       " 'VegeData_16day\\\\MOD13A2.A2004193.h08v04.006.2015154131713.hdf',\n",
       " 'VegeData_16day\\\\MOD13A2.A2004209.h08v04.006.2015154132544.hdf',\n",
       " 'VegeData_16day\\\\MOD13A2.A2004225.h08v04.006.2015154133109.hdf',\n",
       " 'VegeData_16day\\\\MOD13A2.A2004241.h08v04.006.2015154133858.hdf',\n",
       " 'VegeData_16day\\\\MOD13A2.A2004257.h08v04.006.2015154133351.hdf',\n",
       " 'VegeData_16day\\\\MOD13A2.A2004273.h08v04.006.2015154134331.hdf',\n",
       " 'VegeData_16day\\\\MOD13A2.A2004289.h08v04.006.2015154134658.hdf',\n",
       " 'VegeData_16day\\\\MOD13A2.A2004305.h08v04.006.2015154135425.hdf',\n",
       " 'VegeData_16day\\\\MOD13A2.A2004321.h08v04.006.2015154140721.hdf',\n",
       " 'VegeData_16day\\\\MOD13A2.A2004337.h08v04.006.2015154141026.hdf',\n",
       " 'VegeData_16day\\\\MOD13A2.A2004353.h08v04.006.2018226091152.hdf',\n",
       " 'VegeData_16day\\\\MOD13A2.A2005001.h08v04.006.2015157042440.hdf',\n",
       " 'VegeData_16day\\\\MOD13A2.A2005017.h08v04.006.2015157042651.hdf',\n",
       " 'VegeData_16day\\\\MOD13A2.A2005033.h08v04.006.2015157043021.hdf',\n",
       " 'VegeData_16day\\\\MOD13A2.A2005049.h08v04.006.2015157043617.hdf',\n",
       " 'VegeData_16day\\\\MOD13A2.A2005065.h08v04.006.2015157043226.hdf',\n",
       " 'VegeData_16day\\\\MOD13A2.A2005081.h08v04.006.2015157044255.hdf',\n",
       " 'VegeData_16day\\\\MOD13A2.A2005097.h08v04.006.2015157044238.hdf',\n",
       " 'VegeData_16day\\\\MOD13A2.A2005113.h08v04.006.2015157051309.hdf',\n",
       " 'VegeData_16day\\\\MOD13A2.A2005129.h08v04.006.2015157050902.hdf',\n",
       " 'VegeData_16day\\\\MOD13A2.A2005145.h08v04.006.2015157051347.hdf',\n",
       " 'VegeData_16day\\\\MOD13A2.A2005161.h08v04.006.2015157051154.hdf',\n",
       " 'VegeData_16day\\\\MOD13A2.A2005177.h08v04.006.2015157053105.hdf',\n",
       " 'VegeData_16day\\\\MOD13A2.A2005193.h08v04.006.2015157052535.hdf',\n",
       " 'VegeData_16day\\\\MOD13A2.A2005209.h08v04.006.2015157054853.hdf',\n",
       " 'VegeData_16day\\\\MOD13A2.A2005225.h08v04.006.2015157054648.hdf',\n",
       " 'VegeData_16day\\\\MOD13A2.A2005241.h08v04.006.2015157054636.hdf',\n",
       " 'VegeData_16day\\\\MOD13A2.A2005257.h08v04.006.2015157055349.hdf',\n",
       " 'VegeData_16day\\\\MOD13A2.A2005273.h08v04.006.2015157055258.hdf',\n",
       " 'VegeData_16day\\\\MOD13A2.A2005289.h08v04.006.2015157061209.hdf',\n",
       " 'VegeData_16day\\\\MOD13A2.A2005305.h08v04.006.2015157060710.hdf',\n",
       " 'VegeData_16day\\\\MOD13A2.A2005321.h08v04.006.2015157062003.hdf',\n",
       " 'VegeData_16day\\\\MOD13A2.A2005337.h08v04.006.2015157061657.hdf',\n",
       " 'VegeData_16day\\\\MOD13A2.A2005353.h08v04.006.2018226090807.hdf',\n",
       " 'VegeData_16day\\\\MOD13A2.A2006001.h08v04.006.2015161092159.hdf',\n",
       " 'VegeData_16day\\\\MOD13A2.A2006017.h08v04.006.2015161112123.hdf',\n",
       " 'VegeData_16day\\\\MOD13A2.A2006033.h08v04.006.2015161112907.hdf',\n",
       " 'VegeData_16day\\\\MOD13A2.A2006049.h08v04.006.2015161112910.hdf',\n",
       " 'VegeData_16day\\\\MOD13A2.A2006065.h08v04.006.2015161115931.hdf',\n",
       " 'VegeData_16day\\\\MOD13A2.A2006081.h08v04.006.2015161121242.hdf',\n",
       " 'VegeData_16day\\\\MOD13A2.A2006097.h08v04.006.2015161145902.hdf',\n",
       " 'VegeData_16day\\\\MOD13A2.A2006113.h08v04.006.2015161154243.hdf',\n",
       " 'VegeData_16day\\\\MOD13A2.A2006129.h08v04.006.2015161160424.hdf',\n",
       " 'VegeData_16day\\\\MOD13A2.A2006145.h08v04.006.2015161160422.hdf',\n",
       " 'VegeData_16day\\\\MOD13A2.A2006161.h08v04.006.2015161172733.hdf',\n",
       " 'VegeData_16day\\\\MOD13A2.A2006177.h08v04.006.2015161173543.hdf',\n",
       " 'VegeData_16day\\\\MOD13A2.A2006193.h08v04.006.2015161174152.hdf',\n",
       " 'VegeData_16day\\\\MOD13A2.A2006209.h08v04.006.2015161192216.hdf',\n",
       " 'VegeData_16day\\\\MOD13A2.A2006225.h08v04.006.2015161193029.hdf',\n",
       " 'VegeData_16day\\\\MOD13A2.A2006241.h08v04.006.2015161195148.hdf',\n",
       " 'VegeData_16day\\\\MOD13A2.A2006257.h08v04.006.2015161200827.hdf',\n",
       " 'VegeData_16day\\\\MOD13A2.A2006273.h08v04.006.2015161203309.hdf',\n",
       " 'VegeData_16day\\\\MOD13A2.A2006289.h08v04.006.2015161204829.hdf',\n",
       " 'VegeData_16day\\\\MOD13A2.A2006305.h08v04.006.2015161210449.hdf',\n",
       " 'VegeData_16day\\\\MOD13A2.A2006321.h08v04.006.2015161212405.hdf',\n",
       " 'VegeData_16day\\\\MOD13A2.A2006337.h08v04.006.2015161213118.hdf',\n",
       " 'VegeData_16day\\\\MOD13A2.A2006353.h08v04.006.2018226090103.hdf',\n",
       " 'VegeData_16day\\\\MOD13A2.A2007001.h08v04.006.2015160165328.hdf',\n",
       " 'VegeData_16day\\\\MOD13A2.A2007017.h08v04.006.2015161215757.hdf',\n",
       " 'VegeData_16day\\\\MOD13A2.A2007033.h08v04.006.2015161220008.hdf',\n",
       " 'VegeData_16day\\\\MOD13A2.A2007049.h08v04.006.2015161222134.hdf',\n",
       " 'VegeData_16day\\\\MOD13A2.A2007065.h08v04.006.2015161224920.hdf',\n",
       " 'VegeData_16day\\\\MOD13A2.A2007081.h08v04.006.2015161230645.hdf',\n",
       " 'VegeData_16day\\\\MOD13A2.A2007097.h08v04.006.2015161233221.hdf',\n",
       " 'VegeData_16day\\\\MOD13A2.A2007113.h08v04.006.2015161232914.hdf',\n",
       " 'VegeData_16day\\\\MOD13A2.A2007129.h08v04.006.2015161233832.hdf',\n",
       " 'VegeData_16day\\\\MOD13A2.A2007145.h08v04.006.2015161235404.hdf',\n",
       " 'VegeData_16day\\\\MOD13A2.A2007161.h08v04.006.2015162000617.hdf',\n",
       " 'VegeData_16day\\\\MOD13A2.A2007177.h08v04.006.2015162002842.hdf',\n",
       " 'VegeData_16day\\\\MOD13A2.A2007193.h08v04.006.2015162001939.hdf',\n",
       " 'VegeData_16day\\\\MOD13A2.A2007209.h08v04.006.2015164013147.hdf',\n",
       " 'VegeData_16day\\\\MOD13A2.A2007225.h08v04.006.2015164155909.hdf',\n",
       " 'VegeData_16day\\\\MOD13A2.A2007241.h08v04.006.2015164183727.hdf',\n",
       " 'VegeData_16day\\\\MOD13A2.A2007257.h08v04.006.2015167042301.hdf',\n",
       " 'VegeData_16day\\\\MOD13A2.A2007273.h08v04.006.2015167050031.hdf',\n",
       " 'VegeData_16day\\\\MOD13A2.A2007289.h08v04.006.2015167193210.hdf',\n",
       " 'VegeData_16day\\\\MOD13A2.A2007305.h08v04.006.2015168084506.hdf',\n",
       " 'VegeData_16day\\\\MOD13A2.A2007321.h08v04.006.2015168094627.hdf',\n",
       " 'VegeData_16day\\\\MOD13A2.A2007337.h08v04.006.2015169044122.hdf',\n",
       " 'VegeData_16day\\\\MOD13A2.A2007353.h08v04.006.2018222150115.hdf',\n",
       " 'VegeData_16day\\\\MOD13A2.A2008001.h08v04.006.2015169100949.hdf',\n",
       " 'VegeData_16day\\\\MOD13A2.A2008017.h08v04.006.2015170042802.hdf',\n",
       " 'VegeData_16day\\\\MOD13A2.A2008033.h08v04.006.2015170044816.hdf',\n",
       " 'VegeData_16day\\\\MOD13A2.A2008049.h08v04.006.2015172133715.hdf',\n",
       " 'VegeData_16day\\\\MOD13A2.A2008065.h08v04.006.2015172175103.hdf',\n",
       " 'VegeData_16day\\\\MOD13A2.A2008081.h08v04.006.2015173011930.hdf',\n",
       " 'VegeData_16day\\\\MOD13A2.A2008097.h08v04.006.2015173053540.hdf',\n",
       " 'VegeData_16day\\\\MOD13A2.A2008113.h08v04.006.2015173161425.hdf',\n",
       " 'VegeData_16day\\\\MOD13A2.A2008129.h08v04.006.2015175092131.hdf',\n",
       " 'VegeData_16day\\\\MOD13A2.A2008145.h08v04.006.2015175110741.hdf',\n",
       " 'VegeData_16day\\\\MOD13A2.A2008161.h08v04.006.2015176070457.hdf',\n",
       " 'VegeData_16day\\\\MOD13A2.A2008177.h08v04.006.2015176071643.hdf',\n",
       " 'VegeData_16day\\\\MOD13A2.A2008193.h08v04.006.2015177041224.hdf',\n",
       " 'VegeData_16day\\\\MOD13A2.A2008209.h08v04.006.2015177044245.hdf',\n",
       " 'VegeData_16day\\\\MOD13A2.A2008225.h08v04.006.2015178164910.hdf',\n",
       " 'VegeData_16day\\\\MOD13A2.A2008241.h08v04.006.2015179215517.hdf',\n",
       " 'VegeData_16day\\\\MOD13A2.A2008257.h08v04.006.2015179222243.hdf',\n",
       " 'VegeData_16day\\\\MOD13A2.A2008273.h08v04.006.2015180220937.hdf',\n",
       " 'VegeData_16day\\\\MOD13A2.A2008289.h08v04.006.2015180223639.hdf',\n",
       " 'VegeData_16day\\\\MOD13A2.A2008305.h08v04.006.2015181144323.hdf',\n",
       " 'VegeData_16day\\\\MOD13A2.A2008321.h08v04.006.2015181150650.hdf',\n",
       " 'VegeData_16day\\\\MOD13A2.A2008337.h08v04.006.2015184002816.hdf',\n",
       " 'VegeData_16day\\\\MOD13A2.A2008353.h08v04.006.2018226094455.hdf',\n",
       " 'VegeData_16day\\\\MOD13A2.A2009001.h08v04.006.2015186061406.hdf',\n",
       " 'VegeData_16day\\\\MOD13A2.A2009017.h08v04.006.2015186061410.hdf',\n",
       " 'VegeData_16day\\\\MOD13A2.A2009033.h08v04.006.2015187063241.hdf',\n",
       " 'VegeData_16day\\\\MOD13A2.A2009049.h08v04.006.2015187063232.hdf',\n",
       " 'VegeData_16day\\\\MOD13A2.A2009065.h08v04.006.2015188083231.hdf',\n",
       " 'VegeData_16day\\\\MOD13A2.A2009081.h08v04.006.2015188085929.hdf',\n",
       " 'VegeData_16day\\\\MOD13A2.A2009097.h08v04.006.2015189152525.hdf',\n",
       " 'VegeData_16day\\\\MOD13A2.A2009113.h08v04.006.2015189143328.hdf',\n",
       " 'VegeData_16day\\\\MOD13A2.A2009129.h08v04.006.2015189211810.hdf',\n",
       " 'VegeData_16day\\\\MOD13A2.A2009145.h08v04.006.2015190115345.hdf',\n",
       " 'VegeData_16day\\\\MOD13A2.A2009161.h08v04.006.2015190221728.hdf',\n",
       " 'VegeData_16day\\\\MOD13A2.A2009177.h08v04.006.2015191095824.hdf',\n",
       " 'VegeData_16day\\\\MOD13A2.A2009193.h08v04.006.2015192143530.hdf',\n",
       " 'VegeData_16day\\\\MOD13A2.A2009209.h08v04.006.2015192141758.hdf',\n",
       " 'VegeData_16day\\\\MOD13A2.A2009225.h08v04.006.2015194144050.hdf',\n",
       " 'VegeData_16day\\\\MOD13A2.A2009241.h08v04.006.2015194150910.hdf',\n",
       " 'VegeData_16day\\\\MOD13A2.A2009257.h08v04.006.2015194230718.hdf',\n",
       " 'VegeData_16day\\\\MOD13A2.A2009273.h08v04.006.2015195125522.hdf',\n",
       " 'VegeData_16day\\\\MOD13A2.A2009289.h08v04.006.2015195225032.hdf',\n",
       " 'VegeData_16day\\\\MOD13A2.A2009305.h08v04.006.2015196133647.hdf',\n",
       " 'VegeData_16day\\\\MOD13A2.A2009321.h08v04.006.2015196201518.hdf',\n",
       " 'VegeData_16day\\\\MOD13A2.A2009337.h08v04.006.2015197071137.hdf',\n",
       " 'VegeData_16day\\\\MOD13A2.A2009353.h08v04.006.2018226094008.hdf',\n",
       " 'VegeData_16day\\\\MOD13A2.A2010001.h08v04.006.2015198104228.hdf',\n",
       " 'VegeData_16day\\\\MOD13A2.A2010017.h08v04.006.2015198194108.hdf',\n",
       " 'VegeData_16day\\\\MOD13A2.A2010033.h08v04.006.2015199123737.hdf',\n",
       " 'VegeData_16day\\\\MOD13A2.A2010049.h08v04.006.2015200022809.hdf',\n",
       " 'VegeData_16day\\\\MOD13A2.A2010065.h08v04.006.2015206074830.hdf',\n",
       " 'VegeData_16day\\\\MOD13A2.A2010081.h08v04.006.2015206075411.hdf',\n",
       " 'VegeData_16day\\\\MOD13A2.A2010097.h08v04.006.2015206224312.hdf',\n",
       " 'VegeData_16day\\\\MOD13A2.A2010113.h08v04.006.2015207155414.hdf',\n",
       " 'VegeData_16day\\\\MOD13A2.A2010129.h08v04.006.2015207185102.hdf',\n",
       " 'VegeData_16day\\\\MOD13A2.A2010145.h08v04.006.2015208190421.hdf',\n",
       " 'VegeData_16day\\\\MOD13A2.A2010161.h08v04.006.2015208193023.hdf',\n",
       " 'VegeData_16day\\\\MOD13A2.A2010177.h08v04.006.2015208203229.hdf',\n",
       " 'VegeData_16day\\\\MOD13A2.A2010193.h08v04.006.2015209100042.hdf',\n",
       " 'VegeData_16day\\\\MOD13A2.A2010209.h08v04.006.2015209150207.hdf',\n",
       " 'VegeData_16day\\\\MOD13A2.A2010225.h08v04.006.2015210090454.hdf',\n",
       " 'VegeData_16day\\\\MOD13A2.A2010241.h08v04.006.2015210102219.hdf',\n",
       " 'VegeData_16day\\\\MOD13A2.A2010257.h08v04.006.2015211022417.hdf',\n",
       " 'VegeData_16day\\\\MOD13A2.A2010273.h08v04.006.2015211140637.hdf',\n",
       " 'VegeData_16day\\\\MOD13A2.A2010289.h08v04.006.2015211230513.hdf',\n",
       " 'VegeData_16day\\\\MOD13A2.A2010305.h08v04.006.2015213071848.hdf',\n",
       " 'VegeData_16day\\\\MOD13A2.A2010321.h08v04.006.2015213084539.hdf',\n",
       " 'VegeData_16day\\\\MOD13A2.A2010337.h08v04.006.2015213170024.hdf',\n",
       " 'VegeData_16day\\\\MOD13A2.A2010353.h08v04.006.2018226093258.hdf',\n",
       " 'VegeData_16day\\\\MOD13A2.A2011001.h08v04.006.2015216112623.hdf',\n",
       " 'VegeData_16day\\\\MOD13A2.A2011017.h08v04.006.2015216145513.hdf',\n",
       " 'VegeData_16day\\\\MOD13A2.A2011033.h08v04.006.2015216133020.hdf',\n",
       " 'VegeData_16day\\\\MOD13A2.A2011049.h08v04.006.2015216131925.hdf',\n",
       " 'VegeData_16day\\\\MOD13A2.A2011065.h08v04.006.2015217063126.hdf',\n",
       " 'VegeData_16day\\\\MOD13A2.A2011081.h08v04.006.2015217160720.hdf',\n",
       " 'VegeData_16day\\\\MOD13A2.A2011097.h08v04.006.2015218081231.hdf',\n",
       " 'VegeData_16day\\\\MOD13A2.A2011113.h08v04.006.2015218101722.hdf',\n",
       " 'VegeData_16day\\\\MOD13A2.A2011129.h08v04.006.2015219101336.hdf',\n",
       " 'VegeData_16day\\\\MOD13A2.A2011145.h08v04.006.2015219135857.hdf',\n",
       " 'VegeData_16day\\\\MOD13A2.A2011161.h08v04.006.2015219192106.hdf',\n",
       " 'VegeData_16day\\\\MOD13A2.A2011177.h08v04.006.2015220074835.hdf',\n",
       " 'VegeData_16day\\\\MOD13A2.A2011193.h08v04.006.2015220124437.hdf',\n",
       " 'VegeData_16day\\\\MOD13A2.A2011209.h08v04.006.2015221074231.hdf',\n",
       " 'VegeData_16day\\\\MOD13A2.A2011225.h08v04.006.2015221113500.hdf',\n",
       " 'VegeData_16day\\\\MOD13A2.A2011241.h08v04.006.2015221212851.hdf',\n",
       " 'VegeData_16day\\\\MOD13A2.A2011257.h08v04.006.2015222095015.hdf',\n",
       " 'VegeData_16day\\\\MOD13A2.A2011273.h08v04.006.2015222122020.hdf',\n",
       " 'VegeData_16day\\\\MOD13A2.A2011289.h08v04.006.2015223131733.hdf',\n",
       " 'VegeData_16day\\\\MOD13A2.A2011305.h08v04.006.2015229101719.hdf',\n",
       " 'VegeData_16day\\\\MOD13A2.A2011321.h08v04.006.2015229111131.hdf',\n",
       " 'VegeData_16day\\\\MOD13A2.A2011337.h08v04.006.2015229233940.hdf',\n",
       " 'VegeData_16day\\\\MOD13A2.A2011353.h08v04.006.2018226093214.hdf',\n",
       " 'VegeData_16day\\\\MOD13A2.A2012001.h08v04.006.2015236170631.hdf',\n",
       " 'VegeData_16day\\\\MOD13A2.A2012017.h08v04.006.2015237084259.hdf',\n",
       " 'VegeData_16day\\\\MOD13A2.A2012033.h08v04.006.2015237195058.hdf',\n",
       " 'VegeData_16day\\\\MOD13A2.A2012049.h08v04.006.2015238133938.hdf',\n",
       " 'VegeData_16day\\\\MOD13A2.A2012065.h08v04.006.2015238152021.hdf',\n",
       " 'VegeData_16day\\\\MOD13A2.A2012081.h08v04.006.2015239232052.hdf',\n",
       " 'VegeData_16day\\\\MOD13A2.A2012097.h08v04.006.2015240113442.hdf',\n",
       " 'VegeData_16day\\\\MOD13A2.A2012113.h08v04.006.2015240193236.hdf',\n",
       " 'VegeData_16day\\\\MOD13A2.A2012129.h08v04.006.2015246095315.hdf',\n",
       " 'VegeData_16day\\\\MOD13A2.A2012145.h08v04.006.2015246095814.hdf',\n",
       " 'VegeData_16day\\\\MOD13A2.A2012161.h08v04.006.2015247050758.hdf',\n",
       " 'VegeData_16day\\\\MOD13A2.A2012177.h08v04.006.2015247082143.hdf',\n",
       " 'VegeData_16day\\\\MOD13A2.A2012193.h08v04.006.2015247170916.hdf',\n",
       " 'VegeData_16day\\\\MOD13A2.A2012209.h08v04.006.2015248101639.hdf',\n",
       " 'VegeData_16day\\\\MOD13A2.A2012225.h08v04.006.2015248125458.hdf',\n",
       " 'VegeData_16day\\\\MOD13A2.A2012241.h08v04.006.2015249114332.hdf',\n",
       " 'VegeData_16day\\\\MOD13A2.A2012257.h08v04.006.2015249144529.hdf',\n",
       " 'VegeData_16day\\\\MOD13A2.A2012273.h08v04.006.2015249215010.hdf',\n",
       " 'VegeData_16day\\\\MOD13A2.A2012289.h08v04.006.2015251135044.hdf',\n",
       " 'VegeData_16day\\\\MOD13A2.A2012305.h08v04.006.2015251161211.hdf',\n",
       " 'VegeData_16day\\\\MOD13A2.A2012321.h08v04.006.2015252195602.hdf',\n",
       " 'VegeData_16day\\\\MOD13A2.A2012337.h08v04.006.2015252232654.hdf',\n",
       " 'VegeData_16day\\\\MOD13A2.A2012353.h08v04.006.2018226105517.hdf',\n",
       " 'VegeData_16day\\\\MOD13A2.A2013001.h08v04.006.2015254150107.hdf',\n",
       " 'VegeData_16day\\\\MOD13A2.A2013017.h08v04.006.2015254145119.hdf',\n",
       " 'VegeData_16day\\\\MOD13A2.A2013033.h08v04.006.2015256072021.hdf',\n",
       " 'VegeData_16day\\\\MOD13A2.A2013049.h08v04.006.2015256170753.hdf',\n",
       " 'VegeData_16day\\\\MOD13A2.A2013065.h08v04.006.2015256180942.hdf',\n",
       " 'VegeData_16day\\\\MOD13A2.A2013081.h08v04.006.2015257074033.hdf',\n",
       " 'VegeData_16day\\\\MOD13A2.A2013097.h08v04.006.2015257101556.hdf',\n",
       " 'VegeData_16day\\\\MOD13A2.A2013113.h08v04.006.2015260124717.hdf',\n",
       " 'VegeData_16day\\\\MOD13A2.A2013129.h08v04.006.2015260163925.hdf',\n",
       " 'VegeData_16day\\\\MOD13A2.A2013145.h08v04.006.2015261183404.hdf',\n",
       " 'VegeData_16day\\\\MOD13A2.A2013161.h08v04.006.2015262165900.hdf',\n",
       " 'VegeData_16day\\\\MOD13A2.A2013177.h08v04.006.2015262165458.hdf',\n",
       " 'VegeData_16day\\\\MOD13A2.A2013193.h08v04.006.2015264060601.hdf',\n",
       " 'VegeData_16day\\\\MOD13A2.A2013209.h08v04.006.2015267161003.hdf',\n",
       " 'VegeData_16day\\\\MOD13A2.A2013225.h08v04.006.2015267213358.hdf',\n",
       " 'VegeData_16day\\\\MOD13A2.A2013241.h08v04.006.2015268074830.hdf',\n",
       " 'VegeData_16day\\\\MOD13A2.A2013257.h08v04.006.2015268074250.hdf',\n",
       " 'VegeData_16day\\\\MOD13A2.A2013273.h08v04.006.2015269191031.hdf',\n",
       " 'VegeData_16day\\\\MOD13A2.A2013289.h08v04.006.2015269223126.hdf',\n",
       " 'VegeData_16day\\\\MOD13A2.A2013305.h08v04.006.2015270190405.hdf',\n",
       " 'VegeData_16day\\\\MOD13A2.A2013321.h08v04.006.2015271102731.hdf',\n",
       " 'VegeData_16day\\\\MOD13A2.A2013337.h08v04.006.2015271131420.hdf',\n",
       " 'VegeData_16day\\\\MOD13A2.A2013353.h08v04.006.2018226105819.hdf',\n",
       " 'VegeData_16day\\\\MOD13A2.A2014001.h08v04.006.2015272061052.hdf',\n",
       " 'VegeData_16day\\\\MOD13A2.A2014017.h08v04.006.2015273232452.hdf',\n",
       " 'VegeData_16day\\\\MOD13A2.A2014033.h08v04.006.2015274231845.hdf',\n",
       " 'VegeData_16day\\\\MOD13A2.A2014049.h08v04.006.2015274225948.hdf',\n",
       " 'VegeData_16day\\\\MOD13A2.A2014065.h08v04.006.2015276181725.hdf',\n",
       " 'VegeData_16day\\\\MOD13A2.A2014081.h08v04.006.2015276220747.hdf',\n",
       " 'VegeData_16day\\\\MOD13A2.A2014097.h08v04.006.2015278233204.hdf',\n",
       " 'VegeData_16day\\\\MOD13A2.A2014113.h08v04.006.2015281100708.hdf',\n",
       " 'VegeData_16day\\\\MOD13A2.A2014129.h08v04.006.2015281104035.hdf',\n",
       " 'VegeData_16day\\\\MOD13A2.A2014145.h08v04.006.2015287232122.hdf',\n",
       " 'VegeData_16day\\\\MOD13A2.A2014161.h08v04.006.2015288073232.hdf',\n",
       " 'VegeData_16day\\\\MOD13A2.A2014177.h08v04.006.2015288073224.hdf',\n",
       " 'VegeData_16day\\\\MOD13A2.A2014193.h08v04.006.2015289002100.hdf',\n",
       " 'VegeData_16day\\\\MOD13A2.A2014209.h08v04.006.2015289032022.hdf',\n",
       " 'VegeData_16day\\\\MOD13A2.A2014225.h08v04.006.2015289160457.hdf',\n",
       " 'VegeData_16day\\\\MOD13A2.A2014241.h08v04.006.2015289183257.hdf',\n",
       " 'VegeData_16day\\\\MOD13A2.A2014257.h08v04.006.2015291062442.hdf',\n",
       " 'VegeData_16day\\\\MOD13A2.A2014273.h08v04.006.2015291111136.hdf',\n",
       " 'VegeData_16day\\\\MOD13A2.A2014289.h08v04.006.2015291191148.hdf',\n",
       " 'VegeData_16day\\\\MOD13A2.A2014305.h08v04.006.2015292062346.hdf',\n",
       " 'VegeData_16day\\\\MOD13A2.A2014321.h08v04.006.2015292071251.hdf',\n",
       " 'VegeData_16day\\\\MOD13A2.A2014337.h08v04.006.2015294144024.hdf',\n",
       " 'VegeData_16day\\\\MOD13A2.A2014353.h08v04.006.2018226110030.hdf',\n",
       " 'VegeData_16day\\\\MOD13A2.A2015001.h08v04.006.2015295101249.hdf',\n",
       " 'VegeData_16day\\\\MOD13A2.A2015017.h08v04.006.2015295120233.hdf',\n",
       " 'VegeData_16day\\\\MOD13A2.A2015033.h08v04.006.2015296122521.hdf',\n",
       " 'VegeData_16day\\\\MOD13A2.A2015049.h08v04.006.2015296152737.hdf',\n",
       " 'VegeData_16day\\\\MOD13A2.A2015065.h08v04.006.2015298000713.hdf',\n",
       " 'VegeData_16day\\\\MOD13A2.A2015081.h08v04.006.2015298184840.hdf',\n",
       " 'VegeData_16day\\\\MOD13A2.A2015097.h08v04.006.2015299005918.hdf',\n",
       " 'VegeData_16day\\\\MOD13A2.A2015113.h08v04.006.2015299023023.hdf',\n",
       " 'VegeData_16day\\\\MOD13A2.A2015129.h08v04.006.2015299151225.hdf',\n",
       " 'VegeData_16day\\\\MOD13A2.A2015145.h08v04.006.2015301000511.hdf',\n",
       " 'VegeData_16day\\\\MOD13A2.A2015161.h08v04.006.2015301072412.hdf',\n",
       " 'VegeData_16day\\\\MOD13A2.A2015177.h08v04.006.2015301215030.hdf',\n",
       " 'VegeData_16day\\\\MOD13A2.A2015193.h08v04.006.2015304012707.hdf',\n",
       " 'VegeData_16day\\\\MOD13A2.A2015209.h08v04.006.2015304024205.hdf',\n",
       " 'VegeData_16day\\\\MOD13A2.A2015225.h08v04.006.2015305195121.hdf',\n",
       " 'VegeData_16day\\\\MOD13A2.A2015241.h08v04.006.2015305211043.hdf',\n",
       " 'VegeData_16day\\\\MOD13A2.A2015257.h08v04.006.2015306145109.hdf',\n",
       " 'VegeData_16day\\\\MOD13A2.A2015273.h08v04.006.2015307052804.hdf',\n",
       " 'VegeData_16day\\\\MOD13A2.A2015289.h08v04.006.2015317212130.hdf',\n",
       " 'VegeData_16day\\\\MOD13A2.A2015305.h08v04.006.2015335131530.hdf',\n",
       " 'VegeData_16day\\\\MOD13A2.A2015321.h08v04.006.2015343140354.hdf',\n",
       " 'VegeData_16day\\\\MOD13A2.A2015337.h08v04.006.2016004171309.hdf',\n",
       " 'VegeData_16day\\\\MOD13A2.A2015353.h08v04.006.2018222150434.hdf',\n",
       " 'VegeData_16day\\\\MOD13A2.A2016001.h08v04.006.2016029064131.hdf',\n",
       " 'VegeData_16day\\\\MOD13A2.A2016017.h08v04.006.2016035114453.hdf',\n",
       " 'VegeData_16day\\\\MOD13A2.A2016033.h08v04.006.2016050022821.hdf',\n",
       " 'VegeData_16day\\\\MOD13A2.A2016049.h08v04.006.2016109133408.hdf',\n",
       " 'VegeData_16day\\\\MOD13A2.A2016065.h08v04.006.2016111112219.hdf',\n",
       " 'VegeData_16day\\\\MOD13A2.A2016081.h08v04.006.2016111112648.hdf',\n",
       " 'VegeData_16day\\\\MOD13A2.A2016097.h08v04.006.2016114040715.hdf',\n",
       " 'VegeData_16day\\\\MOD13A2.A2016113.h08v04.006.2016130115543.hdf',\n",
       " 'VegeData_16day\\\\MOD13A2.A2016129.h08v04.006.2016147112629.hdf',\n",
       " 'VegeData_16day\\\\MOD13A2.A2016145.h08v04.006.2016166143731.hdf',\n",
       " 'VegeData_16day\\\\MOD13A2.A2016161.h08v04.006.2016184001905.hdf',\n",
       " 'VegeData_16day\\\\MOD13A2.A2016177.h08v04.006.2016200095444.hdf',\n",
       " 'VegeData_16day\\\\MOD13A2.A2016193.h08v04.006.2016215085024.hdf',\n",
       " 'VegeData_16day\\\\MOD13A2.A2016209.h08v04.006.2016229082842.hdf',\n",
       " 'VegeData_16day\\\\MOD13A2.A2016225.h08v04.006.2016243085924.hdf',\n",
       " 'VegeData_16day\\\\MOD13A2.A2016241.h08v04.006.2016263145858.hdf',\n",
       " 'VegeData_16day\\\\MOD13A2.A2016257.h08v04.006.2016274144049.hdf',\n",
       " 'VegeData_16day\\\\MOD13A2.A2016273.h08v04.006.2016292070622.hdf',\n",
       " 'VegeData_16day\\\\MOD13A2.A2016289.h08v04.006.2016306035023.hdf',\n",
       " 'VegeData_16day\\\\MOD13A2.A2016305.h08v04.006.2016322044313.hdf',\n",
       " 'VegeData_16day\\\\MOD13A2.A2016321.h08v04.006.2016340092306.hdf',\n",
       " 'VegeData_16day\\\\MOD13A2.A2016337.h08v04.006.2016357041654.hdf',\n",
       " 'VegeData_16day\\\\MOD13A2.A2016353.h08v04.006.2017010091128.hdf',\n",
       " 'VegeData_16day\\\\MOD13A2.A2017001.h08v04.006.2017020215900.hdf',\n",
       " 'VegeData_16day\\\\MOD13A2.A2017017.h08v04.006.2017034073149.hdf',\n",
       " 'VegeData_16day\\\\MOD13A2.A2017033.h08v04.006.2017053061350.hdf',\n",
       " 'VegeData_16day\\\\MOD13A2.A2017049.h08v04.006.2017066032151.hdf',\n",
       " 'VegeData_16day\\\\MOD13A2.A2017065.h08v04.006.2017082122007.hdf',\n",
       " 'VegeData_16day\\\\MOD13A2.A2017081.h08v04.006.2017097232752.hdf',\n",
       " 'VegeData_16day\\\\MOD13A2.A2017097.h08v04.006.2017116141718.hdf',\n",
       " 'VegeData_16day\\\\MOD13A2.A2017113.h08v04.006.2017131014428.hdf',\n",
       " 'VegeData_16day\\\\MOD13A2.A2017129.h08v04.006.2017145231210.hdf',\n",
       " 'VegeData_16day\\\\MOD13A2.A2017145.h08v04.006.2017164072106.hdf',\n",
       " 'VegeData_16day\\\\MOD13A2.A2017161.h08v04.006.2017178081218.hdf',\n",
       " 'VegeData_16day\\\\MOD13A2.A2017177.h08v04.006.2017194070628.hdf',\n",
       " 'VegeData_16day\\\\MOD13A2.A2017193.h08v04.006.2017209232631.hdf',\n",
       " 'VegeData_16day\\\\MOD13A2.A2017209.h08v04.006.2017234111925.hdf',\n",
       " 'VegeData_16day\\\\MOD13A2.A2017225.h08v04.006.2017250141628.hdf',\n",
       " 'VegeData_16day\\\\MOD13A2.A2017241.h08v04.006.2017262085516.hdf',\n",
       " 'VegeData_16day\\\\MOD13A2.A2017257.h08v04.006.2017276132704.hdf',\n",
       " 'VegeData_16day\\\\MOD13A2.A2017273.h08v04.006.2017290090551.hdf',\n",
       " 'VegeData_16day\\\\MOD13A2.A2017289.h08v04.006.2017310142342.hdf',\n",
       " 'VegeData_16day\\\\MOD13A2.A2017305.h08v04.006.2017325113551.hdf',\n",
       " 'VegeData_16day\\\\MOD13A2.A2017321.h08v04.006.2017337222118.hdf',\n",
       " 'VegeData_16day\\\\MOD13A2.A2017337.h08v04.006.2017353223654.hdf',\n",
       " 'VegeData_16day\\\\MOD13A2.A2017353.h08v04.006.2018004224023.hdf',\n",
       " 'VegeData_16day\\\\MOD13A2.A2018001.h08v04.006.2018017224614.hdf',\n",
       " 'VegeData_16day\\\\MOD13A2.A2018017.h08v04.006.2018033224251.hdf',\n",
       " 'VegeData_16day\\\\MOD13A2.A2018033.h08v04.006.2018049222853.hdf',\n",
       " 'VegeData_16day\\\\MOD13A2.A2018049.h08v04.006.2018066165913.hdf',\n",
       " 'VegeData_16day\\\\MOD13A2.A2018065.h08v04.006.2018082151542.hdf',\n",
       " 'VegeData_16day\\\\MOD13A2.A2018081.h08v04.006.2018097234259.hdf',\n",
       " 'VegeData_16day\\\\MOD13A2.A2018097.h08v04.006.2018113233550.hdf',\n",
       " 'VegeData_16day\\\\MOD13A2.A2018113.h08v04.006.2018129234511.hdf',\n",
       " 'VegeData_16day\\\\MOD13A2.A2018129.h08v04.006.2018151110329.hdf',\n",
       " 'VegeData_16day\\\\MOD13A2.A2018145.h08v04.006.2018162000945.hdf',\n",
       " 'VegeData_16day\\\\MOD13A2.A2018161.h08v04.006.2018177235620.hdf',\n",
       " 'VegeData_16day\\\\MOD13A2.A2018177.h08v04.006.2018197102735.hdf',\n",
       " 'VegeData_16day\\\\MOD13A2.A2018193.h08v04.006.2018210001123.hdf',\n",
       " 'VegeData_16day\\\\MOD13A2.A2018209.h08v04.006.2018227125515.hdf',\n",
       " 'VegeData_16day\\\\MOD13A2.A2018225.h08v04.006.2018242000426.hdf',\n",
       " 'VegeData_16day\\\\MOD13A2.A2018241.h08v04.006.2018257235600.hdf',\n",
       " 'VegeData_16day\\\\MOD13A2.A2018257.h08v04.006.2018282125208.hdf',\n",
       " 'VegeData_16day\\\\MOD13A2.A2018273.h08v04.006.2018295105603.hdf',\n",
       " 'VegeData_16day\\\\MOD13A2.A2018289.h08v04.006.2018313115803.hdf',\n",
       " 'VegeData_16day\\\\MOD13A2.A2018305.h08v04.006.2018321225356.hdf',\n",
       " 'VegeData_16day\\\\MOD13A2.A2018321.h08v04.006.2018338083958.hdf',\n",
       " 'VegeData_16day\\\\MOD13A2.A2018337.h08v04.006.2018365153403.hdf',\n",
       " 'VegeData_16day\\\\MOD13A2.A2018353.h08v04.006.2019032133502.hdf',\n",
       " 'VegeData_16day\\\\MOD13A2.A2019001.h08v04.006.2019024152547.hdf',\n",
       " 'VegeData_16day\\\\MOD13A2.A2019017.h08v04.006.2019037161251.hdf',\n",
       " 'VegeData_16day\\\\MOD13A2.A2019033.h08v04.006.2019050212925.hdf',\n",
       " 'VegeData_16day\\\\MOD13A2.A2019049.h08v04.006.2019073153003.hdf',\n",
       " 'VegeData_16day\\\\MOD13A2.A2019065.h08v04.006.2019083223107.hdf',\n",
       " 'VegeData_16day\\\\MOD13A2.A2019081.h08v04.006.2019098105707.hdf',\n",
       " 'VegeData_16day\\\\MOD13A2.A2019097.h08v04.006.2019113234106.hdf',\n",
       " 'VegeData_16day\\\\MOD13A2.A2019113.h08v04.006.2019130000210.hdf',\n",
       " 'VegeData_16day\\\\MOD13A2.A2019129.h08v04.006.2019150093258.hdf',\n",
       " 'VegeData_16day\\\\MOD13A2.A2019145.h08v04.006.2019162004041.hdf',\n",
       " 'VegeData_16day\\\\MOD13A2.A2019161.h08v04.006.2019221150506.hdf',\n",
       " 'VegeData_16day\\\\MOD13A2.A2019177.h08v04.006.2019194000838.hdf',\n",
       " 'VegeData_16day\\\\MOD13A2.A2019193.h08v04.006.2019210000523.hdf',\n",
       " 'VegeData_16day\\\\MOD13A2.A2019209.h08v04.006.2019226014726.hdf',\n",
       " 'VegeData_16day\\\\MOD13A2.A2019225.h08v04.006.2019248131633.hdf',\n",
       " 'VegeData_16day\\\\MOD13A2.A2019241.h08v04.006.2019262164452.hdf',\n",
       " 'VegeData_16day\\\\MOD13A2.A2019257.h08v04.006.2019275174518.hdf',\n",
       " 'VegeData_16day\\\\MOD13A2.A2019273.h08v04.006.2019290002223.hdf',\n",
       " 'VegeData_16day\\\\MOD13A2.A2019289.h08v04.006.2019306012339.hdf',\n",
       " 'VegeData_16day\\\\MOD13A2.A2019305.h08v04.006.2019323202522.hdf',\n",
       " 'VegeData_16day\\\\MOD13A2.A2019321.h08v04.006.2019337235240.hdf',\n",
       " 'VegeData_16day\\\\MOD13A2.A2019337.h08v04.006.2019354134517.hdf',\n",
       " 'VegeData_16day\\\\MOD13A2.A2019353.h08v04.006.2020004221625.hdf',\n",
       " 'VegeData_16day\\\\MOD13A2.A2020001.h08v04.006.2020018001033.hdf',\n",
       " 'VegeData_16day\\\\MOD13A2.A2020017.h08v04.006.2020034143234.hdf',\n",
       " 'VegeData_16day\\\\MOD13A2.A2020033.h08v04.006.2020050021510.hdf',\n",
       " 'VegeData_16day\\\\MOD13A2.A2020049.h08v04.006.2020066002737.hdf',\n",
       " 'VegeData_16day\\\\MOD13A2.A2020065.h08v04.006.2020082012600.hdf',\n",
       " 'VegeData_16day\\\\MOD13A2.A2020081.h08v04.006.2020100121013.hdf',\n",
       " 'VegeData_16day\\\\MOD13A2.A2020097.h08v04.006.2020114012045.hdf',\n",
       " 'VegeData_16day\\\\MOD13A2.A2020113.h08v04.006.2020130013140.hdf',\n",
       " 'VegeData_16day\\\\MOD13A2.A2020129.h08v04.006.2020145235812.hdf',\n",
       " 'VegeData_16day\\\\MOD13A2.A2020145.h08v04.006.2020162014352.hdf',\n",
       " 'VegeData_16day\\\\MOD13A2.A2020161.h08v04.006.2020178012459.hdf',\n",
       " 'VegeData_16day\\\\MOD13A2.A2020177.h08v04.006.2020196232037.hdf',\n",
       " 'VegeData_16day\\\\MOD13A2.A2020193.h08v04.006.2020210005544.hdf',\n",
       " 'VegeData_16day\\\\MOD13A2.A2020209.h08v04.006.2020226003102.hdf',\n",
       " 'VegeData_16day\\\\MOD13A2.A2020225.h08v04.006.2020241232538.hdf',\n",
       " 'VegeData_16day\\\\MOD13A2.A2020241.h08v04.006.2020261220355.hdf',\n",
       " 'VegeData_16day\\\\MOD13A2.A2020257.h08v04.006.2020280043429.hdf',\n",
       " 'VegeData_16day\\\\MOD13A2.A2020273.h08v04.006.2020291074331.hdf',\n",
       " 'VegeData_16day\\\\MOD13A2.A2020289.h08v04.006.2020306010001.hdf',\n",
       " 'VegeData_16day\\\\MOD13A2.A2020305.h08v04.006.2020321230654.hdf']"
      ]
     },
     "execution_count": 35,
     "metadata": {},
     "output_type": "execute_result"
    }
   ],
   "source": [
    "vege_fs84"
   ]
  },
  {
   "cell_type": "code",
   "execution_count": 36,
   "metadata": {},
   "outputs": [],
   "source": [
    "vege_fs85 = glob('VegeData_16day/*h08v05*')"
   ]
  },
  {
   "cell_type": "code",
   "execution_count": 37,
   "metadata": {},
   "outputs": [
    {
     "data": {
      "text/plain": [
       "['VegeData_16day\\\\MOD13A2.A2000049.h08v05.006.2015136104428.hdf',\n",
       " 'VegeData_16day\\\\MOD13A2.A2000065.h08v05.006.2015136022932.hdf',\n",
       " 'VegeData_16day\\\\MOD13A2.A2000081.h08v05.006.2015136041359.hdf',\n",
       " 'VegeData_16day\\\\MOD13A2.A2000097.h08v05.006.2015136040245.hdf',\n",
       " 'VegeData_16day\\\\MOD13A2.A2000113.h08v05.006.2015137035140.hdf',\n",
       " 'VegeData_16day\\\\MOD13A2.A2000129.h08v05.006.2015137052212.hdf',\n",
       " 'VegeData_16day\\\\MOD13A2.A2000145.h08v05.006.2015137095459.hdf',\n",
       " 'VegeData_16day\\\\MOD13A2.A2000161.h08v05.006.2015137044400.hdf',\n",
       " 'VegeData_16day\\\\MOD13A2.A2000177.h08v05.006.2015138071538.hdf',\n",
       " 'VegeData_16day\\\\MOD13A2.A2000193.h08v05.006.2015138073343.hdf',\n",
       " 'VegeData_16day\\\\MOD13A2.A2000209.h08v05.006.2015138075104.hdf',\n",
       " 'VegeData_16day\\\\MOD13A2.A2000225.h08v05.006.2015138072405.hdf',\n",
       " 'VegeData_16day\\\\MOD13A2.A2000241.h08v05.006.2015138080540.hdf',\n",
       " 'VegeData_16day\\\\MOD13A2.A2000257.h08v05.006.2015139073842.hdf',\n",
       " 'VegeData_16day\\\\MOD13A2.A2000273.h08v05.006.2015139075119.hdf',\n",
       " 'VegeData_16day\\\\MOD13A2.A2000289.h08v05.006.2015139083757.hdf',\n",
       " 'VegeData_16day\\\\MOD13A2.A2000305.h08v05.006.2015139073937.hdf',\n",
       " 'VegeData_16day\\\\MOD13A2.A2000321.h08v05.006.2015139221359.hdf',\n",
       " 'VegeData_16day\\\\MOD13A2.A2000337.h08v05.006.2015140092915.hdf',\n",
       " 'VegeData_16day\\\\MOD13A2.A2000353.h08v05.006.2018222145559.hdf',\n",
       " 'VegeData_16day\\\\MOD13A2.A2001001.h08v05.006.2015140080310.hdf',\n",
       " 'VegeData_16day\\\\MOD13A2.A2001017.h08v05.006.2015140092853.hdf',\n",
       " 'VegeData_16day\\\\MOD13A2.A2001033.h08v05.006.2015141152018.hdf',\n",
       " 'VegeData_16day\\\\MOD13A2.A2001049.h08v05.006.2015142182356.hdf',\n",
       " 'VegeData_16day\\\\MOD13A2.A2001065.h08v05.006.2015142182329.hdf',\n",
       " 'VegeData_16day\\\\MOD13A2.A2001081.h08v05.006.2015142184416.hdf',\n",
       " 'VegeData_16day\\\\MOD13A2.A2001097.h08v05.006.2015142195221.hdf',\n",
       " 'VegeData_16day\\\\MOD13A2.A2001113.h08v05.006.2015142193246.hdf',\n",
       " 'VegeData_16day\\\\MOD13A2.A2001129.h08v05.006.2015142064507.hdf',\n",
       " 'VegeData_16day\\\\MOD13A2.A2001145.h08v05.006.2015143102023.hdf',\n",
       " 'VegeData_16day\\\\MOD13A2.A2001161.h08v05.006.2015143072033.hdf',\n",
       " 'VegeData_16day\\\\MOD13A2.A2001177.h08v05.006.2015143093614.hdf',\n",
       " 'VegeData_16day\\\\MOD13A2.A2001193.h08v05.006.2015143122407.hdf',\n",
       " 'VegeData_16day\\\\MOD13A2.A2001209.h08v05.006.2015143163813.hdf',\n",
       " 'VegeData_16day\\\\MOD13A2.A2001225.h08v05.006.2015144055543.hdf',\n",
       " 'VegeData_16day\\\\MOD13A2.A2001241.h08v05.006.2015144061200.hdf',\n",
       " 'VegeData_16day\\\\MOD13A2.A2001257.h08v05.006.2015144060249.hdf',\n",
       " 'VegeData_16day\\\\MOD13A2.A2001273.h08v05.006.2015144060256.hdf',\n",
       " 'VegeData_16day\\\\MOD13A2.A2001289.h08v05.006.2015146023503.hdf',\n",
       " 'VegeData_16day\\\\MOD13A2.A2001305.h08v05.006.2015146020620.hdf',\n",
       " 'VegeData_16day\\\\MOD13A2.A2001321.h08v05.006.2015146031320.hdf',\n",
       " 'VegeData_16day\\\\MOD13A2.A2001337.h08v05.006.2015146035831.hdf',\n",
       " 'VegeData_16day\\\\MOD13A2.A2001353.h08v05.006.2018226092333.hdf',\n",
       " 'VegeData_16day\\\\MOD13A2.A2002001.h08v05.006.2015146150649.hdf',\n",
       " 'VegeData_16day\\\\MOD13A2.A2002017.h08v05.006.2015146123337.hdf',\n",
       " 'VegeData_16day\\\\MOD13A2.A2002033.h08v05.006.2015146145401.hdf',\n",
       " 'VegeData_16day\\\\MOD13A2.A2002049.h08v05.006.2015146124631.hdf',\n",
       " 'VegeData_16day\\\\MOD13A2.A2002065.h08v05.006.2015147115016.hdf',\n",
       " 'VegeData_16day\\\\MOD13A2.A2002081.h08v05.006.2015147122341.hdf',\n",
       " 'VegeData_16day\\\\MOD13A2.A2002097.h08v05.006.2015147212305.hdf',\n",
       " 'VegeData_16day\\\\MOD13A2.A2002113.h08v05.006.2015147213025.hdf',\n",
       " 'VegeData_16day\\\\MOD13A2.A2002129.h08v05.006.2015147233231.hdf',\n",
       " 'VegeData_16day\\\\MOD13A2.A2002145.h08v05.006.2015148102537.hdf',\n",
       " 'VegeData_16day\\\\MOD13A2.A2002161.h08v05.006.2015148093656.hdf',\n",
       " 'VegeData_16day\\\\MOD13A2.A2002177.h08v05.006.2015149001132.hdf',\n",
       " 'VegeData_16day\\\\MOD13A2.A2002193.h08v05.006.2015149024606.hdf',\n",
       " 'VegeData_16day\\\\MOD13A2.A2002209.h08v05.006.2015149180704.hdf',\n",
       " 'VegeData_16day\\\\MOD13A2.A2002225.h08v05.006.2015150025329.hdf',\n",
       " 'VegeData_16day\\\\MOD13A2.A2002241.h08v05.006.2015150202637.hdf',\n",
       " 'VegeData_16day\\\\MOD13A2.A2002257.h08v05.006.2015151082628.hdf',\n",
       " 'VegeData_16day\\\\MOD13A2.A2002273.h08v05.006.2015151081304.hdf',\n",
       " 'VegeData_16day\\\\MOD13A2.A2002289.h08v05.006.2015152035045.hdf',\n",
       " 'VegeData_16day\\\\MOD13A2.A2002305.h08v05.006.2015152035505.hdf',\n",
       " 'VegeData_16day\\\\MOD13A2.A2002321.h08v05.006.2015152175846.hdf',\n",
       " 'VegeData_16day\\\\MOD13A2.A2002337.h08v05.006.2015153052935.hdf',\n",
       " 'VegeData_16day\\\\MOD13A2.A2002353.h08v05.006.2018226091841.hdf',\n",
       " 'VegeData_16day\\\\MOD13A2.A2003001.h08v05.006.2015153071934.hdf',\n",
       " 'VegeData_16day\\\\MOD13A2.A2003017.h08v05.006.2015154060319.hdf',\n",
       " 'VegeData_16day\\\\MOD13A2.A2003033.h08v05.006.2015156052458.hdf',\n",
       " 'VegeData_16day\\\\MOD13A2.A2003049.h08v05.006.2015156080023.hdf',\n",
       " 'VegeData_16day\\\\MOD13A2.A2003065.h08v05.006.2015156190537.hdf',\n",
       " 'VegeData_16day\\\\MOD13A2.A2003081.h08v05.006.2015156190621.hdf',\n",
       " 'VegeData_16day\\\\MOD13A2.A2003097.h08v05.006.2015158151652.hdf',\n",
       " 'VegeData_16day\\\\MOD13A2.A2003113.h08v05.006.2015158152101.hdf',\n",
       " 'VegeData_16day\\\\MOD13A2.A2003129.h08v05.006.2015158153604.hdf',\n",
       " 'VegeData_16day\\\\MOD13A2.A2003145.h08v05.006.2015158155215.hdf',\n",
       " 'VegeData_16day\\\\MOD13A2.A2003161.h08v05.006.2015159133701.hdf',\n",
       " 'VegeData_16day\\\\MOD13A2.A2003177.h08v05.006.2015161132539.hdf',\n",
       " 'VegeData_16day\\\\MOD13A2.A2003193.h08v05.006.2015153110330.hdf',\n",
       " 'VegeData_16day\\\\MOD13A2.A2003209.h08v05.006.2015153105751.hdf',\n",
       " 'VegeData_16day\\\\MOD13A2.A2003225.h08v05.006.2015153113758.hdf',\n",
       " 'VegeData_16day\\\\MOD13A2.A2003241.h08v05.006.2015153113918.hdf',\n",
       " 'VegeData_16day\\\\MOD13A2.A2003257.h08v05.006.2015153113614.hdf',\n",
       " 'VegeData_16day\\\\MOD13A2.A2003273.h08v05.006.2015153115146.hdf',\n",
       " 'VegeData_16day\\\\MOD13A2.A2003289.h08v05.006.2015153122058.hdf',\n",
       " 'VegeData_16day\\\\MOD13A2.A2003305.h08v05.006.2015153124721.hdf',\n",
       " 'VegeData_16day\\\\MOD13A2.A2003321.h08v05.006.2015153130147.hdf',\n",
       " 'VegeData_16day\\\\MOD13A2.A2003337.h08v05.006.2015153125842.hdf',\n",
       " 'VegeData_16day\\\\MOD13A2.A2003353.h08v05.006.2018222145817.hdf',\n",
       " 'VegeData_16day\\\\MOD13A2.A2004001.h08v05.006.2015154120248.hdf',\n",
       " 'VegeData_16day\\\\MOD13A2.A2004017.h08v05.006.2015154120831.hdf',\n",
       " 'VegeData_16day\\\\MOD13A2.A2004033.h08v05.006.2015154121924.hdf',\n",
       " 'VegeData_16day\\\\MOD13A2.A2004049.h08v05.006.2015154124635.hdf',\n",
       " 'VegeData_16day\\\\MOD13A2.A2004065.h08v05.006.2015154124725.hdf',\n",
       " 'VegeData_16day\\\\MOD13A2.A2004081.h08v05.006.2015154124722.hdf',\n",
       " 'VegeData_16day\\\\MOD13A2.A2004097.h08v05.006.2015154124434.hdf',\n",
       " 'VegeData_16day\\\\MOD13A2.A2004113.h08v05.006.2015154125151.hdf',\n",
       " 'VegeData_16day\\\\MOD13A2.A2004129.h08v05.006.2015154125232.hdf',\n",
       " 'VegeData_16day\\\\MOD13A2.A2004145.h08v05.006.2015154130049.hdf',\n",
       " 'VegeData_16day\\\\MOD13A2.A2004161.h08v05.006.2015154125432.hdf',\n",
       " 'VegeData_16day\\\\MOD13A2.A2004177.h08v05.006.2015154131119.hdf',\n",
       " 'VegeData_16day\\\\MOD13A2.A2004193.h08v05.006.2015154131724.hdf',\n",
       " 'VegeData_16day\\\\MOD13A2.A2004209.h08v05.006.2015154132801.hdf',\n",
       " 'VegeData_16day\\\\MOD13A2.A2004225.h08v05.006.2015154133132.hdf',\n",
       " 'VegeData_16day\\\\MOD13A2.A2004241.h08v05.006.2015154133849.hdf',\n",
       " 'VegeData_16day\\\\MOD13A2.A2004257.h08v05.006.2015154133349.hdf',\n",
       " 'VegeData_16day\\\\MOD13A2.A2004273.h08v05.006.2015154134349.hdf',\n",
       " 'VegeData_16day\\\\MOD13A2.A2004289.h08v05.006.2015154134933.hdf',\n",
       " 'VegeData_16day\\\\MOD13A2.A2004305.h08v05.006.2015154135729.hdf',\n",
       " 'VegeData_16day\\\\MOD13A2.A2004321.h08v05.006.2015154140728.hdf',\n",
       " 'VegeData_16day\\\\MOD13A2.A2004337.h08v05.006.2015154141333.hdf',\n",
       " 'VegeData_16day\\\\MOD13A2.A2004353.h08v05.006.2018226091106.hdf',\n",
       " 'VegeData_16day\\\\MOD13A2.A2005001.h08v05.006.2015157035422.hdf',\n",
       " 'VegeData_16day\\\\MOD13A2.A2005017.h08v05.006.2015157042723.hdf',\n",
       " 'VegeData_16day\\\\MOD13A2.A2005033.h08v05.006.2015157043414.hdf',\n",
       " 'VegeData_16day\\\\MOD13A2.A2005049.h08v05.006.2015157043446.hdf',\n",
       " 'VegeData_16day\\\\MOD13A2.A2005065.h08v05.006.2015157043227.hdf',\n",
       " 'VegeData_16day\\\\MOD13A2.A2005081.h08v05.006.2015157044816.hdf',\n",
       " 'VegeData_16day\\\\MOD13A2.A2005097.h08v05.006.2015157044233.hdf',\n",
       " 'VegeData_16day\\\\MOD13A2.A2005113.h08v05.006.2015157050625.hdf',\n",
       " 'VegeData_16day\\\\MOD13A2.A2005129.h08v05.006.2015157050701.hdf',\n",
       " 'VegeData_16day\\\\MOD13A2.A2005145.h08v05.006.2015157051336.hdf',\n",
       " 'VegeData_16day\\\\MOD13A2.A2005161.h08v05.006.2015157051201.hdf',\n",
       " 'VegeData_16day\\\\MOD13A2.A2005177.h08v05.006.2015157053133.hdf',\n",
       " 'VegeData_16day\\\\MOD13A2.A2005193.h08v05.006.2015157052156.hdf',\n",
       " 'VegeData_16day\\\\MOD13A2.A2005209.h08v05.006.2015157054901.hdf',\n",
       " 'VegeData_16day\\\\MOD13A2.A2005225.h08v05.006.2015157054719.hdf',\n",
       " 'VegeData_16day\\\\MOD13A2.A2005241.h08v05.006.2015157054528.hdf',\n",
       " 'VegeData_16day\\\\MOD13A2.A2005257.h08v05.006.2015157060419.hdf',\n",
       " 'VegeData_16day\\\\MOD13A2.A2005273.h08v05.006.2015157055305.hdf',\n",
       " 'VegeData_16day\\\\MOD13A2.A2005289.h08v05.006.2015157061210.hdf',\n",
       " 'VegeData_16day\\\\MOD13A2.A2005305.h08v05.006.2015157060555.hdf',\n",
       " 'VegeData_16day\\\\MOD13A2.A2005321.h08v05.006.2015157062001.hdf',\n",
       " 'VegeData_16day\\\\MOD13A2.A2005337.h08v05.006.2015157061702.hdf',\n",
       " 'VegeData_16day\\\\MOD13A2.A2005353.h08v05.006.2018226090802.hdf',\n",
       " 'VegeData_16day\\\\MOD13A2.A2006001.h08v05.006.2015161092203.hdf',\n",
       " 'VegeData_16day\\\\MOD13A2.A2006017.h08v05.006.2015161112125.hdf',\n",
       " 'VegeData_16day\\\\MOD13A2.A2006033.h08v05.006.2015161115013.hdf',\n",
       " 'VegeData_16day\\\\MOD13A2.A2006049.h08v05.006.2015161112913.hdf',\n",
       " 'VegeData_16day\\\\MOD13A2.A2006065.h08v05.006.2015161115932.hdf',\n",
       " 'VegeData_16day\\\\MOD13A2.A2006081.h08v05.006.2015161121247.hdf',\n",
       " 'VegeData_16day\\\\MOD13A2.A2006097.h08v05.006.2015161145905.hdf',\n",
       " 'VegeData_16day\\\\MOD13A2.A2006113.h08v05.006.2015161154344.hdf',\n",
       " 'VegeData_16day\\\\MOD13A2.A2006129.h08v05.006.2015161160813.hdf',\n",
       " 'VegeData_16day\\\\MOD13A2.A2006145.h08v05.006.2015161160423.hdf',\n",
       " 'VegeData_16day\\\\MOD13A2.A2006161.h08v05.006.2015161173144.hdf',\n",
       " 'VegeData_16day\\\\MOD13A2.A2006177.h08v05.006.2015161172635.hdf',\n",
       " 'VegeData_16day\\\\MOD13A2.A2006193.h08v05.006.2015161174306.hdf',\n",
       " 'VegeData_16day\\\\MOD13A2.A2006209.h08v05.006.2015161191708.hdf',\n",
       " 'VegeData_16day\\\\MOD13A2.A2006225.h08v05.006.2015161193034.hdf',\n",
       " 'VegeData_16day\\\\MOD13A2.A2006241.h08v05.006.2015161194752.hdf',\n",
       " 'VegeData_16day\\\\MOD13A2.A2006257.h08v05.006.2015161200729.hdf',\n",
       " 'VegeData_16day\\\\MOD13A2.A2006273.h08v05.006.2015161202959.hdf',\n",
       " 'VegeData_16day\\\\MOD13A2.A2006289.h08v05.006.2015161205443.hdf',\n",
       " 'VegeData_16day\\\\MOD13A2.A2006305.h08v05.006.2015161210349.hdf',\n",
       " 'VegeData_16day\\\\MOD13A2.A2006321.h08v05.006.2015161212405.hdf',\n",
       " 'VegeData_16day\\\\MOD13A2.A2006337.h08v05.006.2015161213625.hdf',\n",
       " 'VegeData_16day\\\\MOD13A2.A2006353.h08v05.006.2018226090057.hdf',\n",
       " 'VegeData_16day\\\\MOD13A2.A2007001.h08v05.006.2015160165332.hdf',\n",
       " 'VegeData_16day\\\\MOD13A2.A2007017.h08v05.006.2015161215801.hdf',\n",
       " 'VegeData_16day\\\\MOD13A2.A2007033.h08v05.006.2015161220010.hdf',\n",
       " 'VegeData_16day\\\\MOD13A2.A2007049.h08v05.006.2015161222337.hdf',\n",
       " 'VegeData_16day\\\\MOD13A2.A2007065.h08v05.006.2015161224917.hdf',\n",
       " 'VegeData_16day\\\\MOD13A2.A2007081.h08v05.006.2015161230032.hdf',\n",
       " 'VegeData_16day\\\\MOD13A2.A2007097.h08v05.006.2015161232400.hdf',\n",
       " 'VegeData_16day\\\\MOD13A2.A2007113.h08v05.006.2015161233218.hdf',\n",
       " 'VegeData_16day\\\\MOD13A2.A2007129.h08v05.006.2015161233837.hdf',\n",
       " 'VegeData_16day\\\\MOD13A2.A2007145.h08v05.006.2015161235211.hdf',\n",
       " 'VegeData_16day\\\\MOD13A2.A2007161.h08v05.006.2015162000623.hdf',\n",
       " 'VegeData_16day\\\\MOD13A2.A2007177.h08v05.006.2015162001945.hdf',\n",
       " 'VegeData_16day\\\\MOD13A2.A2007193.h08v05.006.2015162001840.hdf',\n",
       " 'VegeData_16day\\\\MOD13A2.A2007209.h08v05.006.2015164011320.hdf',\n",
       " 'VegeData_16day\\\\MOD13A2.A2007225.h08v05.006.2015164160738.hdf',\n",
       " 'VegeData_16day\\\\MOD13A2.A2007241.h08v05.006.2015164183730.hdf',\n",
       " 'VegeData_16day\\\\MOD13A2.A2007257.h08v05.006.2015167042119.hdf',\n",
       " 'VegeData_16day\\\\MOD13A2.A2007273.h08v05.006.2015167050016.hdf',\n",
       " 'VegeData_16day\\\\MOD13A2.A2007289.h08v05.006.2015167193213.hdf',\n",
       " 'VegeData_16day\\\\MOD13A2.A2007305.h08v05.006.2015168084505.hdf',\n",
       " 'VegeData_16day\\\\MOD13A2.A2007321.h08v05.006.2015168095000.hdf',\n",
       " 'VegeData_16day\\\\MOD13A2.A2007337.h08v05.006.2015169044116.hdf',\n",
       " 'VegeData_16day\\\\MOD13A2.A2007353.h08v05.006.2018222150126.hdf',\n",
       " 'VegeData_16day\\\\MOD13A2.A2008001.h08v05.006.2015169100812.hdf',\n",
       " 'VegeData_16day\\\\MOD13A2.A2008017.h08v05.006.2015170040933.hdf',\n",
       " 'VegeData_16day\\\\MOD13A2.A2008033.h08v05.006.2015170044344.hdf',\n",
       " 'VegeData_16day\\\\MOD13A2.A2008049.h08v05.006.2015172130232.hdf',\n",
       " 'VegeData_16day\\\\MOD13A2.A2008065.h08v05.006.2015172183556.hdf',\n",
       " 'VegeData_16day\\\\MOD13A2.A2008081.h08v05.006.2015173011855.hdf',\n",
       " 'VegeData_16day\\\\MOD13A2.A2008097.h08v05.006.2015173054828.hdf',\n",
       " 'VegeData_16day\\\\MOD13A2.A2008113.h08v05.006.2015173161633.hdf',\n",
       " 'VegeData_16day\\\\MOD13A2.A2008129.h08v05.006.2015175092145.hdf',\n",
       " 'VegeData_16day\\\\MOD13A2.A2008145.h08v05.006.2015175110737.hdf',\n",
       " 'VegeData_16day\\\\MOD13A2.A2008161.h08v05.006.2015176070501.hdf',\n",
       " 'VegeData_16day\\\\MOD13A2.A2008177.h08v05.006.2015176072448.hdf',\n",
       " 'VegeData_16day\\\\MOD13A2.A2008193.h08v05.006.2015177041224.hdf',\n",
       " 'VegeData_16day\\\\MOD13A2.A2008209.h08v05.006.2015177043454.hdf',\n",
       " 'VegeData_16day\\\\MOD13A2.A2008225.h08v05.006.2015178163433.hdf',\n",
       " 'VegeData_16day\\\\MOD13A2.A2008241.h08v05.006.2015179215524.hdf',\n",
       " 'VegeData_16day\\\\MOD13A2.A2008257.h08v05.006.2015179215630.hdf',\n",
       " 'VegeData_16day\\\\MOD13A2.A2008273.h08v05.006.2015180221422.hdf',\n",
       " 'VegeData_16day\\\\MOD13A2.A2008289.h08v05.006.2015180221329.hdf',\n",
       " 'VegeData_16day\\\\MOD13A2.A2008305.h08v05.006.2015181141400.hdf',\n",
       " 'VegeData_16day\\\\MOD13A2.A2008321.h08v05.006.2015181150650.hdf',\n",
       " 'VegeData_16day\\\\MOD13A2.A2008337.h08v05.006.2015184002813.hdf',\n",
       " 'VegeData_16day\\\\MOD13A2.A2008353.h08v05.006.2018226094440.hdf',\n",
       " 'VegeData_16day\\\\MOD13A2.A2009001.h08v05.006.2015186062347.hdf',\n",
       " 'VegeData_16day\\\\MOD13A2.A2009017.h08v05.006.2015186062319.hdf',\n",
       " 'VegeData_16day\\\\MOD13A2.A2009033.h08v05.006.2015187063240.hdf',\n",
       " 'VegeData_16day\\\\MOD13A2.A2009049.h08v05.006.2015187062643.hdf',\n",
       " 'VegeData_16day\\\\MOD13A2.A2009065.h08v05.006.2015188083613.hdf',\n",
       " 'VegeData_16day\\\\MOD13A2.A2009081.h08v05.006.2015188090205.hdf',\n",
       " 'VegeData_16day\\\\MOD13A2.A2009097.h08v05.006.2015189152522.hdf',\n",
       " 'VegeData_16day\\\\MOD13A2.A2009113.h08v05.006.2015189143415.hdf',\n",
       " 'VegeData_16day\\\\MOD13A2.A2009129.h08v05.006.2015189211743.hdf',\n",
       " 'VegeData_16day\\\\MOD13A2.A2009145.h08v05.006.2015190120221.hdf',\n",
       " 'VegeData_16day\\\\MOD13A2.A2009161.h08v05.006.2015190221727.hdf',\n",
       " 'VegeData_16day\\\\MOD13A2.A2009177.h08v05.006.2015191094824.hdf',\n",
       " 'VegeData_16day\\\\MOD13A2.A2009193.h08v05.006.2015192143531.hdf',\n",
       " 'VegeData_16day\\\\MOD13A2.A2009209.h08v05.006.2015192143530.hdf',\n",
       " 'VegeData_16day\\\\MOD13A2.A2009225.h08v05.006.2015194144051.hdf',\n",
       " 'VegeData_16day\\\\MOD13A2.A2009241.h08v05.006.2015194150826.hdf',\n",
       " 'VegeData_16day\\\\MOD13A2.A2009257.h08v05.006.2015194224939.hdf',\n",
       " 'VegeData_16day\\\\MOD13A2.A2009273.h08v05.006.2015195125459.hdf',\n",
       " 'VegeData_16day\\\\MOD13A2.A2009289.h08v05.006.2015195223655.hdf',\n",
       " 'VegeData_16day\\\\MOD13A2.A2009305.h08v05.006.2015196133646.hdf',\n",
       " 'VegeData_16day\\\\MOD13A2.A2009321.h08v05.006.2015196201536.hdf',\n",
       " 'VegeData_16day\\\\MOD13A2.A2009337.h08v05.006.2015197064647.hdf',\n",
       " 'VegeData_16day\\\\MOD13A2.A2009353.h08v05.006.2018226093956.hdf',\n",
       " 'VegeData_16day\\\\MOD13A2.A2010001.h08v05.006.2015198101940.hdf',\n",
       " 'VegeData_16day\\\\MOD13A2.A2010017.h08v05.006.2015198193653.hdf',\n",
       " 'VegeData_16day\\\\MOD13A2.A2010033.h08v05.006.2015199121854.hdf',\n",
       " 'VegeData_16day\\\\MOD13A2.A2010049.h08v05.006.2015200022752.hdf',\n",
       " 'VegeData_16day\\\\MOD13A2.A2010065.h08v05.006.2015206075831.hdf',\n",
       " 'VegeData_16day\\\\MOD13A2.A2010081.h08v05.006.2015206075143.hdf',\n",
       " 'VegeData_16day\\\\MOD13A2.A2010097.h08v05.006.2015206224336.hdf',\n",
       " 'VegeData_16day\\\\MOD13A2.A2010113.h08v05.006.2015207155436.hdf',\n",
       " 'VegeData_16day\\\\MOD13A2.A2010129.h08v05.006.2015207185210.hdf',\n",
       " 'VegeData_16day\\\\MOD13A2.A2010145.h08v05.006.2015208134558.hdf',\n",
       " 'VegeData_16day\\\\MOD13A2.A2010161.h08v05.006.2015208193145.hdf',\n",
       " 'VegeData_16day\\\\MOD13A2.A2010177.h08v05.006.2015208203255.hdf',\n",
       " 'VegeData_16day\\\\MOD13A2.A2010193.h08v05.006.2015209100032.hdf',\n",
       " 'VegeData_16day\\\\MOD13A2.A2010209.h08v05.006.2015209150222.hdf',\n",
       " 'VegeData_16day\\\\MOD13A2.A2010225.h08v05.006.2015210083101.hdf',\n",
       " 'VegeData_16day\\\\MOD13A2.A2010241.h08v05.006.2015210102110.hdf',\n",
       " 'VegeData_16day\\\\MOD13A2.A2010257.h08v05.006.2015211021459.hdf',\n",
       " 'VegeData_16day\\\\MOD13A2.A2010273.h08v05.006.2015211141635.hdf',\n",
       " 'VegeData_16day\\\\MOD13A2.A2010289.h08v05.006.2015211230519.hdf',\n",
       " 'VegeData_16day\\\\MOD13A2.A2010305.h08v05.006.2015213071904.hdf',\n",
       " 'VegeData_16day\\\\MOD13A2.A2010321.h08v05.006.2015213084545.hdf',\n",
       " 'VegeData_16day\\\\MOD13A2.A2010337.h08v05.006.2015213170035.hdf',\n",
       " 'VegeData_16day\\\\MOD13A2.A2010353.h08v05.006.2018226093714.hdf',\n",
       " 'VegeData_16day\\\\MOD13A2.A2011001.h08v05.006.2015216112607.hdf',\n",
       " 'VegeData_16day\\\\MOD13A2.A2011017.h08v05.006.2015216145515.hdf',\n",
       " 'VegeData_16day\\\\MOD13A2.A2011033.h08v05.006.2015216132521.hdf',\n",
       " 'VegeData_16day\\\\MOD13A2.A2011049.h08v05.006.2015216133015.hdf',\n",
       " 'VegeData_16day\\\\MOD13A2.A2011065.h08v05.006.2015217063015.hdf',\n",
       " 'VegeData_16day\\\\MOD13A2.A2011081.h08v05.006.2015217154817.hdf',\n",
       " 'VegeData_16day\\\\MOD13A2.A2011097.h08v05.006.2015218081018.hdf',\n",
       " 'VegeData_16day\\\\MOD13A2.A2011113.h08v05.006.2015218102337.hdf',\n",
       " 'VegeData_16day\\\\MOD13A2.A2011129.h08v05.006.2015219101045.hdf',\n",
       " 'VegeData_16day\\\\MOD13A2.A2011145.h08v05.006.2015219134628.hdf',\n",
       " 'VegeData_16day\\\\MOD13A2.A2011161.h08v05.006.2015219192113.hdf',\n",
       " 'VegeData_16day\\\\MOD13A2.A2011177.h08v05.006.2015220074546.hdf',\n",
       " 'VegeData_16day\\\\MOD13A2.A2011193.h08v05.006.2015220125106.hdf',\n",
       " 'VegeData_16day\\\\MOD13A2.A2011209.h08v05.006.2015221074221.hdf',\n",
       " 'VegeData_16day\\\\MOD13A2.A2011225.h08v05.006.2015221115108.hdf',\n",
       " 'VegeData_16day\\\\MOD13A2.A2011241.h08v05.006.2015221205407.hdf',\n",
       " 'VegeData_16day\\\\MOD13A2.A2011257.h08v05.006.2015222090044.hdf',\n",
       " 'VegeData_16day\\\\MOD13A2.A2011273.h08v05.006.2015222121655.hdf',\n",
       " 'VegeData_16day\\\\MOD13A2.A2011289.h08v05.006.2015229093929.hdf',\n",
       " 'VegeData_16day\\\\MOD13A2.A2011305.h08v05.006.2015229101716.hdf',\n",
       " 'VegeData_16day\\\\MOD13A2.A2011321.h08v05.006.2015229111138.hdf',\n",
       " 'VegeData_16day\\\\MOD13A2.A2011337.h08v05.006.2015229233944.hdf',\n",
       " 'VegeData_16day\\\\MOD13A2.A2011353.h08v05.006.2018226093229.hdf',\n",
       " 'VegeData_16day\\\\MOD13A2.A2012001.h08v05.006.2015236170528.hdf',\n",
       " 'VegeData_16day\\\\MOD13A2.A2012017.h08v05.006.2015237084307.hdf',\n",
       " 'VegeData_16day\\\\MOD13A2.A2012033.h08v05.006.2015237195045.hdf',\n",
       " 'VegeData_16day\\\\MOD13A2.A2012049.h08v05.006.2015238133941.hdf',\n",
       " 'VegeData_16day\\\\MOD13A2.A2012065.h08v05.006.2015238151849.hdf',\n",
       " 'VegeData_16day\\\\MOD13A2.A2012081.h08v05.006.2015239222256.hdf',\n",
       " 'VegeData_16day\\\\MOD13A2.A2012097.h08v05.006.2015240113647.hdf',\n",
       " 'VegeData_16day\\\\MOD13A2.A2012113.h08v05.006.2015240193158.hdf',\n",
       " 'VegeData_16day\\\\MOD13A2.A2012129.h08v05.006.2015246095314.hdf',\n",
       " 'VegeData_16day\\\\MOD13A2.A2012145.h08v05.006.2015246095820.hdf',\n",
       " 'VegeData_16day\\\\MOD13A2.A2012161.h08v05.006.2015247052200.hdf',\n",
       " 'VegeData_16day\\\\MOD13A2.A2012177.h08v05.006.2015247082151.hdf',\n",
       " 'VegeData_16day\\\\MOD13A2.A2012193.h08v05.006.2015247171007.hdf',\n",
       " 'VegeData_16day\\\\MOD13A2.A2012209.h08v05.006.2015248101603.hdf',\n",
       " 'VegeData_16day\\\\MOD13A2.A2012225.h08v05.006.2015248124228.hdf',\n",
       " 'VegeData_16day\\\\MOD13A2.A2012241.h08v05.006.2015249114325.hdf',\n",
       " 'VegeData_16day\\\\MOD13A2.A2012257.h08v05.006.2015249144450.hdf',\n",
       " 'VegeData_16day\\\\MOD13A2.A2012273.h08v05.006.2015249214723.hdf',\n",
       " 'VegeData_16day\\\\MOD13A2.A2012289.h08v05.006.2015251135033.hdf',\n",
       " 'VegeData_16day\\\\MOD13A2.A2012305.h08v05.006.2015251161459.hdf',\n",
       " 'VegeData_16day\\\\MOD13A2.A2012321.h08v05.006.2015252195605.hdf',\n",
       " 'VegeData_16day\\\\MOD13A2.A2012337.h08v05.006.2015252232617.hdf',\n",
       " 'VegeData_16day\\\\MOD13A2.A2012353.h08v05.006.2018226105647.hdf',\n",
       " 'VegeData_16day\\\\MOD13A2.A2013001.h08v05.006.2015254153511.hdf',\n",
       " 'VegeData_16day\\\\MOD13A2.A2013017.h08v05.006.2015254145414.hdf',\n",
       " 'VegeData_16day\\\\MOD13A2.A2013033.h08v05.006.2015256072036.hdf',\n",
       " 'VegeData_16day\\\\MOD13A2.A2013049.h08v05.006.2015256170805.hdf',\n",
       " 'VegeData_16day\\\\MOD13A2.A2013065.h08v05.006.2015256175114.hdf',\n",
       " 'VegeData_16day\\\\MOD13A2.A2013081.h08v05.006.2015257072936.hdf',\n",
       " 'VegeData_16day\\\\MOD13A2.A2013097.h08v05.006.2015257101741.hdf',\n",
       " 'VegeData_16day\\\\MOD13A2.A2013113.h08v05.006.2015260122819.hdf',\n",
       " 'VegeData_16day\\\\MOD13A2.A2013129.h08v05.006.2015260161824.hdf',\n",
       " 'VegeData_16day\\\\MOD13A2.A2013145.h08v05.006.2015261183417.hdf',\n",
       " 'VegeData_16day\\\\MOD13A2.A2013161.h08v05.006.2015262161515.hdf',\n",
       " 'VegeData_16day\\\\MOD13A2.A2013177.h08v05.006.2015262165502.hdf',\n",
       " 'VegeData_16day\\\\MOD13A2.A2013193.h08v05.006.2015264062819.hdf',\n",
       " 'VegeData_16day\\\\MOD13A2.A2013209.h08v05.006.2015267154637.hdf',\n",
       " 'VegeData_16day\\\\MOD13A2.A2013225.h08v05.006.2015267215556.hdf',\n",
       " 'VegeData_16day\\\\MOD13A2.A2013241.h08v05.006.2015268073634.hdf',\n",
       " 'VegeData_16day\\\\MOD13A2.A2013257.h08v05.006.2015268075748.hdf',\n",
       " 'VegeData_16day\\\\MOD13A2.A2013273.h08v05.006.2015269191036.hdf',\n",
       " 'VegeData_16day\\\\MOD13A2.A2013289.h08v05.006.2015269222518.hdf',\n",
       " 'VegeData_16day\\\\MOD13A2.A2013305.h08v05.006.2015270183615.hdf',\n",
       " 'VegeData_16day\\\\MOD13A2.A2013321.h08v05.006.2015271102935.hdf',\n",
       " 'VegeData_16day\\\\MOD13A2.A2013337.h08v05.006.2015271130136.hdf',\n",
       " 'VegeData_16day\\\\MOD13A2.A2013353.h08v05.006.2018226105821.hdf',\n",
       " 'VegeData_16day\\\\MOD13A2.A2014001.h08v05.006.2015272061150.hdf',\n",
       " 'VegeData_16day\\\\MOD13A2.A2014017.h08v05.006.2015273232455.hdf',\n",
       " 'VegeData_16day\\\\MOD13A2.A2014033.h08v05.006.2015274231835.hdf',\n",
       " 'VegeData_16day\\\\MOD13A2.A2014049.h08v05.006.2015274230237.hdf',\n",
       " 'VegeData_16day\\\\MOD13A2.A2014065.h08v05.006.2015276180237.hdf',\n",
       " 'VegeData_16day\\\\MOD13A2.A2014081.h08v05.006.2015276220000.hdf',\n",
       " 'VegeData_16day\\\\MOD13A2.A2014097.h08v05.006.2015278233201.hdf',\n",
       " 'VegeData_16day\\\\MOD13A2.A2014113.h08v05.006.2015281100642.hdf',\n",
       " 'VegeData_16day\\\\MOD13A2.A2014129.h08v05.006.2015281105129.hdf',\n",
       " 'VegeData_16day\\\\MOD13A2.A2014145.h08v05.006.2015287235413.hdf',\n",
       " 'VegeData_16day\\\\MOD13A2.A2014161.h08v05.006.2015288071128.hdf',\n",
       " 'VegeData_16day\\\\MOD13A2.A2014177.h08v05.006.2015288071149.hdf',\n",
       " 'VegeData_16day\\\\MOD13A2.A2014193.h08v05.006.2015289002059.hdf',\n",
       " 'VegeData_16day\\\\MOD13A2.A2014209.h08v05.006.2015289031615.hdf',\n",
       " 'VegeData_16day\\\\MOD13A2.A2014225.h08v05.006.2015289161936.hdf',\n",
       " 'VegeData_16day\\\\MOD13A2.A2014241.h08v05.006.2015289183835.hdf',\n",
       " 'VegeData_16day\\\\MOD13A2.A2014257.h08v05.006.2015291062603.hdf',\n",
       " 'VegeData_16day\\\\MOD13A2.A2014273.h08v05.006.2015291111047.hdf',\n",
       " 'VegeData_16day\\\\MOD13A2.A2014289.h08v05.006.2015291191149.hdf',\n",
       " 'VegeData_16day\\\\MOD13A2.A2014305.h08v05.006.2015292062115.hdf',\n",
       " 'VegeData_16day\\\\MOD13A2.A2014321.h08v05.006.2015292070946.hdf',\n",
       " 'VegeData_16day\\\\MOD13A2.A2014337.h08v05.006.2015294144100.hdf',\n",
       " 'VegeData_16day\\\\MOD13A2.A2014353.h08v05.006.2018226110048.hdf',\n",
       " 'VegeData_16day\\\\MOD13A2.A2015001.h08v05.006.2015295101251.hdf',\n",
       " 'VegeData_16day\\\\MOD13A2.A2015017.h08v05.006.2015295120224.hdf',\n",
       " 'VegeData_16day\\\\MOD13A2.A2015033.h08v05.006.2015296122647.hdf',\n",
       " 'VegeData_16day\\\\MOD13A2.A2015049.h08v05.006.2015296152750.hdf',\n",
       " 'VegeData_16day\\\\MOD13A2.A2015065.h08v05.006.2015298000805.hdf',\n",
       " 'VegeData_16day\\\\MOD13A2.A2015081.h08v05.006.2015298184859.hdf',\n",
       " 'VegeData_16day\\\\MOD13A2.A2015097.h08v05.006.2015299002002.hdf',\n",
       " 'VegeData_16day\\\\MOD13A2.A2015113.h08v05.006.2015299023025.hdf',\n",
       " 'VegeData_16day\\\\MOD13A2.A2015129.h08v05.006.2015299150026.hdf',\n",
       " 'VegeData_16day\\\\MOD13A2.A2015145.h08v05.006.2015300234113.hdf',\n",
       " 'VegeData_16day\\\\MOD13A2.A2015161.h08v05.006.2015301071821.hdf',\n",
       " 'VegeData_16day\\\\MOD13A2.A2015177.h08v05.006.2015301215209.hdf',\n",
       " 'VegeData_16day\\\\MOD13A2.A2015193.h08v05.006.2015304004852.hdf',\n",
       " 'VegeData_16day\\\\MOD13A2.A2015209.h08v05.006.2015304024639.hdf',\n",
       " 'VegeData_16day\\\\MOD13A2.A2015225.h08v05.006.2015305195003.hdf',\n",
       " 'VegeData_16day\\\\MOD13A2.A2015241.h08v05.006.2015305205023.hdf',\n",
       " 'VegeData_16day\\\\MOD13A2.A2015257.h08v05.006.2015306145128.hdf',\n",
       " 'VegeData_16day\\\\MOD13A2.A2015273.h08v05.006.2015307053753.hdf',\n",
       " 'VegeData_16day\\\\MOD13A2.A2015289.h08v05.006.2015317210615.hdf',\n",
       " 'VegeData_16day\\\\MOD13A2.A2015305.h08v05.006.2015335131524.hdf',\n",
       " 'VegeData_16day\\\\MOD13A2.A2015321.h08v05.006.2015343140115.hdf',\n",
       " 'VegeData_16day\\\\MOD13A2.A2015337.h08v05.006.2016004171318.hdf',\n",
       " 'VegeData_16day\\\\MOD13A2.A2015353.h08v05.006.2018222150312.hdf',\n",
       " 'VegeData_16day\\\\MOD13A2.A2016001.h08v05.006.2016029064124.hdf',\n",
       " 'VegeData_16day\\\\MOD13A2.A2016017.h08v05.006.2016035114503.hdf',\n",
       " 'VegeData_16day\\\\MOD13A2.A2016033.h08v05.006.2016050022347.hdf',\n",
       " 'VegeData_16day\\\\MOD13A2.A2016049.h08v05.006.2016109133414.hdf',\n",
       " 'VegeData_16day\\\\MOD13A2.A2016065.h08v05.006.2016111112209.hdf',\n",
       " 'VegeData_16day\\\\MOD13A2.A2016081.h08v05.006.2016111112651.hdf',\n",
       " 'VegeData_16day\\\\MOD13A2.A2016097.h08v05.006.2016114041305.hdf',\n",
       " 'VegeData_16day\\\\MOD13A2.A2016113.h08v05.006.2016130115558.hdf',\n",
       " 'VegeData_16day\\\\MOD13A2.A2016129.h08v05.006.2016147112933.hdf',\n",
       " 'VegeData_16day\\\\MOD13A2.A2016145.h08v05.006.2016166143734.hdf',\n",
       " 'VegeData_16day\\\\MOD13A2.A2016161.h08v05.006.2016184011302.hdf',\n",
       " 'VegeData_16day\\\\MOD13A2.A2016177.h08v05.006.2016200095441.hdf',\n",
       " 'VegeData_16day\\\\MOD13A2.A2016193.h08v05.006.2016215085030.hdf',\n",
       " 'VegeData_16day\\\\MOD13A2.A2016209.h08v05.006.2016229082917.hdf',\n",
       " 'VegeData_16day\\\\MOD13A2.A2016225.h08v05.006.2016243085255.hdf',\n",
       " 'VegeData_16day\\\\MOD13A2.A2016241.h08v05.006.2016263150205.hdf',\n",
       " 'VegeData_16day\\\\MOD13A2.A2016257.h08v05.006.2016274143719.hdf',\n",
       " 'VegeData_16day\\\\MOD13A2.A2016273.h08v05.006.2016292070130.hdf',\n",
       " 'VegeData_16day\\\\MOD13A2.A2016289.h08v05.006.2016306035014.hdf',\n",
       " 'VegeData_16day\\\\MOD13A2.A2016305.h08v05.006.2016322044733.hdf',\n",
       " 'VegeData_16day\\\\MOD13A2.A2016321.h08v05.006.2016340092906.hdf',\n",
       " 'VegeData_16day\\\\MOD13A2.A2016337.h08v05.006.2016357042956.hdf',\n",
       " 'VegeData_16day\\\\MOD13A2.A2016353.h08v05.006.2017010085811.hdf',\n",
       " 'VegeData_16day\\\\MOD13A2.A2017001.h08v05.006.2017020215925.hdf',\n",
       " 'VegeData_16day\\\\MOD13A2.A2017017.h08v05.006.2017034073613.hdf',\n",
       " 'VegeData_16day\\\\MOD13A2.A2017033.h08v05.006.2017053061359.hdf',\n",
       " 'VegeData_16day\\\\MOD13A2.A2017049.h08v05.006.2017066031531.hdf',\n",
       " 'VegeData_16day\\\\MOD13A2.A2017065.h08v05.006.2017082121803.hdf',\n",
       " 'VegeData_16day\\\\MOD13A2.A2017081.h08v05.006.2017097232806.hdf',\n",
       " 'VegeData_16day\\\\MOD13A2.A2017097.h08v05.006.2017116141602.hdf',\n",
       " 'VegeData_16day\\\\MOD13A2.A2017113.h08v05.006.2017131092508.hdf',\n",
       " 'VegeData_16day\\\\MOD13A2.A2017129.h08v05.006.2017145231123.hdf',\n",
       " 'VegeData_16day\\\\MOD13A2.A2017145.h08v05.006.2017164072104.hdf',\n",
       " 'VegeData_16day\\\\MOD13A2.A2017161.h08v05.006.2017178082216.hdf',\n",
       " 'VegeData_16day\\\\MOD13A2.A2017177.h08v05.006.2017194070146.hdf',\n",
       " 'VegeData_16day\\\\MOD13A2.A2017193.h08v05.006.2017209233459.hdf',\n",
       " 'VegeData_16day\\\\MOD13A2.A2017209.h08v05.006.2017234111658.hdf',\n",
       " 'VegeData_16day\\\\MOD13A2.A2017225.h08v05.006.2017250141734.hdf',\n",
       " 'VegeData_16day\\\\MOD13A2.A2017241.h08v05.006.2017262085525.hdf',\n",
       " 'VegeData_16day\\\\MOD13A2.A2017257.h08v05.006.2017276132709.hdf',\n",
       " 'VegeData_16day\\\\MOD13A2.A2017273.h08v05.006.2017290090447.hdf',\n",
       " 'VegeData_16day\\\\MOD13A2.A2017289.h08v05.006.2017310142352.hdf',\n",
       " 'VegeData_16day\\\\MOD13A2.A2017305.h08v05.006.2017325113455.hdf',\n",
       " 'VegeData_16day\\\\MOD13A2.A2017321.h08v05.006.2017337222102.hdf',\n",
       " 'VegeData_16day\\\\MOD13A2.A2017337.h08v05.006.2017353223146.hdf',\n",
       " 'VegeData_16day\\\\MOD13A2.A2017353.h08v05.006.2018004224409.hdf',\n",
       " 'VegeData_16day\\\\MOD13A2.A2018001.h08v05.006.2018017224830.hdf',\n",
       " 'VegeData_16day\\\\MOD13A2.A2018017.h08v05.006.2018033223923.hdf',\n",
       " 'VegeData_16day\\\\MOD13A2.A2018033.h08v05.006.2018049222839.hdf',\n",
       " 'VegeData_16day\\\\MOD13A2.A2018049.h08v05.006.2018066165110.hdf',\n",
       " 'VegeData_16day\\\\MOD13A2.A2018065.h08v05.006.2018082151559.hdf',\n",
       " 'VegeData_16day\\\\MOD13A2.A2018081.h08v05.006.2018097233835.hdf',\n",
       " 'VegeData_16day\\\\MOD13A2.A2018097.h08v05.006.2018113233919.hdf',\n",
       " 'VegeData_16day\\\\MOD13A2.A2018113.h08v05.006.2018129235028.hdf',\n",
       " 'VegeData_16day\\\\MOD13A2.A2018129.h08v05.006.2018151110036.hdf',\n",
       " 'VegeData_16day\\\\MOD13A2.A2018145.h08v05.006.2018162000408.hdf',\n",
       " 'VegeData_16day\\\\MOD13A2.A2018161.h08v05.006.2018177235851.hdf',\n",
       " 'VegeData_16day\\\\MOD13A2.A2018177.h08v05.006.2018197102726.hdf',\n",
       " 'VegeData_16day\\\\MOD13A2.A2018193.h08v05.006.2018210001515.hdf',\n",
       " 'VegeData_16day\\\\MOD13A2.A2018209.h08v05.006.2018227125536.hdf',\n",
       " 'VegeData_16day\\\\MOD13A2.A2018225.h08v05.006.2018241235922.hdf',\n",
       " 'VegeData_16day\\\\MOD13A2.A2018241.h08v05.006.2018258000353.hdf',\n",
       " 'VegeData_16day\\\\MOD13A2.A2018257.h08v05.006.2018282125509.hdf',\n",
       " 'VegeData_16day\\\\MOD13A2.A2018273.h08v05.006.2018295105528.hdf',\n",
       " 'VegeData_16day\\\\MOD13A2.A2018289.h08v05.006.2018313115805.hdf',\n",
       " 'VegeData_16day\\\\MOD13A2.A2018305.h08v05.006.2018321225811.hdf',\n",
       " 'VegeData_16day\\\\MOD13A2.A2018321.h08v05.006.2018338084312.hdf',\n",
       " 'VegeData_16day\\\\MOD13A2.A2018337.h08v05.006.2018365153557.hdf',\n",
       " 'VegeData_16day\\\\MOD13A2.A2018353.h08v05.006.2019032133501.hdf',\n",
       " 'VegeData_16day\\\\MOD13A2.A2019001.h08v05.006.2019024152509.hdf',\n",
       " 'VegeData_16day\\\\MOD13A2.A2019017.h08v05.006.2019037160554.hdf',\n",
       " 'VegeData_16day\\\\MOD13A2.A2019033.h08v05.006.2019050211511.hdf',\n",
       " 'VegeData_16day\\\\MOD13A2.A2019049.h08v05.006.2019073153003.hdf',\n",
       " 'VegeData_16day\\\\MOD13A2.A2019065.h08v05.006.2019083223028.hdf',\n",
       " 'VegeData_16day\\\\MOD13A2.A2019081.h08v05.006.2019098105645.hdf',\n",
       " 'VegeData_16day\\\\MOD13A2.A2019097.h08v05.006.2019113235114.hdf',\n",
       " 'VegeData_16day\\\\MOD13A2.A2019113.h08v05.006.2019129235845.hdf',\n",
       " 'VegeData_16day\\\\MOD13A2.A2019129.h08v05.006.2019150090321.hdf',\n",
       " 'VegeData_16day\\\\MOD13A2.A2019145.h08v05.006.2019162004049.hdf',\n",
       " 'VegeData_16day\\\\MOD13A2.A2019161.h08v05.006.2019221150432.hdf',\n",
       " 'VegeData_16day\\\\MOD13A2.A2019177.h08v05.006.2019194000435.hdf',\n",
       " 'VegeData_16day\\\\MOD13A2.A2019193.h08v05.006.2019210001216.hdf',\n",
       " 'VegeData_16day\\\\MOD13A2.A2019209.h08v05.006.2019226014935.hdf',\n",
       " 'VegeData_16day\\\\MOD13A2.A2019225.h08v05.006.2019248132106.hdf',\n",
       " 'VegeData_16day\\\\MOD13A2.A2019241.h08v05.006.2019262170121.hdf',\n",
       " 'VegeData_16day\\\\MOD13A2.A2019257.h08v05.006.2019275174644.hdf',\n",
       " 'VegeData_16day\\\\MOD13A2.A2019273.h08v05.006.2019290002726.hdf',\n",
       " 'VegeData_16day\\\\MOD13A2.A2019289.h08v05.006.2019306011158.hdf',\n",
       " 'VegeData_16day\\\\MOD13A2.A2019305.h08v05.006.2019323201932.hdf',\n",
       " 'VegeData_16day\\\\MOD13A2.A2019321.h08v05.006.2019337233541.hdf',\n",
       " 'VegeData_16day\\\\MOD13A2.A2019337.h08v05.006.2019354133849.hdf',\n",
       " 'VegeData_16day\\\\MOD13A2.A2019353.h08v05.006.2020004221625.hdf',\n",
       " 'VegeData_16day\\\\MOD13A2.A2020001.h08v05.006.2020018000828.hdf',\n",
       " 'VegeData_16day\\\\MOD13A2.A2020017.h08v05.006.2020034143840.hdf',\n",
       " 'VegeData_16day\\\\MOD13A2.A2020033.h08v05.006.2020050021506.hdf',\n",
       " 'VegeData_16day\\\\MOD13A2.A2020049.h08v05.006.2020066001948.hdf',\n",
       " 'VegeData_16day\\\\MOD13A2.A2020065.h08v05.006.2020082012602.hdf',\n",
       " 'VegeData_16day\\\\MOD13A2.A2020081.h08v05.006.2020100213611.hdf',\n",
       " 'VegeData_16day\\\\MOD13A2.A2020097.h08v05.006.2020114011327.hdf',\n",
       " 'VegeData_16day\\\\MOD13A2.A2020113.h08v05.006.2020130014139.hdf',\n",
       " 'VegeData_16day\\\\MOD13A2.A2020129.h08v05.006.2020145233839.hdf',\n",
       " 'VegeData_16day\\\\MOD13A2.A2020145.h08v05.006.2020162014320.hdf',\n",
       " 'VegeData_16day\\\\MOD13A2.A2020161.h08v05.006.2020178012535.hdf',\n",
       " 'VegeData_16day\\\\MOD13A2.A2020177.h08v05.006.2020196232057.hdf',\n",
       " 'VegeData_16day\\\\MOD13A2.A2020193.h08v05.006.2020210005532.hdf',\n",
       " 'VegeData_16day\\\\MOD13A2.A2020209.h08v05.006.2020226002525.hdf',\n",
       " 'VegeData_16day\\\\MOD13A2.A2020225.h08v05.006.2020241233017.hdf',\n",
       " 'VegeData_16day\\\\MOD13A2.A2020241.h08v05.006.2020261220436.hdf',\n",
       " 'VegeData_16day\\\\MOD13A2.A2020257.h08v05.006.2020280043627.hdf',\n",
       " 'VegeData_16day\\\\MOD13A2.A2020273.h08v05.006.2020291073906.hdf',\n",
       " 'VegeData_16day\\\\MOD13A2.A2020289.h08v05.006.2020306004112.hdf',\n",
       " 'VegeData_16day\\\\MOD13A2.A2020305.h08v05.006.2020321231708.hdf']"
      ]
     },
     "execution_count": 37,
     "metadata": {},
     "output_type": "execute_result"
    }
   ],
   "source": [
    "vege_fs85"
   ]
  },
  {
   "cell_type": "code",
   "execution_count": 2,
   "metadata": {},
   "outputs": [],
   "source": [
    "vege_path = os.path.join(\"VegeData_16day\", \"MOD13A2.A2000049.h08v05.006.2015136104428.hdf\")"
   ]
  },
  {
   "cell_type": "code",
   "execution_count": 3,
   "metadata": {},
   "outputs": [],
   "source": [
    "tem_path = os.path.join(\"TemData\", \"MOD11A2.A2000049.h08v05.006.2015058135046.hdf\")"
   ]
  },
  {
   "cell_type": "code",
   "execution_count": 4,
   "metadata": {},
   "outputs": [
    {
     "name": "stdout",
     "output_type": "stream",
     "text": [
      "<open DatasetReader name='VegeData_16day\\MOD13A2.A2000049.h08v05.006.2015136104428.hdf' mode='r'>\n"
     ]
    },
    {
     "data": {
      "text/plain": [
       "{'driver': 'HDF4',\n",
       " 'dtype': 'float_',\n",
       " 'nodata': None,\n",
       " 'width': 512,\n",
       " 'height': 512,\n",
       " 'count': 0,\n",
       " 'crs': None,\n",
       " 'transform': Affine(1.0, 0.0, 0.0,\n",
       "        0.0, 1.0, 0.0)}"
      ]
     },
     "execution_count": 4,
     "metadata": {},
     "output_type": "execute_result"
    }
   ],
   "source": [
    "with rio.open(vege_path) as dataset:\n",
    "    print(dataset)\n",
    "    hdf4_meta = dataset.meta\n",
    "\n",
    "# Notice that there are metadata at the highest level of the file\n",
    "hdf4_meta"
   ]
  },
  {
   "cell_type": "code",
   "execution_count": 5,
   "metadata": {},
   "outputs": [
    {
     "name": "stdout",
     "output_type": "stream",
     "text": [
      "HDF4_EOS:EOS_GRID:VegeData_16day\\MOD13A2.A2000049.h08v05.006.2015136104428.hdf:MODIS_Grid_16DAY_1km_VI:1 km 16 days NDVI\n",
      "HDF4_EOS:EOS_GRID:VegeData_16day\\MOD13A2.A2000049.h08v05.006.2015136104428.hdf:MODIS_Grid_16DAY_1km_VI:1 km 16 days relative azimuth angle\n",
      "HDF4_EOS:EOS_GRID:VegeData_16day\\MOD13A2.A2000049.h08v05.006.2015136104428.hdf:MODIS_Grid_16DAY_1km_VI:1 km 16 days composite day of the year\n",
      "HDF4_EOS:EOS_GRID:VegeData_16day\\MOD13A2.A2000049.h08v05.006.2015136104428.hdf:MODIS_Grid_16DAY_1km_VI:1 km 16 days pixel reliability\n",
      "HDF4_EOS:EOS_GRID:VegeData_16day\\MOD13A2.A2000049.h08v05.006.2015136104428.hdf:MODIS_Grid_16DAY_1km_VI:1 km 16 days EVI\n",
      "HDF4_EOS:EOS_GRID:VegeData_16day\\MOD13A2.A2000049.h08v05.006.2015136104428.hdf:MODIS_Grid_16DAY_1km_VI:1 km 16 days VI Quality\n",
      "HDF4_EOS:EOS_GRID:VegeData_16day\\MOD13A2.A2000049.h08v05.006.2015136104428.hdf:MODIS_Grid_16DAY_1km_VI:1 km 16 days red reflectance\n",
      "HDF4_EOS:EOS_GRID:VegeData_16day\\MOD13A2.A2000049.h08v05.006.2015136104428.hdf:MODIS_Grid_16DAY_1km_VI:1 km 16 days NIR reflectance\n",
      "HDF4_EOS:EOS_GRID:VegeData_16day\\MOD13A2.A2000049.h08v05.006.2015136104428.hdf:MODIS_Grid_16DAY_1km_VI:1 km 16 days blue reflectance\n",
      "HDF4_EOS:EOS_GRID:VegeData_16day\\MOD13A2.A2000049.h08v05.006.2015136104428.hdf:MODIS_Grid_16DAY_1km_VI:1 km 16 days MIR reflectance\n",
      "HDF4_EOS:EOS_GRID:VegeData_16day\\MOD13A2.A2000049.h08v05.006.2015136104428.hdf:MODIS_Grid_16DAY_1km_VI:1 km 16 days view zenith angle\n",
      "HDF4_EOS:EOS_GRID:VegeData_16day\\MOD13A2.A2000049.h08v05.006.2015136104428.hdf:MODIS_Grid_16DAY_1km_VI:1 km 16 days sun zenith angle\n"
     ]
    }
   ],
   "source": [
    "# Print all of the subdatasets in the data\n",
    "with rio.open(vege_path) as dataset:\n",
    "    crs = dataset.read_crs()\n",
    "    for name in dataset.subdatasets:\n",
    "        print(name)"
   ]
  },
  {
   "cell_type": "code",
   "execution_count": 6,
   "metadata": {},
   "outputs": [
    {
     "data": {
      "text/plain": [
       "(1, 1200, 1200)"
      ]
     },
     "execution_count": 6,
     "metadata": {},
     "output_type": "execute_result"
    }
   ],
   "source": [
    "# Create empty list to append arrays (of band data)\n",
    "all_bands = []\n",
    "\n",
    "# Open the pre-fire HDF4 file\n",
    "with rio.open(vege_path) as dataset:\n",
    "    \n",
    "    # Loop through each subdataset in HDF4 file\n",
    "    for name in dataset.subdatasets:\n",
    "        \n",
    "        # Use regular expression to identify if subdataset has b0 in the name (the bands)\n",
    "        if re.search(\"NDVI\", name):\n",
    "            \n",
    "            # Open the band subdataset\n",
    "            with rio.open(name) as subdataset:\n",
    "                modis_meta = subdataset.profile\n",
    "                \n",
    "                # Read band data as a 2 dim arr and append to list\n",
    "                all_bands.append(subdataset.read(1))\n",
    "\n",
    "# Stack pre-fire reflectance bands\n",
    "vege_modis = np.stack(all_bands)\n",
    "vege_modis.shape"
   ]
  },
  {
   "cell_type": "code",
   "execution_count": 7,
   "metadata": {},
   "outputs": [
    {
     "name": "stdout",
     "output_type": "stream",
     "text": [
      "<open DatasetReader name='TemData\\MOD11A2.A2000049.h08v05.006.2015058135046.hdf' mode='r'>\n"
     ]
    },
    {
     "data": {
      "text/plain": [
       "{'driver': 'HDF4',\n",
       " 'dtype': 'float_',\n",
       " 'nodata': None,\n",
       " 'width': 512,\n",
       " 'height': 512,\n",
       " 'count': 0,\n",
       " 'crs': None,\n",
       " 'transform': Affine(1.0, 0.0, 0.0,\n",
       "        0.0, 1.0, 0.0)}"
      ]
     },
     "execution_count": 7,
     "metadata": {},
     "output_type": "execute_result"
    }
   ],
   "source": [
    "with rio.open(tem_path) as dataset:\n",
    "    print(dataset)\n",
    "    hdf4_meta = dataset.meta\n",
    "\n",
    "# Notice that there are metadata at the highest level of the file\n",
    "hdf4_meta"
   ]
  },
  {
   "cell_type": "code",
   "execution_count": 8,
   "metadata": {},
   "outputs": [
    {
     "name": "stdout",
     "output_type": "stream",
     "text": [
      "HDF4_EOS:EOS_GRID:TemData\\MOD11A2.A2000049.h08v05.006.2015058135046.hdf:MODIS_Grid_8Day_1km_LST:LST_Day_1km\n",
      "HDF4_EOS:EOS_GRID:TemData\\MOD11A2.A2000049.h08v05.006.2015058135046.hdf:MODIS_Grid_8Day_1km_LST:Emis_32\n",
      "HDF4_EOS:EOS_GRID:TemData\\MOD11A2.A2000049.h08v05.006.2015058135046.hdf:MODIS_Grid_8Day_1km_LST:Clear_sky_days\n",
      "HDF4_EOS:EOS_GRID:TemData\\MOD11A2.A2000049.h08v05.006.2015058135046.hdf:MODIS_Grid_8Day_1km_LST:Clear_sky_nights\n",
      "HDF4_EOS:EOS_GRID:TemData\\MOD11A2.A2000049.h08v05.006.2015058135046.hdf:MODIS_Grid_8Day_1km_LST:QC_Day\n",
      "HDF4_EOS:EOS_GRID:TemData\\MOD11A2.A2000049.h08v05.006.2015058135046.hdf:MODIS_Grid_8Day_1km_LST:Day_view_time\n",
      "HDF4_EOS:EOS_GRID:TemData\\MOD11A2.A2000049.h08v05.006.2015058135046.hdf:MODIS_Grid_8Day_1km_LST:Day_view_angl\n",
      "HDF4_EOS:EOS_GRID:TemData\\MOD11A2.A2000049.h08v05.006.2015058135046.hdf:MODIS_Grid_8Day_1km_LST:LST_Night_1km\n",
      "HDF4_EOS:EOS_GRID:TemData\\MOD11A2.A2000049.h08v05.006.2015058135046.hdf:MODIS_Grid_8Day_1km_LST:QC_Night\n",
      "HDF4_EOS:EOS_GRID:TemData\\MOD11A2.A2000049.h08v05.006.2015058135046.hdf:MODIS_Grid_8Day_1km_LST:Night_view_time\n",
      "HDF4_EOS:EOS_GRID:TemData\\MOD11A2.A2000049.h08v05.006.2015058135046.hdf:MODIS_Grid_8Day_1km_LST:Night_view_angl\n",
      "HDF4_EOS:EOS_GRID:TemData\\MOD11A2.A2000049.h08v05.006.2015058135046.hdf:MODIS_Grid_8Day_1km_LST:Emis_31\n"
     ]
    }
   ],
   "source": [
    "# Print all of the subdatasets in the data\n",
    "with rio.open(tem_path) as dataset:\n",
    "    crs = dataset.read_crs()\n",
    "    for name in dataset.subdatasets:\n",
    "        print(name)"
   ]
  },
  {
   "cell_type": "code",
   "execution_count": 9,
   "metadata": {},
   "outputs": [
    {
     "data": {
      "text/plain": [
       "(1, 1200, 1200)"
      ]
     },
     "execution_count": 9,
     "metadata": {},
     "output_type": "execute_result"
    }
   ],
   "source": [
    "# Create empty list to append arrays (of band data)\n",
    "all_bands = []\n",
    "\n",
    "# Open the pre-fire HDF4 file\n",
    "with rio.open(tem_path) as dataset:\n",
    "    \n",
    "    # Loop through each subdataset in HDF4 file\n",
    "    for name in dataset.subdatasets:\n",
    "        \n",
    "        # Use regular expression to identify if subdataset has b0 in the name (the bands)\n",
    "        if re.search(\"LST_Day\", name):\n",
    "            \n",
    "            # Open the band subdataset\n",
    "            with rio.open(name) as subdataset:\n",
    "                modis_meta = subdataset.profile\n",
    "                \n",
    "                # Read band data as a 2 dim arr and append to list\n",
    "                all_bands.append(subdataset.read(1))\n",
    "\n",
    "# Stack pre-fire reflectance bands\n",
    "tem_modis = np.stack(all_bands)\n",
    "tem_modis.shape"
   ]
  },
  {
   "cell_type": "markdown",
   "metadata": {},
   "source": [
    "### Mask function"
   ]
  },
  {
   "cell_type": "markdown",
   "metadata": {},
   "source": [
    "Pick any location, divide the neighborhood into 10 regions of interest in various directions, each region is within 50 km, 36 degree and 50 km sector as a region. "
   ]
  },
  {
   "cell_type": "code",
   "execution_count": 10,
   "metadata": {},
   "outputs": [],
   "source": [
    "def sector_mask(shape,centre,radius,angle_range):\n",
    "    \"\"\"\n",
    "    Return a boolean mask for a circular sector. The start/stop angles in  \n",
    "    `angle_range` should be given in clockwise order.\n",
    "    \"\"\"\n",
    "\n",
    "    x,y = np.ogrid[:shape[0],:shape[1]]\n",
    "    cx,cy = centre\n",
    "    tmin,tmax = np.deg2rad(angle_range)\n",
    "\n",
    "    # ensure stop angle > start angle\n",
    "    if tmax < tmin:\n",
    "            tmax += 2*np.pi\n",
    "\n",
    "    # convert cartesian --> polar coordinates\n",
    "    r2 = (x-cx)*(x-cx) + (y-cy)*(y-cy)\n",
    "    theta = np.arctan2(x-cx,y-cy) - tmin\n",
    "\n",
    "    # wrap angles between 0 and 2*pi\n",
    "    theta %= (2*np.pi)\n",
    "\n",
    "    # circular mask\n",
    "    circmask = r2 <= radius*radius\n",
    "\n",
    "    # angular mask\n",
    "    anglemask = theta <= (tmax-tmin)\n",
    "\n",
    "    return circmask*anglemask"
   ]
  },
  {
   "cell_type": "code",
   "execution_count": 11,
   "metadata": {},
   "outputs": [
    {
     "data": {
      "text/plain": [
       "array([[-3000, -3000, -3000, ...,  1969,  2178,  1746],\n",
       "       [-3000, -3000, -3000, ...,  1891,  1647,  1484],\n",
       "       [-3000, -3000, -3000, ...,  1609,  1555,  1629],\n",
       "       ...,\n",
       "       [ 1786,  1623,  1794, ...,  1756,  1865,  2002],\n",
       "       [ 1803,  1910,  1885, ...,  1894,  1949,  1936],\n",
       "       [ 1825,  1834,  1812, ...,  1953,  2001,  1964]], dtype=int16)"
      ]
     },
     "execution_count": 11,
     "metadata": {},
     "output_type": "execute_result"
    }
   ],
   "source": [
    "vege_modis[0]"
   ]
  },
  {
   "cell_type": "code",
   "execution_count": 12,
   "metadata": {},
   "outputs": [
    {
     "data": {
      "text/plain": [
       "(1, 1200, 1200)"
      ]
     },
     "execution_count": 12,
     "metadata": {},
     "output_type": "execute_result"
    }
   ],
   "source": [
    "vege_modis.shape"
   ]
  },
  {
   "cell_type": "code",
   "execution_count": 13,
   "metadata": {},
   "outputs": [],
   "source": [
    "vege_matrix = vege_modis.reshape(1200,1200)"
   ]
  },
  {
   "cell_type": "code",
   "execution_count": 14,
   "metadata": {},
   "outputs": [
    {
     "data": {
      "text/plain": [
       "(1200, 1200)"
      ]
     },
     "execution_count": 14,
     "metadata": {},
     "output_type": "execute_result"
    }
   ],
   "source": [
    "vege_matrix.shape"
   ]
  },
  {
   "cell_type": "code",
   "execution_count": 15,
   "metadata": {},
   "outputs": [
    {
     "data": {
      "text/plain": [
       "array([[-3000, -3000, -3000, ...,  1969,  2178,  1746],\n",
       "       [-3000, -3000, -3000, ...,  1891,  1647,  1484],\n",
       "       [-3000, -3000, -3000, ...,  1609,  1555,  1629],\n",
       "       ...,\n",
       "       [ 1786,  1623,  1794, ...,  1756,  1865,  2002],\n",
       "       [ 1803,  1910,  1885, ...,  1894,  1949,  1936],\n",
       "       [ 1825,  1834,  1812, ...,  1953,  2001,  1964]], dtype=int16)"
      ]
     },
     "execution_count": 15,
     "metadata": {},
     "output_type": "execute_result"
    }
   ],
   "source": [
    "vege_matrix"
   ]
  },
  {
   "cell_type": "code",
   "execution_count": 77,
   "metadata": {},
   "outputs": [],
   "source": [
    "mask = sector_mask(vege_matrix.shape, (400, 600), 50, (0,36)) # need to consider the boundary cases"
   ]
  },
  {
   "cell_type": "code",
   "execution_count": 78,
   "metadata": {},
   "outputs": [],
   "source": [
    "from matplotlib import pyplot as pp"
   ]
  },
  {
   "cell_type": "code",
   "execution_count": 79,
   "metadata": {},
   "outputs": [
    {
     "data": {
      "image/png": "[encoded data removed]",
      "text/plain": [
       "<Figure size 432x288 with 1 Axes>"
      ]
     },
     "metadata": {
      "needs_background": "light"
     },
     "output_type": "display_data"
    }
   ],
   "source": [
    "pp.imshow(vege_matrix)\n",
    "pp.show()"
   ]
  },
  {
   "cell_type": "code",
   "execution_count": 80,
   "metadata": {},
   "outputs": [
    {
     "data": {
      "image/png": "[encoded data removed]",
      "text/plain": [
       "<Figure size 432x288 with 1 Axes>"
      ]
     },
     "metadata": {
      "needs_background": "light"
     },
     "output_type": "display_data"
    }
   ],
   "source": [
    "test_matrix = vege_matrix.copy()\n",
    "test_matrix[~mask] = -3000\n",
    "pp.imshow(test_matrix)\n",
    "pp.show()"
   ]
  },
  {
   "cell_type": "code",
   "execution_count": 81,
   "metadata": {},
   "outputs": [
    {
     "data": {
      "text/plain": [
       "(1200, 1200)"
      ]
     },
     "execution_count": 81,
     "metadata": {},
     "output_type": "execute_result"
    }
   ],
   "source": [
    "test_matrix.shape"
   ]
  },
  {
   "cell_type": "code",
   "execution_count": 82,
   "metadata": {},
   "outputs": [
    {
     "data": {
      "text/plain": [
       "array([  297,  -376, -3000,  -301,  -258,  -276,  -290,  -269,  -420,\n",
       "        -361,  -460,  -743,  -306,  -321,   340,   300,   554,   965,\n",
       "        1055,  2091,  1226,  1194,  1289,  1240,  1085,   932,   974,\n",
       "        1223,  1258,   925,   828,   813,  1867,  2268,  1209,   818,\n",
       "         741,   707,   742,   754,   851,   883,   757,   854,  1463,\n",
       "         396,   562,   224,  1324,   583,  1679,  -257,  -197,  -296,\n",
       "        -381,  -552,  -502,  -486,  -321,  -321,  -234,  -289,  -192,\n",
       "         340,   260,   554,  1871,  1495,  1201,  1220,  1131,  1130,\n",
       "        1108,  1047,  1622,   920,   960,   852,   871,   829,   917,\n",
       "        1414,   977,   741,   765,   740,   739,   876,   874,   700,\n",
       "         966,   912,  1046,   317,    -7,   365,   813,   611,   184,\n",
       "        -415,  -369,  -302, -3000,  -458,  -348,  -296,   -57,    80,\n",
       "         -94,   231,   719,  1009,  1301,  1639,  1384,  1146,  1098,\n",
       "        1039,   996,  1102,  1072,   998,   956,   923,   829,   769,\n",
       "         743,  1477,   852,   721,   739,   720,   806,   778,   875,\n",
       "         837,   917,   860,   591,     4,    40,    67,   977,   227,\n",
       "         286,   329,  -195,  -370,  -363,  -242,  -320,    56,   241,\n",
       "         228,   507,   750,  3089,  1416,  1275,  1137,  1073,  1009,\n",
       "        1072,  1072,  1070,   939,   940,   914,   813,   809,   771,\n",
       "        1477,   646,   932,   738,   711,   742,   765,   779,   757,\n",
       "         853,   750,   643,   496,   659,   214,   683,   675,  1351,\n",
       "        1174,  1157,  -381,  -401,  -339,  -261,  -239,     8,   379,\n",
       "         883,  3711,  1375,  1233,   992,  1166,  1109,  1086,  1008,\n",
       "        1003,  1012,   991,   932,   976,   761,   785,  1486,  1124,\n",
       "         971,  1094,   750,   731,   721,   727,   746,   806,   720,\n",
       "         285,   453,   611,   288,    18,   227,   579,   625,  1085,\n",
       "        1085,  -345,  -506,  -437,   673,   550,  1060,  1360,  1056,\n",
       "        1577,  1217,  1132,  1112,  1105,  1057,  1047,  1020,  1004,\n",
       "         939,   965,   843,   846,  1571,  1756,   963,  1081,   724,\n",
       "         666,   659,  1030,   873,   864,   764,   649,    93,   516,\n",
       "         583,   379,  1093,   711,   569,  1061,  1271,  1034,   331,\n",
       "         713,   504,   661,  1645,  1313,  1491,  1132,  1134,  1168,\n",
       "        1052,  1091,  1158,  1048,  1031,   841,   847,  1368,  2105,\n",
       "        2059,  1381,  1407,   775,   712,   853,  1198,   921,   817,\n",
       "         691,   158,    11,   236,   389,   783,   897,   706,  1047,\n",
       "         654,   635,   995,   610,   490,   648,   589,  1526,  1313,\n",
       "        1259,  1139,  1133,   997,  1098,  1036,  1149,  1092,  1092,\n",
       "         890,  1195,  2080,  1600,  1414,  1261,   737,   749,   829,\n",
       "        1224,  1120,   759,   705,  1016,   402,   181,   217,   355,\n",
       "         574,   712,   591,  1320,   879,   477,  1056,  1043,  2058,\n",
       "        1186,  1101,  1044,  1036,  1208,  1149,  1169,  1178,  1090,\n",
       "        1103,   884,  2075,  2043,  2037,  1186,  1217,   826,   742,\n",
       "         730,   839,   802,   627,   653,   808,   660,   608,   136,\n",
       "         159,   101,   159,  1095,   730,   985,    48,  -217,  -108,\n",
       "         979,  1089,  1067,   965,   955,  1043,  1163,  1049,  1011,\n",
       "        1164,  1092,  2117,  2551,  1765,  1288,  1221,  1039,   726,\n",
       "         745,   741,   758,   931,   738,  1058,   732,   754,   797,\n",
       "         408,   178,   -73,    20,   555,   744,   637,    48,  -153,\n",
       "        1314,  1421,  1028,   967,   886,  1150,  1166,  1011,  1017,\n",
       "        1038,  2166,  2085,  1677,  1379,  1306,  1118,   792,   785,\n",
       "         750,   753,   831,   806,   924,  1018,   767,  1242,   819,\n",
       "        1113,  1113,   521,   178,   535,   791,   555,   822,   961,\n",
       "        1058,   930,  1269,  1938,  1550,  1157,  1784,  1798,  2085,\n",
       "        1076,   842,   903,   714,   865,   764,   741,   780,   772,\n",
       "         809,   824,   617,   728,  1122,  1050,  1032,  1220,  1066,\n",
       "        1196,   240,   243,   198,   514,  1315,  1698,  1800,  1754,\n",
       "        1365,  1163,  1061,   862,   867,   818,   709,   878,   871,\n",
       "         734,   690,   664,   661,   831,   870,   484,   715,  1002,\n",
       "         974,  1022,  1094,   975,   502,  1013,   618,   281,   599,\n",
       "        1120,  1267,  1812,  1205,   983,  1144,   869,   831,   805,\n",
       "         882,   857,  1070,   713,   722,   728,   616,   587,   630,\n",
       "         809,   775,   859,   988,   861,  1111,   744,   748,   369,\n",
       "         255,    91,   644,  1060,  1484,  1807,  1604,   915,   932,\n",
       "         884,   812,   795,  1013,  1321,   697,   709,   739,   769,\n",
       "         991,   792,   841,   876,   798,   843,   925,   971,   802,\n",
       "         976,  1011,   107,   425,   744,   831,   998,  1028,  1356,\n",
       "         886,   670,   761,  1087,  1382,  1556,   653,   315,   925,\n",
       "         938,   931,   805,   937,   824,   738,   818,   929,   888,\n",
       "         838,   988,  1056,  1200,   221,   404,   921,   568,   474,\n",
       "        1083,  1375,  1606,   688,   686,   872,   958,   966,   736,\n",
       "         924,   915,   775,   657,   798,   774,   767,   768,  1064,\n",
       "         995,   282,   422,   562,   836,   452,   586,  2198,   648,\n",
       "         733,   722,   712,   651,  1095,  1135,   912,   849,   726,\n",
       "         653,   768,   742,   785,   920,   646,   283,   278,   380,\n",
       "         562,   550,  1678,  1344,   646,   651,   692,   709,   751,\n",
       "         748,   709,   769,   802,   804,   704,   750,   811,   796,\n",
       "         838,  1007,   144,   237,   541,   411,   524,  1348,   863,\n",
       "         624,   659,   747,   741,   768,   813,   670,   686,   817,\n",
       "         708,   572,  1007,  1121,  1181,   151,   181,  1262,  1121,\n",
       "        1045,   776,   729,   679,   715,   737,   618,   667,   706,\n",
       "         738,   731,   988,  1083,  1127,   160,  1071,  1106,  1105,\n",
       "        1089,   671,   666,   633,   627,   680,   714,   795,   833,\n",
       "         648,   999,    27,    94,  1243,  1131,  1149,  1161,  1126,\n",
       "         646,   653,   689,   599,   826,   817,   957,    27,   935,\n",
       "        1020,  1107,  1138,  1149,  1122,   604,   545,   603,   806,\n",
       "         777,   258,    35,  1061,  1199,  1193,  1135,  1049,  1040,\n",
       "         806,   866,   882,   191,  1204,  1195,  1109,  1122,  1051,\n",
       "        1029,    86,    -6,  1189,  1129,  1165,  1071,  1069,  1005,\n",
       "         973,  1132,  1176,  1114,  1125,  1064,  1022,   910,  1092,\n",
       "        1032,   949,   890,   871,   990,   889,   951,   984],\n",
       "      dtype=int16)"
      ]
     },
     "execution_count": 82,
     "metadata": {},
     "output_type": "execute_result"
    }
   ],
   "source": [
    "test_matrix[mask]"
   ]
  },
  {
   "cell_type": "code",
   "execution_count": 83,
   "metadata": {},
   "outputs": [
    {
     "data": {
      "text/plain": [
       "(809,)"
      ]
     },
     "execution_count": 83,
     "metadata": {},
     "output_type": "execute_result"
    }
   ],
   "source": [
    "test_matrix[mask].shape"
   ]
  },
  {
   "cell_type": "code",
   "execution_count": 84,
   "metadata": {},
   "outputs": [],
   "source": [
    "a = test_matrix[mask]"
   ]
  },
  {
   "cell_type": "code",
   "execution_count": 85,
   "metadata": {},
   "outputs": [],
   "source": [
    "a[:][a[:] == -3000] = -2000"
   ]
  },
  {
   "cell_type": "code",
   "execution_count": 87,
   "metadata": {},
   "outputs": [
    {
     "data": {
      "text/plain": [
       "815.5908529048207"
      ]
     },
     "execution_count": 87,
     "metadata": {},
     "output_type": "execute_result"
    }
   ],
   "source": [
    "np.mean(a)"
   ]
  },
  {
   "cell_type": "code",
   "execution_count": 86,
   "metadata": {},
   "outputs": [
    {
     "data": {
      "text/plain": [
       "array([  297,  -376, -2000,  -301,  -258,  -276,  -290,  -269,  -420,\n",
       "        -361,  -460,  -743,  -306,  -321,   340,   300,   554,   965,\n",
       "        1055,  2091,  1226,  1194,  1289,  1240,  1085,   932,   974,\n",
       "        1223,  1258,   925,   828,   813,  1867,  2268,  1209,   818,\n",
       "         741,   707,   742,   754,   851,   883,   757,   854,  1463,\n",
       "         396,   562,   224,  1324,   583,  1679,  -257,  -197,  -296,\n",
       "        -381,  -552,  -502,  -486,  -321,  -321,  -234,  -289,  -192,\n",
       "         340,   260,   554,  1871,  1495,  1201,  1220,  1131,  1130,\n",
       "        1108,  1047,  1622,   920,   960,   852,   871,   829,   917,\n",
       "        1414,   977,   741,   765,   740,   739,   876,   874,   700,\n",
       "         966,   912,  1046,   317,    -7,   365,   813,   611,   184,\n",
       "        -415,  -369,  -302, -2000,  -458,  -348,  -296,   -57,    80,\n",
       "         -94,   231,   719,  1009,  1301,  1639,  1384,  1146,  1098,\n",
       "        1039,   996,  1102,  1072,   998,   956,   923,   829,   769,\n",
       "         743,  1477,   852,   721,   739,   720,   806,   778,   875,\n",
       "         837,   917,   860,   591,     4,    40,    67,   977,   227,\n",
       "         286,   329,  -195,  -370,  -363,  -242,  -320,    56,   241,\n",
       "         228,   507,   750,  3089,  1416,  1275,  1137,  1073,  1009,\n",
       "        1072,  1072,  1070,   939,   940,   914,   813,   809,   771,\n",
       "        1477,   646,   932,   738,   711,   742,   765,   779,   757,\n",
       "         853,   750,   643,   496,   659,   214,   683,   675,  1351,\n",
       "        1174,  1157,  -381,  -401,  -339,  -261,  -239,     8,   379,\n",
       "         883,  3711,  1375,  1233,   992,  1166,  1109,  1086,  1008,\n",
       "        1003,  1012,   991,   932,   976,   761,   785,  1486,  1124,\n",
       "         971,  1094,   750,   731,   721,   727,   746,   806,   720,\n",
       "         285,   453,   611,   288,    18,   227,   579,   625,  1085,\n",
       "        1085,  -345,  -506,  -437,   673,   550,  1060,  1360,  1056,\n",
       "        1577,  1217,  1132,  1112,  1105,  1057,  1047,  1020,  1004,\n",
       "         939,   965,   843,   846,  1571,  1756,   963,  1081,   724,\n",
       "         666,   659,  1030,   873,   864,   764,   649,    93,   516,\n",
       "         583,   379,  1093,   711,   569,  1061,  1271,  1034,   331,\n",
       "         713,   504,   661,  1645,  1313,  1491,  1132,  1134,  1168,\n",
       "        1052,  1091,  1158,  1048,  1031,   841,   847,  1368,  2105,\n",
       "        2059,  1381,  1407,   775,   712,   853,  1198,   921,   817,\n",
       "         691,   158,    11,   236,   389,   783,   897,   706,  1047,\n",
       "         654,   635,   995,   610,   490,   648,   589,  1526,  1313,\n",
       "        1259,  1139,  1133,   997,  1098,  1036,  1149,  1092,  1092,\n",
       "         890,  1195,  2080,  1600,  1414,  1261,   737,   749,   829,\n",
       "        1224,  1120,   759,   705,  1016,   402,   181,   217,   355,\n",
       "         574,   712,   591,  1320,   879,   477,  1056,  1043,  2058,\n",
       "        1186,  1101,  1044,  1036,  1208,  1149,  1169,  1178,  1090,\n",
       "        1103,   884,  2075,  2043,  2037,  1186,  1217,   826,   742,\n",
       "         730,   839,   802,   627,   653,   808,   660,   608,   136,\n",
       "         159,   101,   159,  1095,   730,   985,    48,  -217,  -108,\n",
       "         979,  1089,  1067,   965,   955,  1043,  1163,  1049,  1011,\n",
       "        1164,  1092,  2117,  2551,  1765,  1288,  1221,  1039,   726,\n",
       "         745,   741,   758,   931,   738,  1058,   732,   754,   797,\n",
       "         408,   178,   -73,    20,   555,   744,   637,    48,  -153,\n",
       "        1314,  1421,  1028,   967,   886,  1150,  1166,  1011,  1017,\n",
       "        1038,  2166,  2085,  1677,  1379,  1306,  1118,   792,   785,\n",
       "         750,   753,   831,   806,   924,  1018,   767,  1242,   819,\n",
       "        1113,  1113,   521,   178,   535,   791,   555,   822,   961,\n",
       "        1058,   930,  1269,  1938,  1550,  1157,  1784,  1798,  2085,\n",
       "        1076,   842,   903,   714,   865,   764,   741,   780,   772,\n",
       "         809,   824,   617,   728,  1122,  1050,  1032,  1220,  1066,\n",
       "        1196,   240,   243,   198,   514,  1315,  1698,  1800,  1754,\n",
       "        1365,  1163,  1061,   862,   867,   818,   709,   878,   871,\n",
       "         734,   690,   664,   661,   831,   870,   484,   715,  1002,\n",
       "         974,  1022,  1094,   975,   502,  1013,   618,   281,   599,\n",
       "        1120,  1267,  1812,  1205,   983,  1144,   869,   831,   805,\n",
       "         882,   857,  1070,   713,   722,   728,   616,   587,   630,\n",
       "         809,   775,   859,   988,   861,  1111,   744,   748,   369,\n",
       "         255,    91,   644,  1060,  1484,  1807,  1604,   915,   932,\n",
       "         884,   812,   795,  1013,  1321,   697,   709,   739,   769,\n",
       "         991,   792,   841,   876,   798,   843,   925,   971,   802,\n",
       "         976,  1011,   107,   425,   744,   831,   998,  1028,  1356,\n",
       "         886,   670,   761,  1087,  1382,  1556,   653,   315,   925,\n",
       "         938,   931,   805,   937,   824,   738,   818,   929,   888,\n",
       "         838,   988,  1056,  1200,   221,   404,   921,   568,   474,\n",
       "        1083,  1375,  1606,   688,   686,   872,   958,   966,   736,\n",
       "         924,   915,   775,   657,   798,   774,   767,   768,  1064,\n",
       "         995,   282,   422,   562,   836,   452,   586,  2198,   648,\n",
       "         733,   722,   712,   651,  1095,  1135,   912,   849,   726,\n",
       "         653,   768,   742,   785,   920,   646,   283,   278,   380,\n",
       "         562,   550,  1678,  1344,   646,   651,   692,   709,   751,\n",
       "         748,   709,   769,   802,   804,   704,   750,   811,   796,\n",
       "         838,  1007,   144,   237,   541,   411,   524,  1348,   863,\n",
       "         624,   659,   747,   741,   768,   813,   670,   686,   817,\n",
       "         708,   572,  1007,  1121,  1181,   151,   181,  1262,  1121,\n",
       "        1045,   776,   729,   679,   715,   737,   618,   667,   706,\n",
       "         738,   731,   988,  1083,  1127,   160,  1071,  1106,  1105,\n",
       "        1089,   671,   666,   633,   627,   680,   714,   795,   833,\n",
       "         648,   999,    27,    94,  1243,  1131,  1149,  1161,  1126,\n",
       "         646,   653,   689,   599,   826,   817,   957,    27,   935,\n",
       "        1020,  1107,  1138,  1149,  1122,   604,   545,   603,   806,\n",
       "         777,   258,    35,  1061,  1199,  1193,  1135,  1049,  1040,\n",
       "         806,   866,   882,   191,  1204,  1195,  1109,  1122,  1051,\n",
       "        1029,    86,    -6,  1189,  1129,  1165,  1071,  1069,  1005,\n",
       "         973,  1132,  1176,  1114,  1125,  1064,  1022,   910,  1092,\n",
       "        1032,   949,   890,   871,   990,   889,   951,   984],\n",
       "      dtype=int16)"
      ]
     },
     "execution_count": 86,
     "metadata": {},
     "output_type": "execute_result"
    }
   ],
   "source": [
    "a"
   ]
  },
  {
   "cell_type": "code",
   "execution_count": 45,
   "metadata": {},
   "outputs": [
    {
     "data": {
      "text/plain": [
       "(801,)"
      ]
     },
     "execution_count": 45,
     "metadata": {},
     "output_type": "execute_result"
    }
   ],
   "source": [
    "b.shape"
   ]
  },
  {
   "cell_type": "code",
   "execution_count": 32,
   "metadata": {},
   "outputs": [
    {
     "data": {
      "image/png": "[encoded data removed]",
      "text/plain": [
       "<Figure size 432x288 with 1 Axes>"
      ]
     },
     "metadata": {
      "needs_background": "light"
     },
     "output_type": "display_data"
    }
   ],
   "source": [
    "pp.imshow(vege_matrix)\n",
    "pp.show()"
   ]
  },
  {
   "cell_type": "markdown",
   "metadata": {},
   "source": [
    "### Process each hdf file"
   ]
  },
  {
   "cell_type": "markdown",
   "metadata": {},
   "source": [
    "8-day for thermal_data, tem_data and NE_data\n",
    "\n",
    "16-day for vegetation_data"
   ]
  },
  {
   "cell_type": "code",
   "execution_count": 74,
   "metadata": {},
   "outputs": [],
   "source": [
    "def compute_feature_set(file, sds, fill_value, new_value, row, column, radius):\n",
    "    \"\"\"\n",
    "    Return a feature set of a single pixel with row number r and column number c in the 1200 * 1200 map from FILE.\n",
    "    Feature set is computed based on the average value in 10 regions in one time frame for the feature SDS from FILENAMES.\n",
    "    Fill_value will be replaced by new_value in the feature matrix.\n",
    "    \n",
    "    \"\"\"\n",
    "    all_bands = []\n",
    "    with rio.open(file) as dataset:\n",
    "        for name in dataset.subdatasets:\n",
    "            if re.search(sds, name):\n",
    "                with rio.open(name) as subdataset:\n",
    "                    modis_meta = subdataset.profile\n",
    "                    all_bands.append(subdataset.read(1))\n",
    "    vege_modis = np.stack(all_bands)\n",
    "    vege_matrix = vege_modis[0].reshape(1200,1200)\n",
    "    feature_set = []\n",
    "    for i in range(10):\n",
    "        mask = sector_mask(vege_matrix.shape, (row, column), radius, (i, i + 36))\n",
    "        sector = vege_matrix[mask]\n",
    "        sector[:][sector[:] == fill_value] = new_value\n",
    "        mean_value = np.mean(sector)\n",
    "        feature_set.append(mean_value)\n",
    "    return feature_set"
   ]
  },
  {
   "cell_type": "code",
   "execution_count": 88,
   "metadata": {},
   "outputs": [],
   "source": [
    "aa = compute_feature_set(vege_fs85[0], \"NDVI\", -3000, -2000, 400, 600, 50)"
   ]
  },
  {
   "cell_type": "code",
   "execution_count": 89,
   "metadata": {},
   "outputs": [
    {
     "data": {
      "text/plain": [
       "[815.5908529048207,\n",
       " 828.7701149425287,\n",
       " 832.5051150895141,\n",
       " 833.1696428571429,\n",
       " 833.4770408163265,\n",
       " 836.5420918367347,\n",
       " 844.9021601016518,\n",
       " 846.6989795918367,\n",
       " 847.8191082802548,\n",
       " 842.4495641344956]"
      ]
     },
     "execution_count": 89,
     "metadata": {},
     "output_type": "execute_result"
    }
   ],
   "source": [
    "aa"
   ]
  },
  {
   "cell_type": "code",
   "execution_count": 94,
   "metadata": {},
   "outputs": [],
   "source": [
    "bb = compute_feature_set(vege_fs85[0], \"NDVI\", -3000, -2000, 100, 600, 50)"
   ]
  },
  {
   "cell_type": "code",
   "execution_count": 95,
   "metadata": {},
   "outputs": [
    {
     "data": {
      "text/plain": [
       "[4261.377008652657,\n",
       " 4285.613026819923,\n",
       " 4315.9667519181585,\n",
       " 4358.744897959184,\n",
       " 4369.308673469388,\n",
       " 4379.682397959184,\n",
       " 4396.337992376112,\n",
       " 4369.440051020408,\n",
       " 4356.342675159236,\n",
       " 4362.504358655044]"
      ]
     },
     "execution_count": 95,
     "metadata": {},
     "output_type": "execute_result"
    }
   ],
   "source": [
    "bb"
   ]
  },
  {
   "cell_type": "markdown",
   "metadata": {},
   "source": [
    "### Reduce dimension"
   ]
  },
  {
   "cell_type": "code",
   "execution_count": 15,
   "metadata": {},
   "outputs": [],
   "source": [
    "def rebin(m, shape):\n",
    "    \"\"\"\n",
    "    Reshape the input matrix A to the shape SHAPE.\n",
    "    \"\"\"\n",
    "    sh = shape[0],m.shape[0]//shape[0],shape[1],m.shape[1]//shape[1]\n",
    "    return m.reshape(sh).mean(-1).mean(1)"
   ]
  },
  {
   "cell_type": "markdown",
   "metadata": {},
   "source": [
    "### Combine two 8-day files"
   ]
  },
  {
   "cell_type": "code",
   "execution_count": null,
   "metadata": {},
   "outputs": [],
   "source": [
    "def combine_hdf(filenames, num_file):\n",
    "    \"\"\"\n",
    "    Combine every two 8-day files to compute a feature set. There are in total NUM_FILES in filenames. Used for 8-day datasets.\n",
    "    Use a queue to help iterate through every two files.\n",
    "    \"\"\"\n",
    "    q = Queue(maxsize = num_file)\n",
    "    for filename in filenames:\n",
    "        queue.put(filename)\n",
    "    for i in range (num_file / 2):\n",
    "        f1 = q.get()\n",
    "        f2 = q.get()\n",
    "    # not complete"
   ]
  },
  {
   "cell_type": "markdown",
   "metadata": {},
   "source": [
    "Within a region, exact a small set of features, and ask is there any fire observed in the region in the past 16 days. Consider the intensity of fire, number of pixels with fire (a pixel with fire for 3 days are considered as 3 fire), for a region in the past 16 days."
   ]
  },
  {
   "cell_type": "code",
   "execution_count": null,
   "metadata": {},
   "outputs": [],
   "source": []
  },
  {
   "cell_type": "code",
   "execution_count": 3,
   "metadata": {},
   "outputs": [],
   "source": [
    "ccc = np.arange(24).reshape((4,6))"
   ]
  },
  {
   "cell_type": "code",
   "execution_count": 4,
   "metadata": {},
   "outputs": [
    {
     "data": {
      "text/plain": [
       "array([[ 0,  1,  2,  3,  4,  5],\n",
       "       [ 6,  7,  8,  9, 10, 11],\n",
       "       [12, 13, 14, 15, 16, 17],\n",
       "       [18, 19, 20, 21, 22, 23]])"
      ]
     },
     "execution_count": 4,
     "metadata": {},
     "output_type": "execute_result"
    }
   ],
   "source": [
    "ccc"
   ]
  },
  {
   "cell_type": "code",
   "execution_count": 5,
   "metadata": {},
   "outputs": [
    {
     "data": {
      "text/plain": [
       "(4, 6)"
      ]
     },
     "execution_count": 5,
     "metadata": {},
     "output_type": "execute_result"
    }
   ],
   "source": [
    "ccc.shape"
   ]
  },
  {
   "cell_type": "code",
   "execution_count": 8,
   "metadata": {},
   "outputs": [
    {
     "data": {
      "text/plain": [
       "array([[ 4.,  7.],\n",
       "       [16., 19.]])"
      ]
     },
     "execution_count": 8,
     "metadata": {},
     "output_type": "execute_result"
    }
   ],
   "source": [
    "ccc.reshape((2,ccc.shape[0]//2,2,-1)).mean(axis=3).mean(1)"
   ]
  },
  {
   "cell_type": "code",
   "execution_count": 10,
   "metadata": {},
   "outputs": [
    {
     "data": {
      "text/plain": [
       "array([[ 0,  1,  2,  3,  4,  5],\n",
       "       [ 6,  7,  8,  9, 10, 11],\n",
       "       [12, 13, 14, 15, 16, 17],\n",
       "       [18, 19, 20, 21, 22, 23]])"
      ]
     },
     "execution_count": 10,
     "metadata": {},
     "output_type": "execute_result"
    }
   ],
   "source": [
    "ccc"
   ]
  },
  {
   "cell_type": "code",
   "execution_count": 11,
   "metadata": {},
   "outputs": [],
   "source": [
    "d = rebin(ccc, [2,3])"
   ]
  },
  {
   "cell_type": "code",
   "execution_count": 12,
   "metadata": {},
   "outputs": [
    {
     "data": {
      "text/plain": [
       "array([[ 3.5,  5.5,  7.5],\n",
       "       [15.5, 17.5, 19.5]])"
      ]
     },
     "execution_count": 12,
     "metadata": {},
     "output_type": "execute_result"
    }
   ],
   "source": [
    "d"
   ]
  },
  {
   "cell_type": "code",
   "execution_count": 13,
   "metadata": {},
   "outputs": [
    {
     "data": {
      "text/plain": [
       "array([[ 0,  1,  2,  3,  4,  5],\n",
       "       [ 6,  7,  8,  9, 10, 11],\n",
       "       [12, 13, 14, 15, 16, 17],\n",
       "       [18, 19, 20, 21, 22, 23]])"
      ]
     },
     "execution_count": 13,
     "metadata": {},
     "output_type": "execute_result"
    }
   ],
   "source": [
    "ccc"
   ]
  },
  {
   "cell_type": "code",
   "execution_count": null,
   "metadata": {},
   "outputs": [],
   "source": []
  }
 ],
 "metadata": {
  "kernelspec": {
   "display_name": "Python 3",
   "language": "python",
   "name": "python3"
  },
  "language_info": {
   "codemirror_mode": {
    "name": "ipython",
    "version": 3
   },
   "file_extension": ".py",
   "mimetype": "text/x-python",
   "name": "python",
   "nbconvert_exporter": "python",
   "pygments_lexer": "ipython3",
   "version": "3.7.4"
  }
 },
 "nbformat": 4,
 "nbformat_minor": 2
}
