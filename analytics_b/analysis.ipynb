{
 "cells": [
  {
   "cell_type": "code",
   "execution_count": null,
   "metadata": {},
   "outputs": [],
   "source": [
    "# Import packages\n",
    "import os\n",
    "import re  # regular expressions\n",
    "import warnings\n",
    "import matplotlib.pyplot as plt\n",
    "import numpy as np\n",
    "import numpy.ma as ma\n",
    "import rasterio as rio\n",
    "from rasterio.plot import plotting_extent\n",
    "import geopandas as gpd\n",
    "import earthpy as et\n",
    "import earthpy.plot as ep\n",
    "import earthpy.spatial as es\n",
    "import earthpy.mask as em\n",
    "\n",
    "import rioxarray as rxr\n",
    "\n",
    "from pyspark.mllib.util import MLUtils\n",
    "from pyspark.mllib.regression import LabeledPoint\n",
    "\n",
    "from sklearn.datasets import dump_svmlight_file\n",
    "\n",
    "from glob import glob\n",
    "\n",
    "from queue import Queue\n",
    "\n",
    "warnings.simplefilter('ignore')\n",
    "\n",
    "# Set working directory\n",
    "os.chdir(os.path.join(et.io.HOME, 'BD', 'BA_DATA'))"
   ]
  },
  {
   "cell_type": "code",
   "execution_count": null,
   "metadata": {},
   "outputs": [],
   "source": [
    "# Constants\n",
    "d_limit = 1200\n",
    "tem_conversion = 0.02 # convert to Kelvin temperature\n",
    "vege_fillvalue = -3000\n",
    "vege_lowerest = -2000\n",
    "NE_fillvalue = 32767\n",
    "tem_fillvalue = 0\n",
    "radius = 50\n",
    "\n",
    "vege_len = 457\n",
    "tem_len = 914\n",
    "NE_len = 914\n",
    "thermal_len = 914"
   ]
  },
  {
   "cell_type": "code",
   "execution_count": null,
   "metadata": {},
   "outputs": [],
   "source": [
    "vege_fs84 = glob('VegeData_16day/*h08v04*')\n",
    "vege_fs85 = glob('VegeData_16day/*h08v05*')"
   ]
  },
  {
   "cell_type": "code",
   "execution_count": null,
   "metadata": {},
   "outputs": [],
   "source": [
    "tem_fs84 = glob('TemData_8day/*h08v04*')\n",
    "tem_fs85 = glob('TemData_8day/*h08v05*')"
   ]
  },
  {
   "cell_type": "code",
   "execution_count": null,
   "metadata": {},
   "outputs": [],
   "source": [
    "NE_fs84 = glob('NE_Data_8day/*h08v04*')\n",
    "NE_fs85 = glob('NE_Data_8day/*h08v05*')"
   ]
  },
  {
   "cell_type": "code",
   "execution_count": null,
   "metadata": {},
   "outputs": [],
   "source": [
    "thermal_fs84 = glob('ThermalData_8day/*h08v04*')\n",
    "thermal_fs85 = glob('ThermalData_8day/*h08v05*')"
   ]
  },
  {
   "cell_type": "code",
   "execution_count": null,
   "metadata": {},
   "outputs": [],
   "source": [
    "len(NE_fs85)"
   ]
  },
  {
   "cell_type": "code",
   "execution_count": null,
   "metadata": {},
   "outputs": [],
   "source": [
    "len(NE_fs84)"
   ]
  },
  {
   "cell_type": "code",
   "execution_count": null,
   "metadata": {},
   "outputs": [],
   "source": [
    "len(tem_fs85)"
   ]
  },
  {
   "cell_type": "markdown",
   "metadata": {},
   "source": [
    "### Mask function"
   ]
  },
  {
   "cell_type": "markdown",
   "metadata": {},
   "source": [
    "Pick any location, divide the neighborhood into 10 regions of interest in various directions, each region is within 50 km, 36 degree and 50 km sector as a region. "
   ]
  },
  {
   "cell_type": "code",
   "execution_count": null,
   "metadata": {},
   "outputs": [],
   "source": [
    "def sector_mask(shape,centre,radius,angle_range):\n",
    "    \"\"\"\n",
    "    Return a boolean mask for a circular sector. The start/stop angles in  \n",
    "    `angle_range` should be given in clockwise order.\n",
    "    \"\"\"\n",
    "\n",
    "    x,y = np.ogrid[:shape[0],:shape[1]]\n",
    "    cx,cy = centre\n",
    "    tmin,tmax = np.deg2rad(angle_range)\n",
    "\n",
    "    # ensure stop angle > start angle\n",
    "    if tmax < tmin:\n",
    "            tmax += 2*np.pi\n",
    "\n",
    "    # convert cartesian --> polar coordinates\n",
    "    r2 = (x-cx)*(x-cx) + (y-cy)*(y-cy)\n",
    "    theta = np.arctan2(x-cx,y-cy) - tmin\n",
    "\n",
    "    # wrap angles between 0 and 2*pi\n",
    "    theta %= (2*np.pi)\n",
    "\n",
    "    # circular mask\n",
    "    circmask = r2 <= radius*radius\n",
    "\n",
    "    # angular mask\n",
    "    anglemask = theta <= (tmax-tmin)\n",
    "\n",
    "    return circmask*anglemask"
   ]
  },
  {
   "cell_type": "code",
   "execution_count": null,
   "metadata": {},
   "outputs": [],
   "source": [
    "def compute_feature_set(matrix, fill_value, new_value, row, colmn):\n",
    "    \"\"\"\n",
    "    Return a feature set of a single pixel with row number ROW and column number COLUMN in the 1200 * 1200 matrix MATRIX.\n",
    "    Feature set is computed based on the average value in 10 regions in one time frame from FILENAMES.\n",
    "    Fill_value will be replaced by new_value in the feature matrix.\n",
    "    \"\"\"\n",
    "    feature_set = []\n",
    "    for i in range(10):\n",
    "        mask = sector_mask(matrix.shape, (row, column), radius, (i, i + 36))\n",
    "        sector = matrix[mask]\n",
    "        sector[:][sector[:] == fill_value] = new_value\n",
    "        mean_value = np.mean(sector)\n",
    "        feature_set.append(mean_value)\n",
    "    return feature_set"
   ]
  },
  {
   "cell_type": "code",
   "execution_count": null,
   "metadata": {},
   "outputs": [],
   "source": [
    "def compute_vege_feature_set(matrix, row, colmn):\n",
    "    \"\"\"\n",
    "    Return a vegetation indices feature set of a single pixel with row number ROW and column number COLUMN \n",
    "    in the 1200 * 1200 matrix MATRIX.\n",
    "    Feature set is computed based on the average value in 10 regions in one time frame from FILENAMES.\n",
    "    \"\"\"\n",
    "    feature_set = []\n",
    "    for i in range(10):\n",
    "        mask = sector_mask(matrix.shape, (row, column), radius, (i, i + 36))\n",
    "        sector = matrix[mask]\n",
    "        sector[:][sector[:] == vege_fillvalue] = vege_lowerest # change fillvalue\n",
    "        mean_value = np.mean(sector)\n",
    "        feature_set.append(mean_value)\n",
    "    return feature_set"
   ]
  },
  {
   "cell_type": "code",
   "execution_count": null,
   "metadata": {},
   "outputs": [],
   "source": [
    "def compute_thermal_feature_set(matrix, row, column):\n",
    "    \"\"\"\n",
    "    Return a thermal anomalies feature set of a single pixel with row number ROW and column number COLUMN \n",
    "    in the 1200 * 1200 matrix MATRIX.\n",
    "    Feature set is computed based on the sum of value in 10 regions in one time frame from FILENAMES.\n",
    "    \"\"\"\n",
    "    feature_set = []\n",
    "    for i in range(10):\n",
    "        mask = sector_mask(matrix.shape, (row, column), radius, (i, i + 36))\n",
    "        sector = matrix[mask]\n",
    "        sector[:][sector[:] < 7] = 0\n",
    "        sector[:][sector[:] >= 7] = 1\n",
    "        sum_value = np.sum(sector)\n",
    "        feature_set.append(sum_value)\n",
    "    return feature_set"
   ]
  },
  {
   "cell_type": "code",
   "execution_count": null,
   "metadata": {},
   "outputs": [],
   "source": [
    "def compute_tem_feature_set(matrix, row, column):\n",
    "    \"\"\"\n",
    "    Return a surface temperature feature set of a single pixel with row number ROW and column number COLUMN \n",
    "    in the 1200 * 1200 matrix MATRIX.\n",
    "    Feature set is computed based on the mean of value in 10 regions in one time frame from FILENAMES.\n",
    "    \"\"\"\n",
    "    feature_set = [] # use array instead\n",
    "    for i in range(10):\n",
    "        mask = sector_mask(matrix.shape, (row, column), radius, (i, i + 36))\n",
    "        sector = matrix[mask]\n",
    "        #sector = sector[sector[:] != 0] # drop fillvalue\n",
    "        mean_value = np.mean(sector)\n",
    "        feature_set.append(mean_value)\n",
    "    return feature_set"
   ]
  },
  {
   "cell_type": "code",
   "execution_count": null,
   "metadata": {},
   "outputs": [],
   "source": [
    "def compute_NE_feature_set(matrix, row, column):\n",
    "    \"\"\"\n",
    "    Return a NE feature set of a single pixel with row number ROW and column number COLUMN \n",
    "    in the 1200 * 1200 matrix MATRIX.\n",
    "    Feature set is computed based on the mean of value in 10 regions in one time frame from FILENAMES.\n",
    "    \"\"\"\n",
    "    feature_set = []\n",
    "    for i in range(10):\n",
    "        mask = sector_mask(matrix.shape, (row, column), radius, (i, i + 36))\n",
    "        sector = matrix[mask]\n",
    "        mean_value = np.mean(sector)\n",
    "        feature_set.append(mean_value)\n",
    "    return feature_set"
   ]
  },
  {
   "cell_type": "markdown",
   "metadata": {},
   "source": [
    "### Process 16-day hdf file"
   ]
  },
  {
   "cell_type": "markdown",
   "metadata": {},
   "source": [
    "16-day for vegetation_data"
   ]
  },
  {
   "cell_type": "code",
   "execution_count": null,
   "metadata": {},
   "outputs": [],
   "source": [
    "def vege_features(file, sds, fill_value, new_value, radius):\n",
    "    \"\"\"\n",
    "    Return feature sets of all pixels in the file FILE.\n",
    "    SDS is NDVI or EVI.\n",
    "    \n",
    "    \"\"\"\n",
    "    all_bands = []\n",
    "    with rio.open(file) as dataset:\n",
    "        for name in dataset.subdatasets:\n",
    "            if re.search(sds, name):\n",
    "                with rio.open(name) as subdataset:\n",
    "                    modis_meta = subdataset.profile\n",
    "                    all_bands.append(subdataset.read(1))\n",
    "    vege_modis = np.stack(all_bands)\n",
    "    vege_matrix = vege_modis[0].reshape(d_limit,d_limit)\n",
    "    feature_sets = np.zeros((d_limit, d_limit))\n",
    "    for r in range(d_limit):\n",
    "        for c in range(d_limit):\n",
    "            temp = compute_feature_set(vege_martrix, fill_value, new_value, r, c)\n",
    "            feature_sets[r][c] = temp"
   ]
  },
  {
   "cell_type": "code",
   "execution_count": null,
   "metadata": {},
   "outputs": [],
   "source": [
    "def compute_vege_features(filenames, num_file, sds, fill_value, new_value, radius):\n",
    "    \"\"\"\n",
    "    Return vegetation indice feature sets for all files in FILENAMES\n",
    "    \"\"\"\n",
    "    all_feature_sets = np.zeros((num_file, d_limit, d_limit))\n",
    "    \n",
    "    index = 0\n",
    "    \n",
    "    for file in filenames:\n",
    "        temp = vege_features(file, sds, file_value, new_value, radius)\n",
    "        all_feature_sets[index] = temp\n",
    "        index += 1\n",
    "    return all_feature_sets"
   ]
  },
  {
   "cell_type": "markdown",
   "metadata": {},
   "source": [
    "### Reduce dimension"
   ]
  },
  {
   "cell_type": "code",
   "execution_count": null,
   "metadata": {},
   "outputs": [],
   "source": [
    "def rebin(m, shape):\n",
    "    \"\"\"\n",
    "    Reshape the input matrix A to the shape SHAPE.\n",
    "    \"\"\"\n",
    "    sh = shape[0],m.shape[0]//shape[0],shape[1],m.shape[1]//shape[1]\n",
    "    return m.reshape(sh).mean(-1).mean(1)"
   ]
  },
  {
   "cell_type": "markdown",
   "metadata": {},
   "source": [
    "### Process 8-day files"
   ]
  },
  {
   "cell_type": "markdown",
   "metadata": {},
   "source": [
    "8-day for thermal_data, tem_data and NE_data"
   ]
  },
  {
   "cell_type": "code",
   "execution_count": null,
   "metadata": {},
   "outputs": [],
   "source": [
    "NE_fs85[0:4]"
   ]
  },
  {
   "cell_type": "code",
   "execution_count": null,
   "metadata": {},
   "outputs": [],
   "source": [
    "NE_fs85[4:8]"
   ]
  },
  {
   "cell_type": "code",
   "execution_count": null,
   "metadata": {},
   "outputs": [],
   "source": [
    "def compute_features_8day(filenames, num_file, radius, feature_type):\n",
    "    \"\"\"\n",
    "    Combine every two 8-day files to compute feature sets. There are in total NUM_FILES in filenames. Used for 8-day datasets.\n",
    "    Use a queue to help iterate through every two files.\n",
    "    Input filenames is the result from using glob command\n",
    "    Result is a 3d np array with all the SDS features using 10-region method\n",
    "    \"\"\"\n",
    "    print(1)\n",
    "    sds1 = None\n",
    "    sds2 = None\n",
    "    if feature_type == \"thermal\":\n",
    "        sds1 = \"FireMask\"\n",
    "    elif feature_type == \"tem\":\n",
    "        sds1 = \"LST_Day\"\n",
    "    elif feature_type == \"NE\":\n",
    "        sds1 = \":ET_500m\"\n",
    "        sds2 = \"PET\"\n",
    "    else:\n",
    "        print(\"No such feature for 8-day\")\n",
    "        return\n",
    "    print(2)\n",
    "    file_count = num_file // 2\n",
    "    all_feature_sets = np.zeros((file_count, 1080, 1080, 10))\n",
    "    q = Queue(1000)\n",
    "    print(3)\n",
    "    for filename in filenames:\n",
    "        q.put(filename)\n",
    "    print(4)\n",
    "    for i in range (file_count):\n",
    "        f1 = q.get()\n",
    "        f2 = q.get()\n",
    "        f1_bands = []\n",
    "        f2_bands = []\n",
    "        f1_bands_se = []\n",
    "        f2_bands_se = []\n",
    "        # open two files in a round\n",
    "        with rio.open(f1) as dataset:\n",
    "            for name in dataset.subdatasets:\n",
    "                if re.search(sds1, name):\n",
    "                    with rio.open(name) as subdataset:\n",
    "                        modis_meta = subdataset.profile\n",
    "                        f1_bands.append(subdataset.read(1))\n",
    "                if feature_type == \"NE\":\n",
    "                    if re.search(sds2, name):\n",
    "                        with rio.open(name) as subdataset:\n",
    "                            modis_meta = subdataset.profile\n",
    "                            f1_bands_se.append(subdataset.read(1))\n",
    "        f1_modis = np.stack(f1_bands)\n",
    "        f1_matrix = f1_modis[0].reshape(d_limit,d_limit)\n",
    "        if feature_type == \"NE\":\n",
    "            f1_modis_se = np.stack(f1_bands_se)\n",
    "            f1_matrix_se = f1_modis_se[0].reshape(d_limit,d_limit)\n",
    "        print(5)\n",
    "        with rio.open(f2) as dataset:\n",
    "            for name in dataset.subdatasets:\n",
    "                if re.search(sds1, name):\n",
    "                    with rio.open(name) as subdataset:\n",
    "                        modis_meta = subdataset.profile\n",
    "                        f2_bands.append(subdataset.read(1))\n",
    "                if feature_type == \"NE\":\n",
    "                    if re.search(sds2, name):\n",
    "                        with rio.open(name) as subdataset:\n",
    "                            modis_meta = subdataset.profile\n",
    "                            f2_bands_se.append(subdataset.read(1))\n",
    "        f2_modis = np.stack(f2_bands)\n",
    "        f2_matrix = f2_modis[0].reshape(d_limit,d_limit)\n",
    "        if feature_type == \"NE\":\n",
    "            f2_modis_se = np.stack(f2_bands_se)\n",
    "            f2_matrix_se = f2_modis_se[0].reshape(d_limit,d_limit)\n",
    "        # combine two matrices\n",
    "        if feature_type == \"NE\":\n",
    "            f1_matrix = f1_matrix_se - f1_matrix\n",
    "            f2_matrix = f2_matrix_se - f2_matrix\n",
    "        combined_matrix = (f1_matrix + f2_matrix) / 2\n",
    "        if feature_type == \"tem\":\n",
    "            combined_matrix = combined_matrix * tem_conversion\n",
    "        feature_sets = np.zeros((1080, 1080))\n",
    "        print(6)\n",
    "        for r in range(60, 1140):\n",
    "            for c in range(60, 1140):\n",
    "                if feature_type == \"thermal\":\n",
    "                    temp = compute_thermal_feature_set(combined_matrix, r, c)\n",
    "                elif feature_type == \"tem\":\n",
    "                    temp = compute_tem_feature_set(combined_matrix, r, c)\n",
    "                    print(temp)\n",
    "                elif feature_type == \"vege\":\n",
    "                    temp = compute_vege_feature_set(combined_matrix, r, c)\n",
    "                else:\n",
    "                    temp = compute_NE_feature_set(combined_matrix, r, c)\n",
    "                feature_sets[r][c] = np.copy(temp)\n",
    "        \n",
    "        all_feature_sets[i] = np.copy(feature_sets)\n",
    "        return all_feature_sets"
   ]
  },
  {
   "cell_type": "code",
   "execution_count": null,
   "metadata": {},
   "outputs": [],
   "source": [
    "def compute_TEMfeatures_8day(filenames, num_file, radius):\n",
    "    \"\"\"\n",
    "    Combine every two 8-day files to compute feature sets. There are in total NUM_FILES in filenames. Used for 8-day datasets.\n",
    "    Use a queue to help iterate through every two files.\n",
    "    Input filenames is the result from using glob command\n",
    "    Result is a 3d np array with all the SDS features using 10-region method\n",
    "    \"\"\"\n",
    "    print(1)\n",
    "    sds1 = \"LST_Day\"\n",
    "    print(2)\n",
    "    file_count = num_file // 2\n",
    "    all_feature_sets = np.zeros((file_count, 1080, 1080, 10))\n",
    "    q = Queue(1000)\n",
    "    print(3)\n",
    "    for filename in filenames:\n",
    "        q.put(filename)\n",
    "    print(4)\n",
    "    for i in range (file_count):\n",
    "        f1 = q.get()\n",
    "        f2 = q.get()\n",
    "        f1_bands = []\n",
    "        f2_bands = []\n",
    "        f1_bands_se = []\n",
    "        f2_bands_se = []\n",
    "        # open two files in a round\n",
    "        with rio.open(f1) as dataset:\n",
    "            for name in dataset.subdatasets:\n",
    "                if re.search(sds1, name):\n",
    "                    with rio.open(name) as subdataset:\n",
    "                        modis_meta = subdataset.profile\n",
    "                        f1_bands.append(subdataset.read(1))\n",
    "        f1_modis = np.stack(f1_bands)\n",
    "        f1_matrix = f1_modis[0].reshape(d_limit,d_limit)\n",
    "        print(5)\n",
    "        with rio.open(f2) as dataset:\n",
    "            for name in dataset.subdatasets:\n",
    "                if re.search(sds1, name):\n",
    "                    with rio.open(name) as subdataset:\n",
    "                        modis_meta = subdataset.profile\n",
    "                        f2_bands.append(subdataset.read(1))\n",
    "        f2_modis = np.stack(f2_bands)\n",
    "        f2_matrix = f2_modis[0].reshape(d_limit,d_limit)\n",
    "        # combine two matrices\n",
    "        combined_matrix = (f1_matrix + f2_matrix) / 2\n",
    "        combined_matrix = combined_matrix * tem_conversion\n",
    "        feature_sets = np.zeros((1080, 1080, 10))\n",
    "        print(6)\n",
    "        for r in range(60, 1140):\n",
    "            for c in range(60, 1140):\n",
    "                print((r-60,c-60))\n",
    "                temp = compute_tem_feature_set(combined_matrix, r, c)\n",
    "                feature_sets[r-60][c-60] = np.copy(temp)\n",
    "        \n",
    "        all_feature_sets[i] = np.copy(feature_sets)\n",
    "        return all_feature_sets"
   ]
  },
  {
   "cell_type": "code",
   "execution_count": null,
   "metadata": {},
   "outputs": [],
   "source": [
    "def compute_THERMALfeatures_8day(filenames, num_file, radius):\n",
    "    \"\"\"\n",
    "    Combine every two 8-day files to compute feature sets. There are in total NUM_FILES in filenames. Used for 8-day datasets.\n",
    "    Use a queue to help iterate through every two files.\n",
    "    Input filenames is the result from using glob command\n",
    "    Result is a 3d np array with all the SDS features using 10-region method\n",
    "    \"\"\"\n",
    "    print(1)\n",
    "    sds1 = \"FireMask\"\n",
    "    print(2)\n",
    "    file_count = num_file // 2\n",
    "    all_feature_sets = np.zeros((file_count, 1080, 1080, 10))\n",
    "    q = Queue(file_count)\n",
    "    print(3)\n",
    "    for filename in filenames:\n",
    "        q.put(filename)\n",
    "    print(4)\n",
    "    for i in range (file_count):\n",
    "        f1 = q.get()\n",
    "        f2 = q.get()\n",
    "        f1_bands = []\n",
    "        f2_bands = []\n",
    "        f1_bands_se = []\n",
    "        f2_bands_se = []\n",
    "        # open two files in a round\n",
    "        with rio.open(f1) as dataset:\n",
    "            for name in dataset.subdatasets:\n",
    "                if re.search(sds1, name):\n",
    "                    with rio.open(name) as subdataset:\n",
    "                        modis_meta = subdataset.profile\n",
    "                        f1_bands.append(subdataset.read(1))\n",
    "        f1_modis = np.stack(f1_bands)\n",
    "        f1_matrix = f1_modis[0].reshape(d_limit,d_limit)\n",
    "        print(5)\n",
    "        with rio.open(f2) as dataset:\n",
    "            for name in dataset.subdatasets:\n",
    "                if re.search(sds1, name):\n",
    "                    with rio.open(name) as subdataset:\n",
    "                        modis_meta = subdataset.profile\n",
    "                        f2_bands.append(subdataset.read(1))\n",
    "        f2_modis = np.stack(f2_bands)\n",
    "        f2_matrix = f2_modis[0].reshape(d_limit,d_limit)\n",
    "        # combine two matrices\n",
    "        combined_matrix = (f1_matrix + f2_matrix) / 2\n",
    "        feature_sets = np.zeros((1080, 1080))\n",
    "        print(6)\n",
    "        for r in range(60, 1140):\n",
    "            for c in range(60, 1140):\n",
    "                print((r-60,c-60))\n",
    "                temp = compute_thermal_feature_set(combined_matrix, r, c)\n",
    "                feature_sets[r-60][c-60] = np.copy(temp)\n",
    "        \n",
    "        all_feature_sets[i] = np.copy(feature_sets)\n",
    "        return all_feature_sets"
   ]
  },
  {
   "cell_type": "code",
   "execution_count": null,
   "metadata": {},
   "outputs": [],
   "source": [
    "def compute_NEfeatures_8day(filenames, num_file, radius):\n",
    "    \"\"\"\n",
    "    Combine every two 8-day files to compute feature sets. There are in total NUM_FILES in filenames. Used for 8-day datasets.\n",
    "    Use a queue to help iterate through every two files.\n",
    "    Input filenames is the result from using glob command\n",
    "    Result is a 3d np array with all the SDS features using 10-region method\n",
    "    \"\"\"\n",
    "    print(1)\n",
    "    sds1 = \":ET_500m\"\n",
    "    sds2 = \"PET\"\n",
    "    print(2)\n",
    "    file_count = num_file // 2\n",
    "    all_feature_sets = np.zeros((file_count, 1080, 1080, 10))\n",
    "    q = Queue(num_file)\n",
    "    print(3)\n",
    "    for filename in filenames:\n",
    "        q.put(filename)\n",
    "    print(4)\n",
    "    for i in range (file_count):\n",
    "        f1 = q.get()\n",
    "        f2 = q.get()\n",
    "        f1_bands = []\n",
    "        f2_bands = []\n",
    "        f1_bands_se = []\n",
    "        f2_bands_se = []\n",
    "        # open two files in a round\n",
    "        with rio.open(f1) as dataset:\n",
    "            for name in dataset.subdatasets:\n",
    "                if re.search(sds1, name):\n",
    "                    with rio.open(name) as subdataset:\n",
    "                        modis_meta = subdataset.profile\n",
    "                        f1_bands.append(subdataset.read(1))\n",
    "                if re.search(sds2, name):\n",
    "                    with rio.open(name) as subdataset:\n",
    "                        modis_meta = subdataset.profile\n",
    "                        f1_bands_se.append(subdataset.read(1))\n",
    "        f1_modis = np.stack(f1_bands)\n",
    "        f1_matrix = f1_modis[0].reshape(d_limit,d_limit)\n",
    "        f1_modis_se = np.stack(f1_bands_se)\n",
    "        f1_matrix_se = f1_modis_se[0].reshape(d_limit,d_limit)\n",
    "        print(5)\n",
    "        with rio.open(f2) as dataset:\n",
    "            for name in dataset.subdatasets:\n",
    "                if re.search(sds1, name):\n",
    "                    with rio.open(name) as subdataset:\n",
    "                        modis_meta = subdataset.profile\n",
    "                        f2_bands.append(subdataset.read(1))\n",
    "                if re.search(sds2, name):\n",
    "                    with rio.open(name) as subdataset:\n",
    "                        modis_meta = subdataset.profile\n",
    "                        f2_bands_se.append(subdataset.read(1))\n",
    "        f2_modis = np.stack(f2_bands)\n",
    "        f2_matrix = f2_modis[0].reshape(d_limit,d_limit)\n",
    "        f2_modis_se = np.stack(f2_bands_se)\n",
    "        f2_matrix_se = f2_modis_se[0].reshape(d_limit,d_limit)\n",
    "        # combine two matrices\n",
    "        f1_matrix = f1_matrix_se - f1_matrix\n",
    "        f2_matrix = f2_matrix_se - f2_matrix\n",
    "        combined_matrix = (f1_matrix + f2_matrix) / 2\n",
    "        feature_sets = np.zeros((1080, 1080))\n",
    "        print(6)\n",
    "        for r in range(60, 1140):\n",
    "            for c in range(60, 1140):\n",
    "                print((r-60,c-60))\n",
    "                temp = compute_NE_feature_set(combined_matrix, r, c)\n",
    "                feature_sets[r-60][c-60] = np.copy(temp)\n",
    "        \n",
    "        all_feature_sets[i] = np.copy(feature_sets)\n",
    "        return all_feature_sets"
   ]
  },
  {
   "cell_type": "code",
   "execution_count": null,
   "metadata": {},
   "outputs": [],
   "source": [
    "i = 5\n",
    "b1 = i >> 0 & 1\n",
    "b2 = i >> 1 & 1\n",
    "print(b1)\n",
    "print(b2)"
   ]
  },
  {
   "cell_type": "code",
   "execution_count": null,
   "metadata": {},
   "outputs": [],
   "source": [
    "def land_mask(file):\n",
    "    # compute land mask from QA field in thermal data\n",
    "    all_bands = []\n",
    "    with rio.open(file) as dataset:\n",
    "        for name in dataset.subdatasets:\n",
    "            if re.search(\"QA\", name):\n",
    "                with rio.open(name) as subdataset:\n",
    "                    modis_meta = subdataset.profile\n",
    "                    all_bands.append(subdataset.read(1))\n",
    "    fire_modis = np.stack(all_bands)\n",
    "    fire_matrix = fire_modis[0].reshape(d_limit,d_limit)\n",
    "    for i in range(d_limit):\n",
    "        for j in range(d_limit):\n",
    "            k = fire_matrix[i][j]\n",
    "            b1 = k >> 0 & 1\n",
    "            b2 = k >> 1 & 1\n",
    "            if b1 != b2:\n",
    "                fire_matrix[i][j] = 1\n",
    "            else:\n",
    "                fire_matrix[i][j] = 0\n",
    "    return fire_matrix\n",
    "lm = land_mask(thermal_fs85[0])"
   ]
  },
  {
   "cell_type": "code",
   "execution_count": null,
   "metadata": {},
   "outputs": [],
   "source": [
    "def random_position():\n",
    "    random_indexR = np.random.randint(60, 1140)\n",
    "    random_indexC = np.random.randint(60, 1140)\n",
    "    return (random_indexR, random_indexC)"
   ]
  },
  {
   "cell_type": "code",
   "execution_count": null,
   "metadata": {},
   "outputs": [],
   "source": [
    "a = random_position()\n",
    "print(a)"
   ]
  },
  {
   "cell_type": "code",
   "execution_count": null,
   "metadata": {},
   "outputs": [],
   "source": [
    "def compute_features_all(fire_fns, tem_fns, vege_fns, ne_fns, num_file, radius, sample_count):\n",
    "    \"\"\"\n",
    "    X = fire::tem::vege::ne  each row (4 * 10)\n",
    "    Y = 1/0\n",
    "    (fire_positions + random 20 samples) rows for X\n",
    "    \"\"\"\n",
    "    print(1)\n",
    "    fire_sds1 = \"FireMask\"\n",
    "    tem_sds1 = \"LST_Day\"\n",
    "    vege_sds1 = \"EVI\"\n",
    "    ne_sds1 = \":ET_500m\"\n",
    "    ne_sds2 = \"PET\"\n",
    "    print(2)\n",
    "    \n",
    "    # get fire mask\n",
    "    print(1)\n",
    "    sds1 = \"FireMask\"\n",
    "    print(2)\n",
    "    file_count = num_file // 2\n",
    "    fire_positions = []\n",
    "    #q = Queue(file_count)\n",
    "    print(3)\n",
    "    #for filename in fire_fns:\n",
    "        #q.put(filename)\n",
    "    print(4)\n",
    "    \n",
    "    # compute fire_combined_matrix\n",
    "    #f1 = q.get()\n",
    "    #f2 = q.get()\n",
    "    f1_bands = []\n",
    "    f2_bands = []\n",
    "    # open two files in a round\n",
    "    with rio.open(fire_fns[0]) as dataset:\n",
    "        for name in dataset.subdatasets:\n",
    "            if re.search(fire_sds1, name):\n",
    "                with rio.open(name) as subdataset:\n",
    "                    modis_meta = subdataset.profile\n",
    "                    f1_bands.append(subdataset.read(1))\n",
    "    f1_modis = np.stack(f1_bands)\n",
    "    f1_matrix = f1_modis[0].reshape(d_limit,d_limit)\n",
    "    print(5)\n",
    "    with rio.open(fire_fns[1]) as dataset:\n",
    "        for name in dataset.subdatasets:\n",
    "            if re.search(fire_sds1, name):\n",
    "                with rio.open(name) as subdataset:\n",
    "                    modis_meta = subdataset.profile\n",
    "                    f2_bands.append(subdataset.read(1))\n",
    "    f2_modis = np.stack(f2_bands)\n",
    "    f2_matrix = f2_modis[0].reshape(d_limit,d_limit)\n",
    "    # combine two matrices\n",
    "    fire_combined_matrix = (f1_matrix + f2_matrix) / 2\n",
    "    for r in range(60, 1140):\n",
    "        for c in range(60, 1140):\n",
    "            if (fire_combined_matrix[r][c] >= 7):\n",
    "                 fire_positions.append([r,c])\n",
    "    print(\"fire_mask\")\n",
    "    #feature_count = len(fire_positions) * 4 * 10\n",
    "    #all_feature_sets = np.zeros((1080, 1080, 40))\n",
    "    print(len(fire_positions))\n",
    "    \n",
    "    # compute tem_combined_matrix\n",
    "    f1_bands = []\n",
    "    f2_bands = []\n",
    "    with rio.open(tem_fns[0]) as dataset:\n",
    "        for name in dataset.subdatasets:\n",
    "            if re.search(tem_sds1, name):\n",
    "                with rio.open(name) as subdataset:\n",
    "                    modis_meta = subdataset.profile\n",
    "                    f1_bands.append(subdataset.read(1))\n",
    "    f1_modis = np.stack(f1_bands)\n",
    "    f1_matrix = f1_modis[0].reshape(d_limit,d_limit)\n",
    "    print(5)\n",
    "    with rio.open(tem_fns[1]) as dataset:\n",
    "        for name in dataset.subdatasets:\n",
    "            if re.search(tem_sds1, name):\n",
    "                with rio.open(name) as subdataset:\n",
    "                    modis_meta = subdataset.profile\n",
    "                    f2_bands.append(subdataset.read(1))\n",
    "    f2_modis = np.stack(f2_bands)\n",
    "    f2_matrix = f2_modis[0].reshape(d_limit,d_limit)\n",
    "    # combine two matrices\n",
    "    tem_combined_matrix = (f1_matrix + f2_matrix) / 2\n",
    "    \n",
    "    \n",
    "    # compute vege_combined_matrix\n",
    "    all_bands = []\n",
    "    with rio.open(vege_fns) as dataset:\n",
    "        for name in dataset.subdatasets:\n",
    "            if re.search(vege_sds1, name):\n",
    "                with rio.open(name) as subdataset:\n",
    "                    modis_meta = subdataset.profile\n",
    "                    all_bands.append(subdataset.read(1))\n",
    "    vege_modis = np.stack(all_bands)\n",
    "    vege_matrix = vege_modis[0].reshape(d_limit,d_limit)\n",
    "        \n",
    "        \n",
    "    # compute ne_combined_matrix    \n",
    "    f1_bands = []\n",
    "    f2_bands = []\n",
    "    f1_bands_se = []\n",
    "    f2_bands_se = []\n",
    "    # open two files in a round\n",
    "    with rio.open(ne_fns[0]) as dataset:\n",
    "        for name in dataset.subdatasets:\n",
    "            if re.search(ne_sds1, name):\n",
    "                with rio.open(name) as subdataset:\n",
    "                    modis_meta = subdataset.profile\n",
    "                    f1_bands.append(subdataset.read(1))\n",
    "            if re.search(ne_sds2, name):\n",
    "                with rio.open(name) as subdataset:\n",
    "                    modis_meta = subdataset.profile\n",
    "                    f1_bands_se.append(subdataset.read(1))\n",
    "    f1_modis = np.stack(f1_bands)\n",
    "    print(f1_modis.shape)\n",
    "    f1_matrix = rebin(f1_modis[0], (d_limit,d_limit))\n",
    "    f1_modis_se = np.stack(f1_bands_se)\n",
    "    f1_matrix_se = rebin(f1_modis_se[0], (d_limit,d_limit))\n",
    "    print(5)\n",
    "    with rio.open(ne_fns[1]) as dataset:\n",
    "        for name in dataset.subdatasets:\n",
    "            if re.search(ne_sds1, name):\n",
    "                with rio.open(name) as subdataset:\n",
    "                    modis_meta = subdataset.profile\n",
    "                    f2_bands.append(subdataset.read(1))\n",
    "            if re.search(ne_sds2, name):\n",
    "                with rio.open(name) as subdataset:\n",
    "                    modis_meta = subdataset.profile\n",
    "                    f2_bands_se.append(subdataset.read(1))\n",
    "    f2_modis = np.stack(f2_bands)\n",
    "    f2_matrix = rebin(f2_modis[0], (d_limit,d_limit))\n",
    "    f2_modis_se = np.stack(f2_bands_se)\n",
    "    f2_matrix_se = rebin(f2_modis_se[0], (d_limit,d_limit))\n",
    "    # combine two matrices\n",
    "    f1_matrix = f1_matrix_se - f1_matrix\n",
    "    f2_matrix = f2_matrix_se - f2_matrix\n",
    "    ne_combined_matrix = (f1_matrix + f2_matrix) / 2\n",
    "        \n",
    "    all_feature_sets = []\n",
    "    \n",
    "    # random samples   \n",
    "    for i in range(sample_count):\n",
    "        print(i)\n",
    "        p = random_position()\n",
    "        while True:\n",
    "            if (p not in fire_positions) and lm[p[0]][p[1]] == 1:\n",
    "                break;\n",
    "            else:\n",
    "                p = random_position()\n",
    "                \n",
    "        # now have a good random position\n",
    "        r = p[0]\n",
    "        c = p[1]\n",
    "        features = []\n",
    "        thermal_feature_set = compute_thermal_feature_set(fire_combined_matrix, r, c)\n",
    "        features.append(thermal_feature_set)\n",
    "        tem_feature_set = compute_thermal_feature_set(tem_combined_matrix, r, c)\n",
    "        features.append(tem_feature_set)\n",
    "        vege_feature_set = compute_thermal_feature_set(vege_matrix, r, c)\n",
    "        features.append(vege_feature_set)\n",
    "        ne_feature_set = compute_thermal_feature_set(ne_combined_matrix, r, c)\n",
    "        features.append(ne_feature_set)\n",
    "        all_feature_sets.append(features)\n",
    "    \n",
    "    # fire positions\n",
    "    final_fire_positions = []\n",
    "    count = 0\n",
    "    if sample_count > len(fire_positions):\n",
    "        count = len(fire_positions)\n",
    "    else:\n",
    "        count = sample_count\n",
    "    print(count)\n",
    "    for i in range(count):\n",
    "        print(i)\n",
    "        p = np.random.randint(0, len(fire_positions))\n",
    "        while True:\n",
    "            if fire_positions[p] not in final_fire_positions:\n",
    "                final_fire_positions.append(fire_positions[p])\n",
    "                break;\n",
    "            else:\n",
    "                p = np.random.randint(0, len(fire_positions))\n",
    "    for i in final_fire_positions:\n",
    "        print(i)\n",
    "        r = i[0]\n",
    "        c = i[1]\n",
    "        features = []\n",
    "        thermal_feature_set = compute_thermal_feature_set(fire_combined_matrix, r, c)\n",
    "        features.append(thermal_feature_set)\n",
    "        tem_feature_set = compute_thermal_feature_set(tem_combined_matrix, r, c)\n",
    "        features.append(tem_feature_set)\n",
    "        vege_feature_set = compute_thermal_feature_set(vege_matrix, r, c)\n",
    "        features.append(vege_feature_set)\n",
    "        ne_feature_set = compute_thermal_feature_set(ne_combined_matrix, r, c)\n",
    "        features.append(ne_feature_set)\n",
    "        all_feature_sets.append(features)\n",
    "\n",
    "        \n",
    "    return all_feature_sets"
   ]
  },
  {
   "cell_type": "code",
   "execution_count": null,
   "metadata": {},
   "outputs": [],
   "source": [
    "result1 = compute_features_all(thermal_fs85[0:2], tem_fs85[0:2], vege_fs85[0], NE_fs85[0:2], 2, 50, 10)"
   ]
  },
  {
   "cell_type": "code",
   "execution_count": null,
   "metadata": {},
   "outputs": [],
   "source": [
    "print(result1)"
   ]
  },
  {
   "cell_type": "markdown",
   "metadata": {},
   "source": [
    "Within a region, exact a small set of features, and ask is there any fire observed in the region in the past 16 days. Consider the intensity of fire, number of pixels with fire (a pixel with fire for 3 days are considered as 3 fire), for a region in the past 16 days."
   ]
  },
  {
   "cell_type": "code",
   "execution_count": null,
   "metadata": {},
   "outputs": [],
   "source": [
    "len(tem_fs85)"
   ]
  },
  {
   "cell_type": "code",
   "execution_count": null,
   "metadata": {},
   "outputs": [],
   "source": [
    "len(vege_fs85)"
   ]
  },
  {
   "cell_type": "code",
   "execution_count": null,
   "metadata": {},
   "outputs": [],
   "source": [
    "Tem = compute_TEMfeatures_8day(tem_fs85[0:4], 4, 50)"
   ]
  },
  {
   "cell_type": "code",
   "execution_count": null,
   "metadata": {},
   "outputs": [],
   "source": []
  },
  {
   "cell_type": "markdown",
   "metadata": {},
   "source": [
    "### Time Series Features"
   ]
  },
  {
   "cell_type": "code",
   "execution_count": null,
   "metadata": {},
   "outputs": [],
   "source": [
    "X = np.ones((3,4))\n",
    "Y = np.zeros(3)"
   ]
  },
  {
   "cell_type": "code",
   "execution_count": null,
   "metadata": {},
   "outputs": [],
   "source": [
    "X"
   ]
  },
  {
   "cell_type": "code",
   "execution_count": null,
   "metadata": {},
   "outputs": [],
   "source": [
    "Y.shape"
   ]
  },
  {
   "cell_type": "code",
   "execution_count": null,
   "metadata": {},
   "outputs": [],
   "source": [
    "dump_svmlight_file(X,Y,os.path.join(\"test_sample1\"),zero_based=False)"
   ]
  },
  {
   "cell_type": "code",
   "execution_count": null,
   "metadata": {},
   "outputs": [],
   "source": [
    "XX = np.ones((5,4))\n",
    "YY = np.ones(5)\n",
    "dump_svmlight_file(XX,YY,os.path.join(\"test_sample2\"),zero_based=False)"
   ]
  },
  {
   "cell_type": "code",
   "execution_count": null,
   "metadata": {},
   "outputs": [],
   "source": [
    "a = np.append(Y, [4, 5, 6, 7, 8, 9])"
   ]
  },
  {
   "cell_type": "code",
   "execution_count": null,
   "metadata": {},
   "outputs": [],
   "source": [
    "b = np.zeros((3,3,2))"
   ]
  },
  {
   "cell_type": "code",
   "execution_count": null,
   "metadata": {},
   "outputs": [],
   "source": [
    "c = [1.0, 2.1]"
   ]
  },
  {
   "cell_type": "code",
   "execution_count": null,
   "metadata": {},
   "outputs": [],
   "source": [
    "b[0][0]"
   ]
  },
  {
   "cell_type": "code",
   "execution_count": null,
   "metadata": {},
   "outputs": [],
   "source": [
    "b[0][0] = np.copy(c)"
   ]
  },
  {
   "cell_type": "code",
   "execution_count": null,
   "metadata": {},
   "outputs": [],
   "source": [
    "b"
   ]
  },
  {
   "cell_type": "code",
   "execution_count": null,
   "metadata": {},
   "outputs": [],
   "source": []
  },
  {
   "cell_type": "code",
   "execution_count": null,
   "metadata": {},
   "outputs": [],
   "source": []
  },
  {
   "cell_type": "code",
   "execution_count": null,
   "metadata": {},
   "outputs": [],
   "source": []
  }
 ],
 "metadata": {
  "kernelspec": {
   "display_name": "Python 3",
   "language": "python",
   "name": "python3"
  },
  "language_info": {
   "codemirror_mode": {
    "name": "ipython",
    "version": 3
   },
   "file_extension": ".py",
   "mimetype": "text/x-python",
   "name": "python",
   "nbconvert_exporter": "python",
   "pygments_lexer": "ipython3",
   "version": "3.7.4"
  }
 },
 "nbformat": 4,
 "nbformat_minor": 2
}
