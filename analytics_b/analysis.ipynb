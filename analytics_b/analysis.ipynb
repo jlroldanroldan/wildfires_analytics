{
 "cells": [
  {
   "cell_type": "code",
   "execution_count": null,
   "metadata": {},
   "outputs": [],
   "source": [
    "# Import packages\n",
    "import os\n",
    "import re  # regular expressions\n",
    "import warnings\n",
    "import matplotlib.pyplot as plt\n",
    "import numpy as np\n",
    "import numpy.ma as ma\n",
    "import rasterio as rio\n",
    "from rasterio.plot import plotting_extent\n",
    "import geopandas as gpd\n",
    "import earthpy as et\n",
    "import earthpy.plot as ep\n",
    "import earthpy.spatial as es\n",
    "import earthpy.mask as em\n",
    "\n",
    "import rioxarray as rxr\n",
    "\n",
    "from pyspark.mllib.util import MLUtils\n",
    "from pyspark.mllib.regression import LabeledPoint\n",
    "\n",
    "from sklearn.datasets import dump_svmlight_file\n",
    "\n",
    "from glob import glob\n",
    "\n",
    "from queue import Queue\n",
    "\n",
    "warnings.simplefilter('ignore')\n",
    "\n",
    "# Set working directory\n",
    "os.chdir(os.path.join(et.io.HOME, 'BD', 'BA_DATA'))"
   ]
  },
  {
   "cell_type": "code",
   "execution_count": null,
   "metadata": {},
   "outputs": [],
   "source": [
    "# Constants\n",
    "d_limit = 1200"
   ]
  },
  {
   "cell_type": "code",
   "execution_count": null,
   "metadata": {},
   "outputs": [],
   "source": [
    "vege_fs84 = glob('VegeData_16day/*h08v04*')"
   ]
  },
  {
   "cell_type": "code",
   "execution_count": null,
   "metadata": {},
   "outputs": [],
   "source": [
    "vege_fs84"
   ]
  },
  {
   "cell_type": "code",
   "execution_count": null,
   "metadata": {},
   "outputs": [],
   "source": [
    "vege_fs85 = glob('VegeData_16day/*h08v05*')"
   ]
  },
  {
   "cell_type": "code",
   "execution_count": null,
   "metadata": {},
   "outputs": [],
   "source": [
    "vege_fs85"
   ]
  },
  {
   "cell_type": "code",
   "execution_count": null,
   "metadata": {},
   "outputs": [],
   "source": [
    "vege_path = os.path.join(\"VegeData_16day\", \"MOD13A2.A2000049.h08v05.006.2015136104428.hdf\")"
   ]
  },
  {
   "cell_type": "code",
   "execution_count": null,
   "metadata": {},
   "outputs": [],
   "source": [
    "tem_path = os.path.join(\"TemData\", \"MOD11A2.A2000049.h08v05.006.2015058135046.hdf\")"
   ]
  },
  {
   "cell_type": "markdown",
   "metadata": {},
   "source": [
    "### Mask function"
   ]
  },
  {
   "cell_type": "markdown",
   "metadata": {},
   "source": [
    "Pick any location, divide the neighborhood into 10 regions of interest in various directions, each region is within 50 km, 36 degree and 50 km sector as a region. "
   ]
  },
  {
   "cell_type": "code",
   "execution_count": null,
   "metadata": {},
   "outputs": [],
   "source": [
    "def sector_mask(shape,centre,radius,angle_range):\n",
    "    \"\"\"\n",
    "    Return a boolean mask for a circular sector. The start/stop angles in  \n",
    "    `angle_range` should be given in clockwise order.\n",
    "    \"\"\"\n",
    "\n",
    "    x,y = np.ogrid[:shape[0],:shape[1]]\n",
    "    cx,cy = centre\n",
    "    tmin,tmax = np.deg2rad(angle_range)\n",
    "\n",
    "    # ensure stop angle > start angle\n",
    "    if tmax < tmin:\n",
    "            tmax += 2*np.pi\n",
    "\n",
    "    # convert cartesian --> polar coordinates\n",
    "    r2 = (x-cx)*(x-cx) + (y-cy)*(y-cy)\n",
    "    theta = np.arctan2(x-cx,y-cy) - tmin\n",
    "\n",
    "    # wrap angles between 0 and 2*pi\n",
    "    theta %= (2*np.pi)\n",
    "\n",
    "    # circular mask\n",
    "    circmask = r2 <= radius*radius\n",
    "\n",
    "    # angular mask\n",
    "    anglemask = theta <= (tmax-tmin)\n",
    "\n",
    "    return circmask*anglemask"
   ]
  },
  {
   "cell_type": "markdown",
   "metadata": {},
   "source": [
    "Examples of using \"sector_mask\""
   ]
  },
  {
   "cell_type": "code",
   "execution_count": null,
   "metadata": {},
   "outputs": [],
   "source": [
    "vege_modis[0]"
   ]
  },
  {
   "cell_type": "code",
   "execution_count": null,
   "metadata": {},
   "outputs": [],
   "source": [
    "vege_modis.shape"
   ]
  },
  {
   "cell_type": "code",
   "execution_count": null,
   "metadata": {},
   "outputs": [],
   "source": [
    "vege_matrix = vege_modis.reshape(1200,1200)"
   ]
  },
  {
   "cell_type": "code",
   "execution_count": null,
   "metadata": {},
   "outputs": [],
   "source": [
    "vege_matrix.shape"
   ]
  },
  {
   "cell_type": "code",
   "execution_count": null,
   "metadata": {},
   "outputs": [],
   "source": [
    "vege_matrix"
   ]
  },
  {
   "cell_type": "code",
   "execution_count": null,
   "metadata": {},
   "outputs": [],
   "source": [
    "mask = sector_mask(vege_matrix.shape, (400, 600), 50, (0,36)) # need to consider the boundary cases"
   ]
  },
  {
   "cell_type": "code",
   "execution_count": null,
   "metadata": {},
   "outputs": [],
   "source": [
    "from matplotlib import pyplot as pp"
   ]
  },
  {
   "cell_type": "code",
   "execution_count": null,
   "metadata": {},
   "outputs": [],
   "source": [
    "pp.imshow(vege_matrix)\n",
    "pp.show()"
   ]
  },
  {
   "cell_type": "code",
   "execution_count": null,
   "metadata": {},
   "outputs": [],
   "source": [
    "test_matrix = vege_matrix.copy()\n",
    "test_matrix[~mask] = -3000\n",
    "pp.imshow(test_matrix)\n",
    "pp.show()"
   ]
  },
  {
   "cell_type": "code",
   "execution_count": null,
   "metadata": {},
   "outputs": [],
   "source": [
    "test_matrix.shape"
   ]
  },
  {
   "cell_type": "code",
   "execution_count": null,
   "metadata": {},
   "outputs": [],
   "source": [
    "test_matrix[mask]"
   ]
  },
  {
   "cell_type": "code",
   "execution_count": null,
   "metadata": {},
   "outputs": [],
   "source": [
    "test_matrix[mask].shape"
   ]
  },
  {
   "cell_type": "code",
   "execution_count": null,
   "metadata": {},
   "outputs": [],
   "source": [
    "a = test_matrix[mask]"
   ]
  },
  {
   "cell_type": "code",
   "execution_count": null,
   "metadata": {},
   "outputs": [],
   "source": [
    "a[:][a[:] == -3000] = -2000"
   ]
  },
  {
   "cell_type": "code",
   "execution_count": null,
   "metadata": {},
   "outputs": [],
   "source": [
    "np.mean(a)"
   ]
  },
  {
   "cell_type": "code",
   "execution_count": null,
   "metadata": {},
   "outputs": [],
   "source": [
    "a"
   ]
  },
  {
   "cell_type": "code",
   "execution_count": null,
   "metadata": {},
   "outputs": [],
   "source": [
    "b.shape"
   ]
  },
  {
   "cell_type": "code",
   "execution_count": null,
   "metadata": {},
   "outputs": [],
   "source": [
    "pp.imshow(vege_matrix)\n",
    "pp.show()"
   ]
  },
  {
   "cell_type": "markdown",
   "metadata": {},
   "source": [
    "### Process 16-day hdf file"
   ]
  },
  {
   "cell_type": "markdown",
   "metadata": {},
   "source": [
    "16-day for vegetation_data"
   ]
  },
  {
   "cell_type": "code",
   "execution_count": null,
   "metadata": {},
   "outputs": [],
   "source": [
    "def compute_feature_set(matrix, fill_value, new_value, row, colmn):\n",
    "    \"\"\"\n",
    "    Return a feature set of a single pixel with row number r and column number c in the 1200 * 1200 matrix MATRIX.\n",
    "    Feature set is computed based on the average value in 10 regions in one time frame for the feature SDS from FILENAMES.\n",
    "    Fill_value will be replaced by new_value in the feature matrix.\n",
    "    \"\"\"\n",
    "    feature_set = []\n",
    "    for i in range(10):\n",
    "        mask = sector_mask(vege_matrix.shape, (row, column), radius, (i, i + 36))\n",
    "        sector = vege_matrix[mask]\n",
    "        sector[:][sector[:] == fill_value] = new_value\n",
    "        mean_value = np.mean(sector)\n",
    "        feature_set.append(mean_value)\n",
    "    return feature_set"
   ]
  },
  {
   "cell_type": "code",
   "execution_count": null,
   "metadata": {},
   "outputs": [],
   "source": [
    "def vegetation_features(file, sds, fill_value, new_value, radius):\n",
    "    \"\"\"\n",
    "    Return feature sets of all pixels in the file FILE.\n",
    "    SDS is NDVI or EVI.\n",
    "    \n",
    "    \"\"\"\n",
    "    all_bands = []\n",
    "    with rio.open(file) as dataset:\n",
    "        for name in dataset.subdatasets:\n",
    "            if re.search(sds, name):\n",
    "                with rio.open(name) as subdataset:\n",
    "                    modis_meta = subdataset.profile\n",
    "                    all_bands.append(subdataset.read(1))\n",
    "    vege_modis = np.stack(all_bands)\n",
    "    vege_matrix = vege_modis[0].reshape(d_limit,d_limit)\n",
    "    feature_sets = np.zeros((d_limit, d_limit))\n",
    "    for r in range(d_limit):\n",
    "        for c in range(d_limit):\n",
    "            temp = compute_feature_set(vege_martrix, fill_value, new_value, r, c)\n",
    "            feature_sets[r][c] = temp"
   ]
  },
  {
   "cell_type": "markdown",
   "metadata": {},
   "source": [
    "Examples of using \"compute_feature_set\""
   ]
  },
  {
   "cell_type": "code",
   "execution_count": null,
   "metadata": {},
   "outputs": [],
   "source": [
    "aa = compute_feature_set(vege_fs85[0], \"NDVI\", -3000, -2000, 400, 600, 50)"
   ]
  },
  {
   "cell_type": "code",
   "execution_count": null,
   "metadata": {},
   "outputs": [],
   "source": [
    "aa"
   ]
  },
  {
   "cell_type": "code",
   "execution_count": null,
   "metadata": {},
   "outputs": [],
   "source": [
    "bb = compute_feature_set(vege_fs85[0], \"NDVI\", -3000, -2000, 100, 600, 50)"
   ]
  },
  {
   "cell_type": "code",
   "execution_count": null,
   "metadata": {},
   "outputs": [],
   "source": [
    "bb"
   ]
  },
  {
   "cell_type": "markdown",
   "metadata": {},
   "source": [
    "### Reduce dimension"
   ]
  },
  {
   "cell_type": "code",
   "execution_count": null,
   "metadata": {},
   "outputs": [],
   "source": [
    "def rebin(m, shape):\n",
    "    \"\"\"\n",
    "    Reshape the input matrix A to the shape SHAPE.\n",
    "    \"\"\"\n",
    "    sh = shape[0],m.shape[0]//shape[0],shape[1],m.shape[1]//shape[1]\n",
    "    return m.reshape(sh).mean(-1).mean(1)"
   ]
  },
  {
   "cell_type": "markdown",
   "metadata": {},
   "source": [
    "### Process 8-day files"
   ]
  },
  {
   "cell_type": "markdown",
   "metadata": {},
   "source": [
    "8-day for thermal_data, tem_data and NE_data"
   ]
  },
  {
   "cell_type": "code",
   "execution_count": null,
   "metadata": {},
   "outputs": [],
   "source": [
    "def compute_features_8day(filenames, num_file, sds, fill_value, new_value, radius):\n",
    "    \"\"\"\n",
    "    Combine every two 8-day files to compute feature sets. There are in total NUM_FILES in filenames. Used for 8-day datasets.\n",
    "    Use a queue to help iterate through every two files.\n",
    "    Input filenames is the result from using glob command\n",
    "    Result is a 3d np array with all the SDS features using 10-region method\n",
    "    \"\"\"\n",
    "    file_count = num_file / 2\n",
    "    \n",
    "    all_feature_sets = np.zeros((file_count, d_limit, d_limit))\n",
    "    \n",
    "    q = Queue(maxsize = num_file)\n",
    "    \n",
    "    for filename in filenames:\n",
    "        queue.put(filename)\n",
    "        \n",
    "    for i in range (file_count):\n",
    "        f1 = q.get()\n",
    "        f2 = q.get()\n",
    "        f1_bands = []\n",
    "        f2_bands = []\n",
    "        # open two files in a round\n",
    "        with rio.open(f1) as dataset:\n",
    "            for name in dataset.subdatasets:\n",
    "                if re.search(sds, name):\n",
    "                    with rio.open(name) as subdataset:\n",
    "                        modis_meta = subdataset.profile\n",
    "                        all_bands.append(subdataset.read(1))\n",
    "        f1_modis = np.stack(f1_bands)\n",
    "        f1_matrix = vege_modis[0].reshape(d_limit,d_limit)\n",
    "        with rio.open(f2) as dataset:\n",
    "            for name in dataset.subdatasets:\n",
    "                if re.search(sds, name):\n",
    "                    with rio.open(name) as subdataset:\n",
    "                        modis_meta = subdataset.profile\n",
    "                        all_bands.append(subdataset.read(1))\n",
    "        f2_modis = np.stack(f2_bands)\n",
    "        f2_matrix = vege_modis[0].reshape(d_limit,d_limit)\n",
    "        # combine two matrices\n",
    "        combined_matrix = (f1_matrix + f2_matrix) / 2\n",
    "        feature_sets = np.zeros((d_limit, d_limit))\n",
    "        for r in range(d_limit):\n",
    "            for c in range(d_limit):\n",
    "                temp = compute_feature_set(combined_matrix, fill_value, new_value, r, c)\n",
    "                feature_sets[r][c] = temp\n",
    "        \n",
    "        all_feature_sets[i] = feature_sets\n",
    "        return all_feature_sets"
   ]
  },
  {
   "cell_type": "markdown",
   "metadata": {},
   "source": [
    "Within a region, exact a small set of features, and ask is there any fire observed in the region in the past 16 days. Consider the intensity of fire, number of pixels with fire (a pixel with fire for 3 days are considered as 3 fire), for a region in the past 16 days."
   ]
  },
  {
   "cell_type": "code",
   "execution_count": null,
   "metadata": {},
   "outputs": [],
   "source": []
  }
 ],
 "metadata": {
  "kernelspec": {
   "display_name": "Python 3",
   "language": "python",
   "name": "python3"
  },
  "language_info": {
   "codemirror_mode": {
    "name": "ipython",
    "version": 3
   },
   "file_extension": ".py",
   "mimetype": "text/x-python",
   "name": "python",
   "nbconvert_exporter": "python",
   "pygments_lexer": "ipython3",
   "version": "3.7.4"
  }
 },
 "nbformat": 4,
 "nbformat_minor": 2
}
